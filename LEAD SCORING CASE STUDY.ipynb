{
 "cells": [
  {
   "cell_type": "markdown",
   "id": "bd06d84e",
   "metadata": {},
   "source": [
    "## LEAD SCORING CASE STUDY\n",
    "\n",
    "PROBLEM STATEMENT:\n",
    "\n",
    "An education company named X Education sells online courses to industry professionals.They need help to select the most promising leads, i.e. the leads that are most likely to convert into paying customers. The company requires us to build a model wherein you need to assign a lead score to each of the leads such that the customers with higher lead score have a higher conversion chance and the customers with lower lead score have a lower conversion chance. The CEO, in particular, has given a ballpark of the target lead conversion rate to be around 80%.\n",
    "\n",
    "\n",
    "\n"
   ]
  },
  {
   "cell_type": "markdown",
   "id": "599d3518",
   "metadata": {},
   "source": [
    "# Step 1: Importing and Cleaning Data\n"
   ]
  },
  {
   "cell_type": "code",
   "execution_count": 136,
   "id": "3ec2d4f5",
   "metadata": {},
   "outputs": [],
   "source": [
    "# Suppressing Warnings\n",
    "import warnings\n",
    "warnings.filterwarnings('ignore')"
   ]
  },
  {
   "cell_type": "code",
   "execution_count": 137,
   "id": "4e9b67c5",
   "metadata": {},
   "outputs": [],
   "source": [
    "# Importing Pandas and NumPy\n",
    "import pandas as pd\n",
    "import numpy as np\n",
    "import matplotlib.pyplot as plt\n",
    "import seaborn as sns\n",
    "import warnings\n",
    "%matplotlib inline\n",
    "warnings.filterwarnings(\"ignore\")\n",
    "pd.options.display.max_rows = 999\n",
    "from sklearn.linear_model import LinearRegression"
   ]
  },
  {
   "cell_type": "code",
   "execution_count": 138,
   "id": "76e87326",
   "metadata": {},
   "outputs": [
    {
     "data": {
      "text/html": [
       "<div>\n",
       "<style scoped>\n",
       "    .dataframe tbody tr th:only-of-type {\n",
       "        vertical-align: middle;\n",
       "    }\n",
       "\n",
       "    .dataframe tbody tr th {\n",
       "        vertical-align: top;\n",
       "    }\n",
       "\n",
       "    .dataframe thead th {\n",
       "        text-align: right;\n",
       "    }\n",
       "</style>\n",
       "<table border=\"1\" class=\"dataframe\">\n",
       "  <thead>\n",
       "    <tr style=\"text-align: right;\">\n",
       "      <th></th>\n",
       "      <th>Prospect ID</th>\n",
       "      <th>Lead Number</th>\n",
       "      <th>Lead Origin</th>\n",
       "      <th>Lead Source</th>\n",
       "      <th>Do Not Email</th>\n",
       "      <th>Do Not Call</th>\n",
       "      <th>Converted</th>\n",
       "      <th>TotalVisits</th>\n",
       "      <th>Total Time Spent on Website</th>\n",
       "      <th>Page Views Per Visit</th>\n",
       "      <th>...</th>\n",
       "      <th>Get updates on DM Content</th>\n",
       "      <th>Lead Profile</th>\n",
       "      <th>City</th>\n",
       "      <th>Asymmetrique Activity Index</th>\n",
       "      <th>Asymmetrique Profile Index</th>\n",
       "      <th>Asymmetrique Activity Score</th>\n",
       "      <th>Asymmetrique Profile Score</th>\n",
       "      <th>I agree to pay the amount through cheque</th>\n",
       "      <th>A free copy of Mastering The Interview</th>\n",
       "      <th>Last Notable Activity</th>\n",
       "    </tr>\n",
       "  </thead>\n",
       "  <tbody>\n",
       "    <tr>\n",
       "      <th>0</th>\n",
       "      <td>7927b2df-8bba-4d29-b9a2-b6e0beafe620</td>\n",
       "      <td>660737</td>\n",
       "      <td>API</td>\n",
       "      <td>Olark Chat</td>\n",
       "      <td>No</td>\n",
       "      <td>No</td>\n",
       "      <td>0</td>\n",
       "      <td>0.0</td>\n",
       "      <td>0</td>\n",
       "      <td>0.0</td>\n",
       "      <td>...</td>\n",
       "      <td>No</td>\n",
       "      <td>Select</td>\n",
       "      <td>Select</td>\n",
       "      <td>02.Medium</td>\n",
       "      <td>02.Medium</td>\n",
       "      <td>15.0</td>\n",
       "      <td>15.0</td>\n",
       "      <td>No</td>\n",
       "      <td>No</td>\n",
       "      <td>Modified</td>\n",
       "    </tr>\n",
       "    <tr>\n",
       "      <th>1</th>\n",
       "      <td>2a272436-5132-4136-86fa-dcc88c88f482</td>\n",
       "      <td>660728</td>\n",
       "      <td>API</td>\n",
       "      <td>Organic Search</td>\n",
       "      <td>No</td>\n",
       "      <td>No</td>\n",
       "      <td>0</td>\n",
       "      <td>5.0</td>\n",
       "      <td>674</td>\n",
       "      <td>2.5</td>\n",
       "      <td>...</td>\n",
       "      <td>No</td>\n",
       "      <td>Select</td>\n",
       "      <td>Select</td>\n",
       "      <td>02.Medium</td>\n",
       "      <td>02.Medium</td>\n",
       "      <td>15.0</td>\n",
       "      <td>15.0</td>\n",
       "      <td>No</td>\n",
       "      <td>No</td>\n",
       "      <td>Email Opened</td>\n",
       "    </tr>\n",
       "    <tr>\n",
       "      <th>2</th>\n",
       "      <td>8cc8c611-a219-4f35-ad23-fdfd2656bd8a</td>\n",
       "      <td>660727</td>\n",
       "      <td>Landing Page Submission</td>\n",
       "      <td>Direct Traffic</td>\n",
       "      <td>No</td>\n",
       "      <td>No</td>\n",
       "      <td>1</td>\n",
       "      <td>2.0</td>\n",
       "      <td>1532</td>\n",
       "      <td>2.0</td>\n",
       "      <td>...</td>\n",
       "      <td>No</td>\n",
       "      <td>Potential Lead</td>\n",
       "      <td>Mumbai</td>\n",
       "      <td>02.Medium</td>\n",
       "      <td>01.High</td>\n",
       "      <td>14.0</td>\n",
       "      <td>20.0</td>\n",
       "      <td>No</td>\n",
       "      <td>Yes</td>\n",
       "      <td>Email Opened</td>\n",
       "    </tr>\n",
       "    <tr>\n",
       "      <th>3</th>\n",
       "      <td>0cc2df48-7cf4-4e39-9de9-19797f9b38cc</td>\n",
       "      <td>660719</td>\n",
       "      <td>Landing Page Submission</td>\n",
       "      <td>Direct Traffic</td>\n",
       "      <td>No</td>\n",
       "      <td>No</td>\n",
       "      <td>0</td>\n",
       "      <td>1.0</td>\n",
       "      <td>305</td>\n",
       "      <td>1.0</td>\n",
       "      <td>...</td>\n",
       "      <td>No</td>\n",
       "      <td>Select</td>\n",
       "      <td>Mumbai</td>\n",
       "      <td>02.Medium</td>\n",
       "      <td>01.High</td>\n",
       "      <td>13.0</td>\n",
       "      <td>17.0</td>\n",
       "      <td>No</td>\n",
       "      <td>No</td>\n",
       "      <td>Modified</td>\n",
       "    </tr>\n",
       "    <tr>\n",
       "      <th>4</th>\n",
       "      <td>3256f628-e534-4826-9d63-4a8b88782852</td>\n",
       "      <td>660681</td>\n",
       "      <td>Landing Page Submission</td>\n",
       "      <td>Google</td>\n",
       "      <td>No</td>\n",
       "      <td>No</td>\n",
       "      <td>1</td>\n",
       "      <td>2.0</td>\n",
       "      <td>1428</td>\n",
       "      <td>1.0</td>\n",
       "      <td>...</td>\n",
       "      <td>No</td>\n",
       "      <td>Select</td>\n",
       "      <td>Mumbai</td>\n",
       "      <td>02.Medium</td>\n",
       "      <td>01.High</td>\n",
       "      <td>15.0</td>\n",
       "      <td>18.0</td>\n",
       "      <td>No</td>\n",
       "      <td>No</td>\n",
       "      <td>Modified</td>\n",
       "    </tr>\n",
       "  </tbody>\n",
       "</table>\n",
       "<p>5 rows × 37 columns</p>\n",
       "</div>"
      ],
      "text/plain": [
       "                            Prospect ID  Lead Number              Lead Origin  \\\n",
       "0  7927b2df-8bba-4d29-b9a2-b6e0beafe620       660737                      API   \n",
       "1  2a272436-5132-4136-86fa-dcc88c88f482       660728                      API   \n",
       "2  8cc8c611-a219-4f35-ad23-fdfd2656bd8a       660727  Landing Page Submission   \n",
       "3  0cc2df48-7cf4-4e39-9de9-19797f9b38cc       660719  Landing Page Submission   \n",
       "4  3256f628-e534-4826-9d63-4a8b88782852       660681  Landing Page Submission   \n",
       "\n",
       "      Lead Source Do Not Email Do Not Call  Converted  TotalVisits  \\\n",
       "0      Olark Chat           No          No          0          0.0   \n",
       "1  Organic Search           No          No          0          5.0   \n",
       "2  Direct Traffic           No          No          1          2.0   \n",
       "3  Direct Traffic           No          No          0          1.0   \n",
       "4          Google           No          No          1          2.0   \n",
       "\n",
       "   Total Time Spent on Website  Page Views Per Visit  ...  \\\n",
       "0                            0                   0.0  ...   \n",
       "1                          674                   2.5  ...   \n",
       "2                         1532                   2.0  ...   \n",
       "3                          305                   1.0  ...   \n",
       "4                         1428                   1.0  ...   \n",
       "\n",
       "  Get updates on DM Content    Lead Profile    City  \\\n",
       "0                        No          Select  Select   \n",
       "1                        No          Select  Select   \n",
       "2                        No  Potential Lead  Mumbai   \n",
       "3                        No          Select  Mumbai   \n",
       "4                        No          Select  Mumbai   \n",
       "\n",
       "  Asymmetrique Activity Index Asymmetrique Profile Index  \\\n",
       "0                   02.Medium                  02.Medium   \n",
       "1                   02.Medium                  02.Medium   \n",
       "2                   02.Medium                    01.High   \n",
       "3                   02.Medium                    01.High   \n",
       "4                   02.Medium                    01.High   \n",
       "\n",
       "  Asymmetrique Activity Score Asymmetrique Profile Score  \\\n",
       "0                        15.0                       15.0   \n",
       "1                        15.0                       15.0   \n",
       "2                        14.0                       20.0   \n",
       "3                        13.0                       17.0   \n",
       "4                        15.0                       18.0   \n",
       "\n",
       "  I agree to pay the amount through cheque  \\\n",
       "0                                       No   \n",
       "1                                       No   \n",
       "2                                       No   \n",
       "3                                       No   \n",
       "4                                       No   \n",
       "\n",
       "  A free copy of Mastering The Interview Last Notable Activity  \n",
       "0                                     No              Modified  \n",
       "1                                     No          Email Opened  \n",
       "2                                    Yes          Email Opened  \n",
       "3                                     No              Modified  \n",
       "4                                     No              Modified  \n",
       "\n",
       "[5 rows x 37 columns]"
      ]
     },
     "execution_count": 138,
     "metadata": {},
     "output_type": "execute_result"
    }
   ],
   "source": [
    "# Importing all datasets\n",
    "Ld = pd.read_csv(\"Leads.csv\")\n",
    "Ld.head(5)"
   ]
  },
  {
   "cell_type": "code",
   "execution_count": 139,
   "id": "8078aefb",
   "metadata": {},
   "outputs": [
    {
     "data": {
      "text/plain": [
       "(9240, 37)"
      ]
     },
     "execution_count": 139,
     "metadata": {},
     "output_type": "execute_result"
    }
   ],
   "source": [
    "Ld.shape"
   ]
  },
  {
   "cell_type": "code",
   "execution_count": 140,
   "id": "b1a137da",
   "metadata": {},
   "outputs": [
    {
     "name": "stdout",
     "output_type": "stream",
     "text": [
      "<class 'pandas.core.frame.DataFrame'>\n",
      "RangeIndex: 9240 entries, 0 to 9239\n",
      "Data columns (total 37 columns):\n",
      " #   Column                                         Non-Null Count  Dtype  \n",
      "---  ------                                         --------------  -----  \n",
      " 0   Prospect ID                                    9240 non-null   object \n",
      " 1   Lead Number                                    9240 non-null   int64  \n",
      " 2   Lead Origin                                    9240 non-null   object \n",
      " 3   Lead Source                                    9204 non-null   object \n",
      " 4   Do Not Email                                   9240 non-null   object \n",
      " 5   Do Not Call                                    9240 non-null   object \n",
      " 6   Converted                                      9240 non-null   int64  \n",
      " 7   TotalVisits                                    9103 non-null   float64\n",
      " 8   Total Time Spent on Website                    9240 non-null   int64  \n",
      " 9   Page Views Per Visit                           9103 non-null   float64\n",
      " 10  Last Activity                                  9137 non-null   object \n",
      " 11  Country                                        6779 non-null   object \n",
      " 12  Specialization                                 7802 non-null   object \n",
      " 13  How did you hear about X Education             7033 non-null   object \n",
      " 14  What is your current occupation                6550 non-null   object \n",
      " 15  What matters most to you in choosing a course  6531 non-null   object \n",
      " 16  Search                                         9240 non-null   object \n",
      " 17  Magazine                                       9240 non-null   object \n",
      " 18  Newspaper Article                              9240 non-null   object \n",
      " 19  X Education Forums                             9240 non-null   object \n",
      " 20  Newspaper                                      9240 non-null   object \n",
      " 21  Digital Advertisement                          9240 non-null   object \n",
      " 22  Through Recommendations                        9240 non-null   object \n",
      " 23  Receive More Updates About Our Courses         9240 non-null   object \n",
      " 24  Tags                                           5887 non-null   object \n",
      " 25  Lead Quality                                   4473 non-null   object \n",
      " 26  Update me on Supply Chain Content              9240 non-null   object \n",
      " 27  Get updates on DM Content                      9240 non-null   object \n",
      " 28  Lead Profile                                   6531 non-null   object \n",
      " 29  City                                           7820 non-null   object \n",
      " 30  Asymmetrique Activity Index                    5022 non-null   object \n",
      " 31  Asymmetrique Profile Index                     5022 non-null   object \n",
      " 32  Asymmetrique Activity Score                    5022 non-null   float64\n",
      " 33  Asymmetrique Profile Score                     5022 non-null   float64\n",
      " 34  I agree to pay the amount through cheque       9240 non-null   object \n",
      " 35  A free copy of Mastering The Interview         9240 non-null   object \n",
      " 36  Last Notable Activity                          9240 non-null   object \n",
      "dtypes: float64(4), int64(3), object(30)\n",
      "memory usage: 2.6+ MB\n"
     ]
    }
   ],
   "source": [
    "Ld.info()"
   ]
  },
  {
   "cell_type": "code",
   "execution_count": 141,
   "id": "b74980f3",
   "metadata": {},
   "outputs": [
    {
     "data": {
      "text/html": [
       "<div>\n",
       "<style scoped>\n",
       "    .dataframe tbody tr th:only-of-type {\n",
       "        vertical-align: middle;\n",
       "    }\n",
       "\n",
       "    .dataframe tbody tr th {\n",
       "        vertical-align: top;\n",
       "    }\n",
       "\n",
       "    .dataframe thead th {\n",
       "        text-align: right;\n",
       "    }\n",
       "</style>\n",
       "<table border=\"1\" class=\"dataframe\">\n",
       "  <thead>\n",
       "    <tr style=\"text-align: right;\">\n",
       "      <th></th>\n",
       "      <th>Lead Number</th>\n",
       "      <th>Converted</th>\n",
       "      <th>TotalVisits</th>\n",
       "      <th>Total Time Spent on Website</th>\n",
       "      <th>Page Views Per Visit</th>\n",
       "      <th>Asymmetrique Activity Score</th>\n",
       "      <th>Asymmetrique Profile Score</th>\n",
       "    </tr>\n",
       "  </thead>\n",
       "  <tbody>\n",
       "    <tr>\n",
       "      <th>count</th>\n",
       "      <td>9240.000000</td>\n",
       "      <td>9240.000000</td>\n",
       "      <td>9103.000000</td>\n",
       "      <td>9240.000000</td>\n",
       "      <td>9103.000000</td>\n",
       "      <td>5022.000000</td>\n",
       "      <td>5022.000000</td>\n",
       "    </tr>\n",
       "    <tr>\n",
       "      <th>mean</th>\n",
       "      <td>617188.435606</td>\n",
       "      <td>0.385390</td>\n",
       "      <td>3.445238</td>\n",
       "      <td>487.698268</td>\n",
       "      <td>2.362820</td>\n",
       "      <td>14.306252</td>\n",
       "      <td>16.344883</td>\n",
       "    </tr>\n",
       "    <tr>\n",
       "      <th>std</th>\n",
       "      <td>23405.995698</td>\n",
       "      <td>0.486714</td>\n",
       "      <td>4.854853</td>\n",
       "      <td>548.021466</td>\n",
       "      <td>2.161418</td>\n",
       "      <td>1.386694</td>\n",
       "      <td>1.811395</td>\n",
       "    </tr>\n",
       "    <tr>\n",
       "      <th>min</th>\n",
       "      <td>579533.000000</td>\n",
       "      <td>0.000000</td>\n",
       "      <td>0.000000</td>\n",
       "      <td>0.000000</td>\n",
       "      <td>0.000000</td>\n",
       "      <td>7.000000</td>\n",
       "      <td>11.000000</td>\n",
       "    </tr>\n",
       "    <tr>\n",
       "      <th>25%</th>\n",
       "      <td>596484.500000</td>\n",
       "      <td>0.000000</td>\n",
       "      <td>1.000000</td>\n",
       "      <td>12.000000</td>\n",
       "      <td>1.000000</td>\n",
       "      <td>14.000000</td>\n",
       "      <td>15.000000</td>\n",
       "    </tr>\n",
       "    <tr>\n",
       "      <th>50%</th>\n",
       "      <td>615479.000000</td>\n",
       "      <td>0.000000</td>\n",
       "      <td>3.000000</td>\n",
       "      <td>248.000000</td>\n",
       "      <td>2.000000</td>\n",
       "      <td>14.000000</td>\n",
       "      <td>16.000000</td>\n",
       "    </tr>\n",
       "    <tr>\n",
       "      <th>75%</th>\n",
       "      <td>637387.250000</td>\n",
       "      <td>1.000000</td>\n",
       "      <td>5.000000</td>\n",
       "      <td>936.000000</td>\n",
       "      <td>3.000000</td>\n",
       "      <td>15.000000</td>\n",
       "      <td>18.000000</td>\n",
       "    </tr>\n",
       "    <tr>\n",
       "      <th>max</th>\n",
       "      <td>660737.000000</td>\n",
       "      <td>1.000000</td>\n",
       "      <td>251.000000</td>\n",
       "      <td>2272.000000</td>\n",
       "      <td>55.000000</td>\n",
       "      <td>18.000000</td>\n",
       "      <td>20.000000</td>\n",
       "    </tr>\n",
       "  </tbody>\n",
       "</table>\n",
       "</div>"
      ],
      "text/plain": [
       "         Lead Number    Converted  TotalVisits  Total Time Spent on Website  \\\n",
       "count    9240.000000  9240.000000  9103.000000                  9240.000000   \n",
       "mean   617188.435606     0.385390     3.445238                   487.698268   \n",
       "std     23405.995698     0.486714     4.854853                   548.021466   \n",
       "min    579533.000000     0.000000     0.000000                     0.000000   \n",
       "25%    596484.500000     0.000000     1.000000                    12.000000   \n",
       "50%    615479.000000     0.000000     3.000000                   248.000000   \n",
       "75%    637387.250000     1.000000     5.000000                   936.000000   \n",
       "max    660737.000000     1.000000   251.000000                  2272.000000   \n",
       "\n",
       "       Page Views Per Visit  Asymmetrique Activity Score  \\\n",
       "count           9103.000000                  5022.000000   \n",
       "mean               2.362820                    14.306252   \n",
       "std                2.161418                     1.386694   \n",
       "min                0.000000                     7.000000   \n",
       "25%                1.000000                    14.000000   \n",
       "50%                2.000000                    14.000000   \n",
       "75%                3.000000                    15.000000   \n",
       "max               55.000000                    18.000000   \n",
       "\n",
       "       Asymmetrique Profile Score  \n",
       "count                 5022.000000  \n",
       "mean                    16.344883  \n",
       "std                      1.811395  \n",
       "min                     11.000000  \n",
       "25%                     15.000000  \n",
       "50%                     16.000000  \n",
       "75%                     18.000000  \n",
       "max                     20.000000  "
      ]
     },
     "execution_count": 141,
     "metadata": {},
     "output_type": "execute_result"
    }
   ],
   "source": [
    "Ld.describe()"
   ]
  },
  {
   "cell_type": "code",
   "execution_count": 142,
   "id": "a64e89a3",
   "metadata": {},
   "outputs": [
    {
     "data": {
      "text/plain": [
       "Prospect ID                                         0\n",
       "Lead Number                                         0\n",
       "Lead Origin                                         0\n",
       "Lead Source                                        36\n",
       "Do Not Email                                        0\n",
       "Do Not Call                                         0\n",
       "Converted                                           0\n",
       "TotalVisits                                       137\n",
       "Total Time Spent on Website                         0\n",
       "Page Views Per Visit                              137\n",
       "Last Activity                                     103\n",
       "Country                                          2461\n",
       "Specialization                                   1438\n",
       "How did you hear about X Education               2207\n",
       "What is your current occupation                  2690\n",
       "What matters most to you in choosing a course    2709\n",
       "Search                                              0\n",
       "Magazine                                            0\n",
       "Newspaper Article                                   0\n",
       "X Education Forums                                  0\n",
       "Newspaper                                           0\n",
       "Digital Advertisement                               0\n",
       "Through Recommendations                             0\n",
       "Receive More Updates About Our Courses              0\n",
       "Tags                                             3353\n",
       "Lead Quality                                     4767\n",
       "Update me on Supply Chain Content                   0\n",
       "Get updates on DM Content                           0\n",
       "Lead Profile                                     2709\n",
       "City                                             1420\n",
       "Asymmetrique Activity Index                      4218\n",
       "Asymmetrique Profile Index                       4218\n",
       "Asymmetrique Activity Score                      4218\n",
       "Asymmetrique Profile Score                       4218\n",
       "I agree to pay the amount through cheque            0\n",
       "A free copy of Mastering The Interview              0\n",
       "Last Notable Activity                               0\n",
       "dtype: int64"
      ]
     },
     "execution_count": 142,
     "metadata": {},
     "output_type": "execute_result"
    }
   ],
   "source": [
    "Ld.isnull().sum()"
   ]
  },
  {
   "cell_type": "code",
   "execution_count": 143,
   "id": "ae2c746c",
   "metadata": {},
   "outputs": [
    {
     "data": {
      "text/plain": [
       "Prospect ID                                       0.00\n",
       "Lead Number                                       0.00\n",
       "Lead Origin                                       0.00\n",
       "Lead Source                                       0.39\n",
       "Do Not Email                                      0.00\n",
       "Do Not Call                                       0.00\n",
       "Converted                                         0.00\n",
       "TotalVisits                                       1.48\n",
       "Total Time Spent on Website                       0.00\n",
       "Page Views Per Visit                              1.48\n",
       "Last Activity                                     1.11\n",
       "Country                                          26.63\n",
       "Specialization                                   15.56\n",
       "How did you hear about X Education               23.89\n",
       "What is your current occupation                  29.11\n",
       "What matters most to you in choosing a course    29.32\n",
       "Search                                            0.00\n",
       "Magazine                                          0.00\n",
       "Newspaper Article                                 0.00\n",
       "X Education Forums                                0.00\n",
       "Newspaper                                         0.00\n",
       "Digital Advertisement                             0.00\n",
       "Through Recommendations                           0.00\n",
       "Receive More Updates About Our Courses            0.00\n",
       "Tags                                             36.29\n",
       "Lead Quality                                     51.59\n",
       "Update me on Supply Chain Content                 0.00\n",
       "Get updates on DM Content                         0.00\n",
       "Lead Profile                                     29.32\n",
       "City                                             15.37\n",
       "Asymmetrique Activity Index                      45.65\n",
       "Asymmetrique Profile Index                       45.65\n",
       "Asymmetrique Activity Score                      45.65\n",
       "Asymmetrique Profile Score                       45.65\n",
       "I agree to pay the amount through cheque          0.00\n",
       "A free copy of Mastering The Interview            0.00\n",
       "Last Notable Activity                             0.00\n",
       "dtype: float64"
      ]
     },
     "execution_count": 143,
     "metadata": {},
     "output_type": "execute_result"
    }
   ],
   "source": [
    "# Checking the percentage of missing values\n",
    "round(100*(Ld.isnull().sum()/len(Ld.index)), 2)"
   ]
  },
  {
   "cell_type": "code",
   "execution_count": 144,
   "id": "5987f0b4",
   "metadata": {},
   "outputs": [
    {
     "data": {
      "text/plain": [
       "Prospect ID                                       0.00\n",
       "Lead Number                                       0.00\n",
       "Lead Origin                                       0.00\n",
       "Lead Source                                       0.39\n",
       "Do Not Email                                      0.00\n",
       "Do Not Call                                       0.00\n",
       "Converted                                         0.00\n",
       "TotalVisits                                       1.48\n",
       "Total Time Spent on Website                       0.00\n",
       "Page Views Per Visit                              1.48\n",
       "Last Activity                                     1.11\n",
       "Country                                          26.63\n",
       "Specialization                                   15.56\n",
       "How did you hear about X Education               23.89\n",
       "What is your current occupation                  29.11\n",
       "What matters most to you in choosing a course    29.32\n",
       "Search                                            0.00\n",
       "Magazine                                          0.00\n",
       "Newspaper Article                                 0.00\n",
       "X Education Forums                                0.00\n",
       "Newspaper                                         0.00\n",
       "Digital Advertisement                             0.00\n",
       "Through Recommendations                           0.00\n",
       "Receive More Updates About Our Courses            0.00\n",
       "Tags                                             36.29\n",
       "Lead Quality                                     51.59\n",
       "Update me on Supply Chain Content                 0.00\n",
       "Get updates on DM Content                         0.00\n",
       "Lead Profile                                     29.32\n",
       "City                                             15.37\n",
       "Asymmetrique Activity Index                      45.65\n",
       "Asymmetrique Profile Index                       45.65\n",
       "Asymmetrique Activity Score                      45.65\n",
       "Asymmetrique Profile Score                       45.65\n",
       "I agree to pay the amount through cheque          0.00\n",
       "A free copy of Mastering The Interview            0.00\n",
       "Last Notable Activity                             0.00\n",
       "dtype: float64"
      ]
     },
     "execution_count": 144,
     "metadata": {},
     "output_type": "execute_result"
    }
   ],
   "source": [
    "# Checking the percentage of missing values\n",
    "round(100*(Ld.isnull().sum()/len(Ld.index)), 2)"
   ]
  },
  {
   "cell_type": "code",
   "execution_count": 145,
   "id": "a0a3949b",
   "metadata": {},
   "outputs": [],
   "source": [
    "# Converting all the values to lower case\n",
    "Ld = Ld.applymap(lambda s:s.lower() if type(s) == str else s)"
   ]
  },
  {
   "cell_type": "code",
   "execution_count": 146,
   "id": "1794beab",
   "metadata": {},
   "outputs": [],
   "source": [
    "# Replacing 'Select' with NaN (Since it means no option is selected)\n",
    "Ld = Ld.replace('select',np.nan)"
   ]
  },
  {
   "cell_type": "code",
   "execution_count": 147,
   "id": "8eb39c5e",
   "metadata": {},
   "outputs": [
    {
     "data": {
      "text/plain": [
       "Prospect ID                                       0.00\n",
       "Lead Number                                       0.00\n",
       "Lead Origin                                       0.00\n",
       "Lead Source                                       0.39\n",
       "Do Not Email                                      0.00\n",
       "Do Not Call                                       0.00\n",
       "Converted                                         0.00\n",
       "TotalVisits                                       1.48\n",
       "Total Time Spent on Website                       0.00\n",
       "Page Views Per Visit                              1.48\n",
       "Last Activity                                     1.11\n",
       "Country                                          26.63\n",
       "Specialization                                   36.58\n",
       "How did you hear about X Education               78.46\n",
       "What is your current occupation                  29.11\n",
       "What matters most to you in choosing a course    29.32\n",
       "Search                                            0.00\n",
       "Magazine                                          0.00\n",
       "Newspaper Article                                 0.00\n",
       "X Education Forums                                0.00\n",
       "Newspaper                                         0.00\n",
       "Digital Advertisement                             0.00\n",
       "Through Recommendations                           0.00\n",
       "Receive More Updates About Our Courses            0.00\n",
       "Tags                                             36.29\n",
       "Lead Quality                                     51.59\n",
       "Update me on Supply Chain Content                 0.00\n",
       "Get updates on DM Content                         0.00\n",
       "Lead Profile                                     74.19\n",
       "City                                             39.71\n",
       "Asymmetrique Activity Index                      45.65\n",
       "Asymmetrique Profile Index                       45.65\n",
       "Asymmetrique Activity Score                      45.65\n",
       "Asymmetrique Profile Score                       45.65\n",
       "I agree to pay the amount through cheque          0.00\n",
       "A free copy of Mastering The Interview            0.00\n",
       "Last Notable Activity                             0.00\n",
       "dtype: float64"
      ]
     },
     "execution_count": 147,
     "metadata": {},
     "output_type": "execute_result"
    }
   ],
   "source": [
    "# Checking the percentage of missing values\n",
    "round(100*(Ld.isnull().sum()/len(Ld.index)), 2)"
   ]
  },
  {
   "cell_type": "code",
   "execution_count": 148,
   "id": "920b0289",
   "metadata": {},
   "outputs": [],
   "source": [
    "# Removing all the columns that have significantly high missing values\n",
    "Ld.drop([\"Asymmetrique Activity Index\",\"Asymmetrique Profile Index\",\n",
    "                 \"Asymmetrique Activity Score\",\"Asymmetrique Profile Score\", \"Lead Quality\", \n",
    "                 \"Tags\", \"How did you hear about X Education\",\n",
    "                \"What matters most to you in choosing a course\",\"Lead Profile\",\n",
    "                 \"Receive More Updates About Our Courses\",\"Update me on Supply Chain Content\",\n",
    "                \"Get updates on DM Content\",\"I agree to pay the amount through cheque\",\"Prospect ID\",\"City\",\n",
    "                 \"Magazine\",\"Lead Number\",\"Country\"],axis=1, inplace=True)"
   ]
  },
  {
   "cell_type": "code",
   "execution_count": 149,
   "id": "4aec283d",
   "metadata": {},
   "outputs": [
    {
     "data": {
      "text/plain": [
       "(9240, 19)"
      ]
     },
     "execution_count": 149,
     "metadata": {},
     "output_type": "execute_result"
    }
   ],
   "source": [
    "Ld.shape"
   ]
  },
  {
   "cell_type": "code",
   "execution_count": 150,
   "id": "f5d869c2",
   "metadata": {},
   "outputs": [
    {
     "data": {
      "text/plain": [
       "Lead Origin                                0.00\n",
       "Lead Source                                0.39\n",
       "Do Not Email                               0.00\n",
       "Do Not Call                                0.00\n",
       "Converted                                  0.00\n",
       "TotalVisits                                1.48\n",
       "Total Time Spent on Website                0.00\n",
       "Page Views Per Visit                       1.48\n",
       "Last Activity                              1.11\n",
       "Specialization                            36.58\n",
       "What is your current occupation           29.11\n",
       "Search                                     0.00\n",
       "Newspaper Article                          0.00\n",
       "X Education Forums                         0.00\n",
       "Newspaper                                  0.00\n",
       "Digital Advertisement                      0.00\n",
       "Through Recommendations                    0.00\n",
       "A free copy of Mastering The Interview     0.00\n",
       "Last Notable Activity                      0.00\n",
       "dtype: float64"
      ]
     },
     "execution_count": 150,
     "metadata": {},
     "output_type": "execute_result"
    }
   ],
   "source": [
    "# Rechecking the percentage of missing values\n",
    "round(100*(Ld.isnull().sum()/len(Ld.index)), 2)"
   ]
  },
  {
   "cell_type": "markdown",
   "id": "92dde2e8",
   "metadata": {},
   "source": [
    "Lead Source"
   ]
  },
  {
   "cell_type": "code",
   "execution_count": 151,
   "id": "081b46fe",
   "metadata": {},
   "outputs": [
    {
     "data": {
      "text/plain": [
       "google               2873\n",
       "direct traffic       2543\n",
       "olark chat           1755\n",
       "organic search       1154\n",
       "reference             534\n",
       "welingak website      142\n",
       "referral sites        125\n",
       "facebook               55\n",
       "bing                    6\n",
       "click2call              4\n",
       "social media            2\n",
       "live chat               2\n",
       "press_release           2\n",
       "pay per click ads       1\n",
       "blog                    1\n",
       "welearn                 1\n",
       "welearnblog_home        1\n",
       "youtubechannel          1\n",
       "testone                 1\n",
       "nc_edm                  1\n",
       "Name: Lead Source, dtype: int64"
      ]
     },
     "execution_count": 151,
     "metadata": {},
     "output_type": "execute_result"
    }
   ],
   "source": [
    "Ld[\"Lead Source\"].value_counts()"
   ]
  },
  {
   "cell_type": "code",
   "execution_count": 152,
   "id": "a38d86ce",
   "metadata": {},
   "outputs": [],
   "source": [
    "Ld[\"Lead Source\"].fillna(Ld[\"Lead Source\"].mode()[0],inplace=True)"
   ]
  },
  {
   "cell_type": "markdown",
   "id": "3c4e00c8",
   "metadata": {},
   "source": [
    "TotalVisits"
   ]
  },
  {
   "cell_type": "code",
   "execution_count": 153,
   "id": "6d14f077",
   "metadata": {},
   "outputs": [
    {
     "data": {
      "text/plain": [
       "0.0      2189\n",
       "2.0      1680\n",
       "3.0      1306\n",
       "4.0      1120\n",
       "5.0       783\n",
       "6.0       466\n",
       "1.0       395\n",
       "7.0       309\n",
       "8.0       224\n",
       "9.0       164\n",
       "10.0      114\n",
       "11.0       86\n",
       "13.0       48\n",
       "12.0       45\n",
       "14.0       36\n",
       "16.0       21\n",
       "15.0       18\n",
       "17.0       16\n",
       "18.0       15\n",
       "20.0       12\n",
       "19.0        9\n",
       "21.0        6\n",
       "23.0        6\n",
       "24.0        5\n",
       "25.0        5\n",
       "27.0        5\n",
       "22.0        3\n",
       "29.0        2\n",
       "28.0        2\n",
       "26.0        2\n",
       "141.0       1\n",
       "55.0        1\n",
       "30.0        1\n",
       "43.0        1\n",
       "74.0        1\n",
       "41.0        1\n",
       "54.0        1\n",
       "115.0       1\n",
       "251.0       1\n",
       "32.0        1\n",
       "42.0        1\n",
       "Name: TotalVisits, dtype: int64"
      ]
     },
     "execution_count": 153,
     "metadata": {},
     "output_type": "execute_result"
    }
   ],
   "source": [
    "Ld[\"TotalVisits\"].value_counts()"
   ]
  },
  {
   "cell_type": "code",
   "execution_count": 154,
   "id": "8cfb41de",
   "metadata": {},
   "outputs": [],
   "source": [
    "Ld[\"TotalVisits\"].fillna(0,inplace=True)"
   ]
  },
  {
   "cell_type": "markdown",
   "id": "537c8262",
   "metadata": {},
   "source": [
    "Page Views Per Visit"
   ]
  },
  {
   "cell_type": "code",
   "execution_count": 155,
   "id": "e62fd0be",
   "metadata": {},
   "outputs": [
    {
     "data": {
      "text/plain": [
       "0.00     2189\n",
       "2.00     1795\n",
       "3.00     1196\n",
       "4.00      896\n",
       "1.00      651\n",
       "5.00      517\n",
       "1.50      306\n",
       "6.00      244\n",
       "2.50      241\n",
       "7.00      133\n",
       "3.50       94\n",
       "8.00       86\n",
       "1.33       66\n",
       "1.67       60\n",
       "2.33       59\n",
       "2.67       54\n",
       "9.00       45\n",
       "4.50       43\n",
       "1.75       28\n",
       "3.33       27\n",
       "10.00      25\n",
       "1.25       23\n",
       "5.50       21\n",
       "2.25       19\n",
       "11.00      18\n",
       "3.67       16\n",
       "6.50       13\n",
       "1.80       13\n",
       "2.75       12\n",
       "1.40       11\n",
       "2.80        9\n",
       "14.00       9\n",
       "4.33        9\n",
       "2.20        9\n",
       "2.17        8\n",
       "1.60        8\n",
       "3.25        8\n",
       "2.40        6\n",
       "13.00       6\n",
       "12.00       5\n",
       "1.20        5\n",
       "1.83        4\n",
       "3.40        4\n",
       "2.60        4\n",
       "1.43        4\n",
       "15.00       4\n",
       "1.71        4\n",
       "1.78        3\n",
       "4.25        3\n",
       "16.00       3\n",
       "4.75        3\n",
       "5.67        3\n",
       "1.57        3\n",
       "1.38        3\n",
       "3.60        2\n",
       "1.23        2\n",
       "1.56        2\n",
       "5.40        2\n",
       "2.22        2\n",
       "7.50        2\n",
       "1.14        2\n",
       "5.25        2\n",
       "2.09        2\n",
       "3.20        2\n",
       "3.75        2\n",
       "5.33        2\n",
       "2.83        2\n",
       "2.71        2\n",
       "1.22        2\n",
       "2.13        1\n",
       "1.54        1\n",
       "6.67        1\n",
       "24.00       1\n",
       "2.14        1\n",
       "2.45        1\n",
       "3.29        1\n",
       "1.48        1\n",
       "3.82        1\n",
       "4.17        1\n",
       "1.63        1\n",
       "3.38        1\n",
       "1.17        1\n",
       "14.50       1\n",
       "3.80        1\n",
       "1.19        1\n",
       "3.17        1\n",
       "1.93        1\n",
       "11.50       1\n",
       "8.33        1\n",
       "55.00       1\n",
       "4.40        1\n",
       "8.21        1\n",
       "8.50        1\n",
       "2.63        1\n",
       "1.27        1\n",
       "2.57        1\n",
       "2.86        1\n",
       "3.91        1\n",
       "6.71        1\n",
       "3.57        1\n",
       "1.31        1\n",
       "2.90        1\n",
       "3.83        1\n",
       "1.45        1\n",
       "2.38        1\n",
       "1.86        1\n",
       "2.29        1\n",
       "1.21        1\n",
       "12.33       1\n",
       "3.43        1\n",
       "2.56        1\n",
       "6.33        1\n",
       "1.64        1\n",
       "2.08        1\n",
       "Name: Page Views Per Visit, dtype: int64"
      ]
     },
     "execution_count": 155,
     "metadata": {},
     "output_type": "execute_result"
    }
   ],
   "source": [
    "Ld[\"Page Views Per Visit\"].value_counts()"
   ]
  },
  {
   "cell_type": "code",
   "execution_count": 156,
   "id": "00f540b9",
   "metadata": {},
   "outputs": [],
   "source": [
    "Ld[\"Page Views Per Visit\"].fillna(0,inplace=True)\n"
   ]
  },
  {
   "cell_type": "markdown",
   "id": "6cf1a1a7",
   "metadata": {},
   "source": [
    "Last Activity "
   ]
  },
  {
   "cell_type": "code",
   "execution_count": 157,
   "id": "453474ff",
   "metadata": {},
   "outputs": [
    {
     "data": {
      "text/plain": [
       "email opened                    3437\n",
       "sms sent                        2745\n",
       "olark chat conversation          973\n",
       "page visited on website          640\n",
       "converted to lead                428\n",
       "email bounced                    326\n",
       "email link clicked               267\n",
       "form submitted on website        116\n",
       "unreachable                       93\n",
       "unsubscribed                      61\n",
       "had a phone conversation          30\n",
       "approached upfront                 9\n",
       "view in browser link clicked       6\n",
       "email received                     2\n",
       "email marked spam                  2\n",
       "visited booth in tradeshow         1\n",
       "resubscribed to emails             1\n",
       "Name: Last Activity, dtype: int64"
      ]
     },
     "execution_count": 157,
     "metadata": {},
     "output_type": "execute_result"
    }
   ],
   "source": [
    "Ld[\"Last Activity\"].value_counts()"
   ]
  },
  {
   "cell_type": "code",
   "execution_count": 158,
   "id": "8279fc11",
   "metadata": {},
   "outputs": [],
   "source": [
    "Ld[\"Last Activity\"].fillna(Ld[\"Last Activity\"].mode()[0],inplace=True)"
   ]
  },
  {
   "cell_type": "markdown",
   "id": "23cd46df",
   "metadata": {},
   "source": [
    "Specialization                            \n"
   ]
  },
  {
   "cell_type": "code",
   "execution_count": 159,
   "id": "0fc97fa0",
   "metadata": {},
   "outputs": [
    {
     "data": {
      "text/plain": [
       "finance management                   976\n",
       "human resource management            848\n",
       "marketing management                 838\n",
       "operations management                503\n",
       "business administration              403\n",
       "it projects management               366\n",
       "supply chain management              349\n",
       "banking, investment and insurance    338\n",
       "travel and tourism                   203\n",
       "media and advertising                203\n",
       "international business               178\n",
       "healthcare management                159\n",
       "hospitality management               114\n",
       "e-commerce                           112\n",
       "retail management                    100\n",
       "rural and agribusiness                73\n",
       "e-business                            57\n",
       "services excellence                   40\n",
       "Name: Specialization, dtype: int64"
      ]
     },
     "execution_count": 159,
     "metadata": {},
     "output_type": "execute_result"
    }
   ],
   "source": [
    "Ld[\"Specialization\"].value_counts()"
   ]
  },
  {
   "cell_type": "markdown",
   "id": "e5f1205f",
   "metadata": {},
   "source": [
    "What is your current occupation"
   ]
  },
  {
   "cell_type": "code",
   "execution_count": 160,
   "id": "c12f23bc",
   "metadata": {},
   "outputs": [
    {
     "data": {
      "text/plain": [
       "unemployed              5600\n",
       "working professional     706\n",
       "student                  210\n",
       "other                     16\n",
       "housewife                 10\n",
       "businessman                8\n",
       "Name: What is your current occupation, dtype: int64"
      ]
     },
     "execution_count": 160,
     "metadata": {},
     "output_type": "execute_result"
    }
   ],
   "source": [
    "Ld[\"What is your current occupation\"].value_counts()"
   ]
  },
  {
   "cell_type": "code",
   "execution_count": 161,
   "id": "97a64fea",
   "metadata": {},
   "outputs": [],
   "source": [
    "Ld['What is your current occupation'] = Ld['What is your current occupation'].fillna('not provided')\n"
   ]
  },
  {
   "cell_type": "code",
   "execution_count": 162,
   "id": "5d272b7e",
   "metadata": {},
   "outputs": [
    {
     "data": {
      "text/plain": [
       "Lead Origin                                  0\n",
       "Lead Source                                  0\n",
       "Do Not Email                                 0\n",
       "Do Not Call                                  0\n",
       "Converted                                    0\n",
       "TotalVisits                                  0\n",
       "Total Time Spent on Website                  0\n",
       "Page Views Per Visit                         0\n",
       "Last Activity                                0\n",
       "Specialization                            3380\n",
       "What is your current occupation              0\n",
       "Search                                       0\n",
       "Newspaper Article                            0\n",
       "X Education Forums                           0\n",
       "Newspaper                                    0\n",
       "Digital Advertisement                        0\n",
       "Through Recommendations                      0\n",
       "A free copy of Mastering The Interview       0\n",
       "Last Notable Activity                        0\n",
       "dtype: int64"
      ]
     },
     "execution_count": 162,
     "metadata": {},
     "output_type": "execute_result"
    }
   ],
   "source": [
    "Ld.isnull().sum()"
   ]
  },
  {
   "cell_type": "code",
   "execution_count": 163,
   "id": "fd2a939d",
   "metadata": {},
   "outputs": [
    {
     "data": {
      "text/plain": [
       "(9240, 19)"
      ]
     },
     "execution_count": 163,
     "metadata": {},
     "output_type": "execute_result"
    }
   ],
   "source": [
    "Ld.shape"
   ]
  },
  {
   "cell_type": "markdown",
   "id": "8884c250",
   "metadata": {},
   "source": [
    "# Step 2: EDA\n",
    "\n"
   ]
  },
  {
   "cell_type": "markdown",
   "id": "fff42120",
   "metadata": {},
   "source": [
    "UNIVARIATE ANALYISIS"
   ]
  },
  {
   "cell_type": "markdown",
   "id": "a441fa1f",
   "metadata": {},
   "source": [
    "Categorical Variables"
   ]
  },
  {
   "cell_type": "code",
   "execution_count": 164,
   "id": "dd002d01",
   "metadata": {},
   "outputs": [
    {
     "data": {
      "image/png": "[encoded data removed]",
      "text/plain": [
       "<Figure size 1440x2880 with 11 Axes>"
      ]
     },
     "metadata": {
      "needs_background": "light"
     },
     "output_type": "display_data"
    }
   ],
   "source": [
    "plt.figure(figsize = (20,40))\n",
    "\n",
    "plt.subplot(6,2,1)\n",
    "sns.countplot(Ld['Lead Origin'])\n",
    "plt.title('Lead Origin')\n",
    "\n",
    "plt.subplot(6,2,2)\n",
    "sns.countplot(Ld['Do Not Email'])\n",
    "plt.title('Do Not Email')\n",
    "\n",
    "plt.subplot(6,2,3)\n",
    "sns.countplot(Ld['Do Not Call'])\n",
    "plt.title('Do Not Call')\n",
    "\n",
    "\n",
    "plt.subplot(6,2,4)\n",
    "sns.countplot(Ld['Search'])\n",
    "plt.title('Search')\n",
    "\n",
    "plt.subplot(6,2,5)\n",
    "sns.countplot(Ld['Newspaper Article'])\n",
    "plt.title('Newspaper Article')\n",
    "\n",
    "plt.subplot(6,2,6)\n",
    "sns.countplot(Ld['X Education Forums'])\n",
    "plt.title('X Education Forums')\n",
    "\n",
    "plt.subplot(6,2,7)\n",
    "sns.countplot(Ld['Newspaper'])\n",
    "plt.title('Newspaper')\n",
    "\n",
    "plt.subplot(6,2,8)\n",
    "sns.countplot(Ld['Digital Advertisement'])\n",
    "plt.title('Digital Advertisement')\n",
    "\n",
    "plt.subplot(6,2,9)\n",
    "sns.countplot(Ld['Through Recommendations'])\n",
    "plt.title('Through Recommendations')\n",
    "\n",
    "plt.subplot(6,2,10)\n",
    "sns.countplot(Ld['A free copy of Mastering The Interview'])\n",
    "plt.title('A free copy of Mastering The Interview')\n",
    "\n",
    "plt.subplot(6,2,11)\n",
    "sns.countplot(Ld['Last Notable Activity']).tick_params(axis='x', rotation = 90)\n",
    "plt.title('Last Notable Activity')\n",
    "\n",
    "\n",
    "plt.show()\n"
   ]
  },
  {
   "cell_type": "code",
   "execution_count": 165,
   "id": "0bacf2bf",
   "metadata": {},
   "outputs": [
    {
     "data": {
      "image/png": "[encoded data removed]",
      "text/plain": [
       "<Figure size 432x288 with 1 Axes>"
      ]
     },
     "metadata": {
      "needs_background": "light"
     },
     "output_type": "display_data"
    }
   ],
   "source": [
    "sns.countplot(Ld['Lead Source']).tick_params(axis='x', rotation = 90)\n",
    "plt.title('Lead Source')\n",
    "plt.show()"
   ]
  },
  {
   "cell_type": "code",
   "execution_count": 166,
   "id": "136e7228",
   "metadata": {},
   "outputs": [
    {
     "data": {
      "image/png": "[encoded data removed]",
      "text/plain": [
       "<Figure size 1440x2160 with 3 Axes>"
      ]
     },
     "metadata": {
      "needs_background": "light"
     },
     "output_type": "display_data"
    }
   ],
   "source": [
    "plt.figure(figsize = (20,30))\n",
    "plt.subplot(2,2,1)\n",
    "sns.countplot(Ld['Specialization']).tick_params(axis='x', rotation = 90)\n",
    "plt.title('Specialization')\n",
    "plt.subplot(2,2,2)\n",
    "sns.countplot(Ld['What is your current occupation']).tick_params(axis='x', rotation = 90)\n",
    "plt.title('Current Occupation')\n",
    "plt.subplot(2,2,4)\n",
    "sns.countplot(Ld['Last Activity']).tick_params(axis='x', rotation = 90)\n",
    "plt.title('Last Activity')\n",
    "plt.show()"
   ]
  },
  {
   "cell_type": "code",
   "execution_count": 167,
   "id": "9ff1acc0",
   "metadata": {
    "scrolled": true
   },
   "outputs": [
    {
     "data": {
      "image/png": "[encoded data removed]",
      "text/plain": [
       "<Figure size 432x288 with 1 Axes>"
      ]
     },
     "metadata": {
      "needs_background": "light"
     },
     "output_type": "display_data"
    }
   ],
   "source": [
    "sns.countplot(Ld['Converted'])\n",
    "plt.title('Converted(\"Y variable\")')\n",
    "plt.show()"
   ]
  },
  {
   "cell_type": "markdown",
   "id": "533c48ed",
   "metadata": {},
   "source": [
    "Numerical Variables"
   ]
  },
  {
   "cell_type": "code",
   "execution_count": 168,
   "id": "409bd4c4",
   "metadata": {},
   "outputs": [
    {
     "data": {
      "image/png": "[encoded data removed]",
      "text/plain": [
       "<Figure size 720x720 with 3 Axes>"
      ]
     },
     "metadata": {
      "needs_background": "light"
     },
     "output_type": "display_data"
    }
   ],
   "source": [
    "plt.figure(figsize = (10,10))\n",
    "plt.subplot(221)\n",
    "plt.hist(Ld['TotalVisits'], bins = 200)\n",
    "plt.title('Total Visits')\n",
    "plt.xlim(0,25)\n",
    "\n",
    "plt.subplot(222)\n",
    "plt.hist(Ld['Total Time Spent on Website'], bins = 10)\n",
    "plt.title('Total Time Spent on Website')\n",
    "\n",
    "plt.subplot(223)\n",
    "plt.hist(Ld['Page Views Per Visit'], bins = 20)\n",
    "plt.title('Page Views Per Visit')\n",
    "plt.xlim(0,20)\n",
    "plt.show()"
   ]
  },
  {
   "cell_type": "markdown",
   "id": "7ae3ef13",
   "metadata": {},
   "source": [
    "BIVARIATE AND MULTIVARIATE ANALYSIS"
   ]
  },
  {
   "cell_type": "code",
   "execution_count": 169,
   "id": "362263d8",
   "metadata": {},
   "outputs": [
    {
     "data": {
      "image/png": "[encoded data removed]",
      "text/plain": [
       "<Figure size 720x360 with 2 Axes>"
      ]
     },
     "metadata": {
      "needs_background": "light"
     },
     "output_type": "display_data"
    }
   ],
   "source": [
    "plt.figure(figsize = (10,5))\n",
    "\n",
    "plt.subplot(1,2,1)\n",
    "sns.countplot(x='Lead Origin', hue='Converted', data= Ld).tick_params(axis='x', rotation = 90)\n",
    "plt.title('Lead Origin')\n",
    "\n",
    "plt.subplot(1,2,2)\n",
    "sns.countplot(x='Lead Source', hue='Converted', data= Ld).tick_params(axis='x', rotation = 90)\n",
    "plt.title('Lead Source')\n",
    "plt.show()"
   ]
  },
  {
   "cell_type": "code",
   "execution_count": 170,
   "id": "412eb729",
   "metadata": {},
   "outputs": [
    {
     "data": {
      "image/png": "[encoded data removed]",
      "text/plain": [
       "<Figure size 720x360 with 2 Axes>"
      ]
     },
     "metadata": {
      "needs_background": "light"
     },
     "output_type": "display_data"
    }
   ],
   "source": [
    "plt.figure(figsize = (10,5))\n",
    "\n",
    "plt.subplot(1,2,1)\n",
    "sns.countplot(x='Do Not Email', hue='Converted', data= Ld).tick_params(axis='x', rotation = 90)\n",
    "plt.title('Do Not Email')\n",
    "\n",
    "plt.subplot(1,2,2)\n",
    "sns.countplot(x='Do Not Call', hue='Converted', data= Ld).tick_params(axis='x', rotation = 90)\n",
    "plt.title('Do Not Call')\n",
    "plt.show()"
   ]
  },
  {
   "cell_type": "code",
   "execution_count": 171,
   "id": "00dc6d33",
   "metadata": {},
   "outputs": [
    {
     "data": {
      "image/png": "[encoded data removed]",
      "text/plain": [
       "<Figure size 720x360 with 1 Axes>"
      ]
     },
     "metadata": {
      "needs_background": "light"
     },
     "output_type": "display_data"
    }
   ],
   "source": [
    "plt.figure(figsize = (10,5))\n",
    "\n",
    "plt.subplot(1,2,1)\n",
    "sns.countplot(x='Last Activity', hue='Converted', data= Ld).tick_params(axis='x', rotation = 90)\n",
    "plt.title('Last Activity')\n",
    "\n",
    "\n",
    "\n",
    "plt.show()\n"
   ]
  },
  {
   "cell_type": "code",
   "execution_count": 172,
   "id": "1086a995",
   "metadata": {},
   "outputs": [
    {
     "data": {
      "image/png": "[encoded data removed]",
      "text/plain": [
       "<Figure size 720x360 with 2 Axes>"
      ]
     },
     "metadata": {
      "needs_background": "light"
     },
     "output_type": "display_data"
    }
   ],
   "source": [
    "plt.figure(figsize = (10,5))\n",
    "\n",
    "plt.subplot(1,2,1)\n",
    "sns.countplot(x='Specialization', hue='Converted', data= Ld).tick_params(axis='x', rotation = 90)\n",
    "plt.title('Specialization')\n",
    "\n",
    "plt.subplot(1,2,2)\n",
    "sns.countplot(x='What is your current occupation', hue='Converted', data= Ld).tick_params(axis='x', rotation = 90)\n",
    "plt.title('What is your current occupation')\n",
    "\n",
    "\n",
    "\n",
    "plt.show()"
   ]
  },
  {
   "cell_type": "code",
   "execution_count": 173,
   "id": "fe977191",
   "metadata": {},
   "outputs": [
    {
     "data": {
      "image/png": "[encoded data removed]",
      "text/plain": [
       "<Figure size 720x360 with 2 Axes>"
      ]
     },
     "metadata": {
      "needs_background": "light"
     },
     "output_type": "display_data"
    }
   ],
   "source": [
    "plt.figure(figsize = (10,5))\n",
    "\n",
    "plt.subplot(1,2,1)\n",
    "sns.countplot(x='Newspaper Article', hue='Converted', data= Ld).tick_params(axis='x', rotation = 90)\n",
    "plt.title('Newspaper Article')\n",
    "\n",
    "plt.subplot(1,2,2)\n",
    "sns.countplot(x='X Education Forums', hue='Converted', data= Ld).tick_params(axis='x', rotation = 90)\n",
    "plt.title('X Education Forums')\n",
    "plt.show()"
   ]
  },
  {
   "cell_type": "code",
   "execution_count": 174,
   "id": "99cb8d2c",
   "metadata": {},
   "outputs": [
    {
     "data": {
      "image/png": "[encoded data removed]",
      "text/plain": [
       "<Figure size 720x360 with 2 Axes>"
      ]
     },
     "metadata": {
      "needs_background": "light"
     },
     "output_type": "display_data"
    }
   ],
   "source": [
    "plt.figure(figsize = (10,5))\n",
    "\n",
    "plt.subplot(1,2,1)\n",
    "sns.countplot(x='Newspaper', hue='Converted', data= Ld).tick_params(axis='x', rotation = 90)\n",
    "plt.title('Newspaper')\n",
    "\n",
    "plt.subplot(1,2,2)\n",
    "sns.countplot(x='Digital Advertisement', hue='Converted', data= Ld).tick_params(axis='x', rotation = 90)\n",
    "plt.title('Digital Advertisement')\n",
    "plt.show()"
   ]
  },
  {
   "cell_type": "code",
   "execution_count": 175,
   "id": "4f0cb81a",
   "metadata": {},
   "outputs": [
    {
     "data": {
      "image/png": "[encoded data removed]",
      "text/plain": [
       "<Figure size 720x360 with 2 Axes>"
      ]
     },
     "metadata": {
      "needs_background": "light"
     },
     "output_type": "display_data"
    }
   ],
   "source": [
    "plt.figure(figsize = (10,5))\n",
    "\n",
    "plt.subplot(1,2,1)\n",
    "sns.countplot(x='Through Recommendations', hue='Converted', data= Ld).tick_params(axis='x', rotation = 90)\n",
    "plt.title('Through Recommendations')\n",
    "\n",
    "plt.subplot(1,2,2)\n",
    "sns.countplot(x='A free copy of Mastering The Interview', hue='Converted', data= Ld).tick_params(axis='x', rotation = 90)\n",
    "plt.title('A free copy of Mastering The Interview')\n",
    "plt.show()"
   ]
  },
  {
   "cell_type": "code",
   "execution_count": 176,
   "id": "dc906cb4",
   "metadata": {},
   "outputs": [
    {
     "data": {
      "image/png": "[encoded data removed]",
      "text/plain": [
       "<Figure size 432x288 with 1 Axes>"
      ]
     },
     "metadata": {
      "needs_background": "light"
     },
     "output_type": "display_data"
    }
   ],
   "source": [
    "sns.countplot(x='Last Notable Activity', hue='Converted', data= Ld).tick_params(axis='x', rotation = 90)\n",
    "plt.title('Last Notable Activity')\n",
    "plt.show()\n"
   ]
  },
  {
   "cell_type": "code",
   "execution_count": 177,
   "id": "737dcaba",
   "metadata": {},
   "outputs": [
    {
     "data": {
      "image/png": "[encoded data removed]",
      "text/plain": [
       "<Figure size 720x360 with 2 Axes>"
      ]
     },
     "metadata": {
      "needs_background": "light"
     },
     "output_type": "display_data"
    }
   ],
   "source": [
    "plt.figure(figsize=(10,5))\n",
    "sns.heatmap(Ld.corr())\n",
    "plt.show()"
   ]
  },
  {
   "cell_type": "code",
   "execution_count": 178,
   "id": "30998643",
   "metadata": {},
   "outputs": [
    {
     "data": {
      "text/html": [
       "<div>\n",
       "<style scoped>\n",
       "    .dataframe tbody tr th:only-of-type {\n",
       "        vertical-align: middle;\n",
       "    }\n",
       "\n",
       "    .dataframe tbody tr th {\n",
       "        vertical-align: top;\n",
       "    }\n",
       "\n",
       "    .dataframe thead th {\n",
       "        text-align: right;\n",
       "    }\n",
       "</style>\n",
       "<table border=\"1\" class=\"dataframe\">\n",
       "  <thead>\n",
       "    <tr style=\"text-align: right;\">\n",
       "      <th></th>\n",
       "      <th>TotalVisits</th>\n",
       "      <th>Total Time Spent on Website</th>\n",
       "      <th>Page Views Per Visit</th>\n",
       "    </tr>\n",
       "  </thead>\n",
       "  <tbody>\n",
       "    <tr>\n",
       "      <th>count</th>\n",
       "      <td>9240.000000</td>\n",
       "      <td>9240.000000</td>\n",
       "      <td>9240.000000</td>\n",
       "    </tr>\n",
       "    <tr>\n",
       "      <th>mean</th>\n",
       "      <td>3.394156</td>\n",
       "      <td>487.698268</td>\n",
       "      <td>2.327787</td>\n",
       "    </tr>\n",
       "    <tr>\n",
       "      <th>std</th>\n",
       "      <td>4.836682</td>\n",
       "      <td>548.021466</td>\n",
       "      <td>2.164258</td>\n",
       "    </tr>\n",
       "    <tr>\n",
       "      <th>min</th>\n",
       "      <td>0.000000</td>\n",
       "      <td>0.000000</td>\n",
       "      <td>0.000000</td>\n",
       "    </tr>\n",
       "    <tr>\n",
       "      <th>25%</th>\n",
       "      <td>0.000000</td>\n",
       "      <td>12.000000</td>\n",
       "      <td>0.000000</td>\n",
       "    </tr>\n",
       "    <tr>\n",
       "      <th>50%</th>\n",
       "      <td>3.000000</td>\n",
       "      <td>248.000000</td>\n",
       "      <td>2.000000</td>\n",
       "    </tr>\n",
       "    <tr>\n",
       "      <th>75%</th>\n",
       "      <td>5.000000</td>\n",
       "      <td>936.000000</td>\n",
       "      <td>3.000000</td>\n",
       "    </tr>\n",
       "    <tr>\n",
       "      <th>90%</th>\n",
       "      <td>7.000000</td>\n",
       "      <td>1380.000000</td>\n",
       "      <td>5.000000</td>\n",
       "    </tr>\n",
       "    <tr>\n",
       "      <th>99%</th>\n",
       "      <td>17.000000</td>\n",
       "      <td>1840.610000</td>\n",
       "      <td>9.000000</td>\n",
       "    </tr>\n",
       "    <tr>\n",
       "      <th>max</th>\n",
       "      <td>251.000000</td>\n",
       "      <td>2272.000000</td>\n",
       "      <td>55.000000</td>\n",
       "    </tr>\n",
       "  </tbody>\n",
       "</table>\n",
       "</div>"
      ],
      "text/plain": [
       "       TotalVisits  Total Time Spent on Website  Page Views Per Visit\n",
       "count  9240.000000                  9240.000000           9240.000000\n",
       "mean      3.394156                   487.698268              2.327787\n",
       "std       4.836682                   548.021466              2.164258\n",
       "min       0.000000                     0.000000              0.000000\n",
       "25%       0.000000                    12.000000              0.000000\n",
       "50%       3.000000                   248.000000              2.000000\n",
       "75%       5.000000                   936.000000              3.000000\n",
       "90%       7.000000                  1380.000000              5.000000\n",
       "99%      17.000000                  1840.610000              9.000000\n",
       "max     251.000000                  2272.000000             55.000000"
      ]
     },
     "execution_count": 178,
     "metadata": {},
     "output_type": "execute_result"
    }
   ],
   "source": [
    "numeric = Ld[['TotalVisits','Total Time Spent on Website','Page Views Per Visit']]\n",
    "numeric.describe(percentiles=[0.25,0.5,0.75,0.9,0.99])\n"
   ]
  },
  {
   "cell_type": "code",
   "execution_count": 179,
   "id": "8278f7bb",
   "metadata": {},
   "outputs": [],
   "source": [
    "# List of variables to map\n",
    "\n",
    "varlist =  ['Do Not Email','Do Not Call','Search','Newspaper Article','X Education Forums',\n",
    "            'Newspaper','Digital Advertisement','Through Recommendations','A free copy of Mastering The Interview'\n",
    "]\n",
    "\n",
    "# Defining the map function\n",
    "def binary_map(x):\n",
    "    return x.map({'yes': 1, \"no\": 0})\n",
    "\n",
    "# Applying the function to the housing list\n",
    "Ld[varlist] = Ld[varlist].apply(binary_map)"
   ]
  },
  {
   "cell_type": "code",
   "execution_count": 180,
   "id": "096843b7",
   "metadata": {},
   "outputs": [
    {
     "data": {
      "text/html": [
       "<div>\n",
       "<style scoped>\n",
       "    .dataframe tbody tr th:only-of-type {\n",
       "        vertical-align: middle;\n",
       "    }\n",
       "\n",
       "    .dataframe tbody tr th {\n",
       "        vertical-align: top;\n",
       "    }\n",
       "\n",
       "    .dataframe thead th {\n",
       "        text-align: right;\n",
       "    }\n",
       "</style>\n",
       "<table border=\"1\" class=\"dataframe\">\n",
       "  <thead>\n",
       "    <tr style=\"text-align: right;\">\n",
       "      <th></th>\n",
       "      <th>Lead Origin</th>\n",
       "      <th>Lead Source</th>\n",
       "      <th>Do Not Email</th>\n",
       "      <th>Do Not Call</th>\n",
       "      <th>Converted</th>\n",
       "      <th>TotalVisits</th>\n",
       "      <th>Total Time Spent on Website</th>\n",
       "      <th>Page Views Per Visit</th>\n",
       "      <th>Last Activity</th>\n",
       "      <th>Specialization</th>\n",
       "      <th>What is your current occupation</th>\n",
       "      <th>Search</th>\n",
       "      <th>Newspaper Article</th>\n",
       "      <th>X Education Forums</th>\n",
       "      <th>Newspaper</th>\n",
       "      <th>Digital Advertisement</th>\n",
       "      <th>Through Recommendations</th>\n",
       "      <th>A free copy of Mastering The Interview</th>\n",
       "      <th>Last Notable Activity</th>\n",
       "    </tr>\n",
       "  </thead>\n",
       "  <tbody>\n",
       "    <tr>\n",
       "      <th>0</th>\n",
       "      <td>api</td>\n",
       "      <td>olark chat</td>\n",
       "      <td>0</td>\n",
       "      <td>0</td>\n",
       "      <td>0</td>\n",
       "      <td>0.0</td>\n",
       "      <td>0</td>\n",
       "      <td>0.0</td>\n",
       "      <td>page visited on website</td>\n",
       "      <td>NaN</td>\n",
       "      <td>unemployed</td>\n",
       "      <td>0</td>\n",
       "      <td>0</td>\n",
       "      <td>0</td>\n",
       "      <td>0</td>\n",
       "      <td>0</td>\n",
       "      <td>0</td>\n",
       "      <td>0</td>\n",
       "      <td>modified</td>\n",
       "    </tr>\n",
       "    <tr>\n",
       "      <th>1</th>\n",
       "      <td>api</td>\n",
       "      <td>organic search</td>\n",
       "      <td>0</td>\n",
       "      <td>0</td>\n",
       "      <td>0</td>\n",
       "      <td>5.0</td>\n",
       "      <td>674</td>\n",
       "      <td>2.5</td>\n",
       "      <td>email opened</td>\n",
       "      <td>NaN</td>\n",
       "      <td>unemployed</td>\n",
       "      <td>0</td>\n",
       "      <td>0</td>\n",
       "      <td>0</td>\n",
       "      <td>0</td>\n",
       "      <td>0</td>\n",
       "      <td>0</td>\n",
       "      <td>0</td>\n",
       "      <td>email opened</td>\n",
       "    </tr>\n",
       "    <tr>\n",
       "      <th>2</th>\n",
       "      <td>landing page submission</td>\n",
       "      <td>direct traffic</td>\n",
       "      <td>0</td>\n",
       "      <td>0</td>\n",
       "      <td>1</td>\n",
       "      <td>2.0</td>\n",
       "      <td>1532</td>\n",
       "      <td>2.0</td>\n",
       "      <td>email opened</td>\n",
       "      <td>business administration</td>\n",
       "      <td>student</td>\n",
       "      <td>0</td>\n",
       "      <td>0</td>\n",
       "      <td>0</td>\n",
       "      <td>0</td>\n",
       "      <td>0</td>\n",
       "      <td>0</td>\n",
       "      <td>1</td>\n",
       "      <td>email opened</td>\n",
       "    </tr>\n",
       "    <tr>\n",
       "      <th>3</th>\n",
       "      <td>landing page submission</td>\n",
       "      <td>direct traffic</td>\n",
       "      <td>0</td>\n",
       "      <td>0</td>\n",
       "      <td>0</td>\n",
       "      <td>1.0</td>\n",
       "      <td>305</td>\n",
       "      <td>1.0</td>\n",
       "      <td>unreachable</td>\n",
       "      <td>media and advertising</td>\n",
       "      <td>unemployed</td>\n",
       "      <td>0</td>\n",
       "      <td>0</td>\n",
       "      <td>0</td>\n",
       "      <td>0</td>\n",
       "      <td>0</td>\n",
       "      <td>0</td>\n",
       "      <td>0</td>\n",
       "      <td>modified</td>\n",
       "    </tr>\n",
       "    <tr>\n",
       "      <th>4</th>\n",
       "      <td>landing page submission</td>\n",
       "      <td>google</td>\n",
       "      <td>0</td>\n",
       "      <td>0</td>\n",
       "      <td>1</td>\n",
       "      <td>2.0</td>\n",
       "      <td>1428</td>\n",
       "      <td>1.0</td>\n",
       "      <td>converted to lead</td>\n",
       "      <td>NaN</td>\n",
       "      <td>unemployed</td>\n",
       "      <td>0</td>\n",
       "      <td>0</td>\n",
       "      <td>0</td>\n",
       "      <td>0</td>\n",
       "      <td>0</td>\n",
       "      <td>0</td>\n",
       "      <td>0</td>\n",
       "      <td>modified</td>\n",
       "    </tr>\n",
       "  </tbody>\n",
       "</table>\n",
       "</div>"
      ],
      "text/plain": [
       "               Lead Origin     Lead Source  Do Not Email  Do Not Call  \\\n",
       "0                      api      olark chat             0            0   \n",
       "1                      api  organic search             0            0   \n",
       "2  landing page submission  direct traffic             0            0   \n",
       "3  landing page submission  direct traffic             0            0   \n",
       "4  landing page submission          google             0            0   \n",
       "\n",
       "   Converted  TotalVisits  Total Time Spent on Website  Page Views Per Visit  \\\n",
       "0          0          0.0                            0                   0.0   \n",
       "1          0          5.0                          674                   2.5   \n",
       "2          1          2.0                         1532                   2.0   \n",
       "3          0          1.0                          305                   1.0   \n",
       "4          1          2.0                         1428                   1.0   \n",
       "\n",
       "             Last Activity           Specialization  \\\n",
       "0  page visited on website                      NaN   \n",
       "1             email opened                      NaN   \n",
       "2             email opened  business administration   \n",
       "3              unreachable    media and advertising   \n",
       "4        converted to lead                      NaN   \n",
       "\n",
       "  What is your current occupation  Search  Newspaper Article  \\\n",
       "0                      unemployed       0                  0   \n",
       "1                      unemployed       0                  0   \n",
       "2                         student       0                  0   \n",
       "3                      unemployed       0                  0   \n",
       "4                      unemployed       0                  0   \n",
       "\n",
       "   X Education Forums  Newspaper  Digital Advertisement  \\\n",
       "0                   0          0                      0   \n",
       "1                   0          0                      0   \n",
       "2                   0          0                      0   \n",
       "3                   0          0                      0   \n",
       "4                   0          0                      0   \n",
       "\n",
       "   Through Recommendations  A free copy of Mastering The Interview  \\\n",
       "0                        0                                       0   \n",
       "1                        0                                       0   \n",
       "2                        0                                       1   \n",
       "3                        0                                       0   \n",
       "4                        0                                       0   \n",
       "\n",
       "  Last Notable Activity  \n",
       "0              modified  \n",
       "1          email opened  \n",
       "2          email opened  \n",
       "3              modified  \n",
       "4              modified  "
      ]
     },
     "execution_count": 180,
     "metadata": {},
     "output_type": "execute_result"
    }
   ],
   "source": [
    "Ld.head()"
   ]
  },
  {
   "cell_type": "markdown",
   "id": "bebc00c0",
   "metadata": {},
   "source": [
    "Dummy Variables"
   ]
  },
  {
   "cell_type": "code",
   "execution_count": 181,
   "id": "e156e71e",
   "metadata": {},
   "outputs": [],
   "source": [
    "# Creating a dummy variable for some of the categorical variables and dropping the first one.\n",
    "dummy1 = pd.get_dummies(Ld[[\"Lead Origin\",\"Lead Source\",\"Last Activity\",\"Specialization\",\"What is your current occupation\",\n",
    "        \"Last Notable Activity\"]], drop_first=True)\n",
    "\n",
    " #Adding the results to the master dataframe\n",
    "Ld = pd.concat([Ld, dummy1], axis=1)"
   ]
  },
  {
   "cell_type": "code",
   "execution_count": 182,
   "id": "d7eb90d5",
   "metadata": {},
   "outputs": [
    {
     "data": {
      "text/plain": [
       "(9240, 96)"
      ]
     },
     "execution_count": 182,
     "metadata": {},
     "output_type": "execute_result"
    }
   ],
   "source": [
    "Ld.shape"
   ]
  },
  {
   "cell_type": "code",
   "execution_count": 183,
   "id": "72315ec1",
   "metadata": {},
   "outputs": [],
   "source": [
    "# We have created dummies for the below variables, so we can drop them\n",
    "Ld = Ld.drop([\"Lead Origin\",\"Lead Source\",\"Last Activity\",\"Specialization\",\"What is your current occupation\",\n",
    "        \"Last Notable Activity\"], 1)"
   ]
  },
  {
   "cell_type": "code",
   "execution_count": 184,
   "id": "ec8557fb",
   "metadata": {},
   "outputs": [],
   "source": [
    "# Checking for outliers in the continuous variables\n",
    "nld = Ld[['TotalVisits','Total Time Spent on Website','Page Views Per Visit']]"
   ]
  },
  {
   "cell_type": "code",
   "execution_count": 185,
   "id": "edaf80fe",
   "metadata": {},
   "outputs": [
    {
     "data": {
      "text/html": [
       "<div>\n",
       "<style scoped>\n",
       "    .dataframe tbody tr th:only-of-type {\n",
       "        vertical-align: middle;\n",
       "    }\n",
       "\n",
       "    .dataframe tbody tr th {\n",
       "        vertical-align: top;\n",
       "    }\n",
       "\n",
       "    .dataframe thead th {\n",
       "        text-align: right;\n",
       "    }\n",
       "</style>\n",
       "<table border=\"1\" class=\"dataframe\">\n",
       "  <thead>\n",
       "    <tr style=\"text-align: right;\">\n",
       "      <th></th>\n",
       "      <th>TotalVisits</th>\n",
       "      <th>Total Time Spent on Website</th>\n",
       "      <th>Page Views Per Visit</th>\n",
       "    </tr>\n",
       "  </thead>\n",
       "  <tbody>\n",
       "    <tr>\n",
       "      <th>count</th>\n",
       "      <td>9240.000000</td>\n",
       "      <td>9240.000000</td>\n",
       "      <td>9240.000000</td>\n",
       "    </tr>\n",
       "    <tr>\n",
       "      <th>mean</th>\n",
       "      <td>3.394156</td>\n",
       "      <td>487.698268</td>\n",
       "      <td>2.327787</td>\n",
       "    </tr>\n",
       "    <tr>\n",
       "      <th>std</th>\n",
       "      <td>4.836682</td>\n",
       "      <td>548.021466</td>\n",
       "      <td>2.164258</td>\n",
       "    </tr>\n",
       "    <tr>\n",
       "      <th>min</th>\n",
       "      <td>0.000000</td>\n",
       "      <td>0.000000</td>\n",
       "      <td>0.000000</td>\n",
       "    </tr>\n",
       "    <tr>\n",
       "      <th>25%</th>\n",
       "      <td>0.000000</td>\n",
       "      <td>12.000000</td>\n",
       "      <td>0.000000</td>\n",
       "    </tr>\n",
       "    <tr>\n",
       "      <th>50%</th>\n",
       "      <td>3.000000</td>\n",
       "      <td>248.000000</td>\n",
       "      <td>2.000000</td>\n",
       "    </tr>\n",
       "    <tr>\n",
       "      <th>75%</th>\n",
       "      <td>5.000000</td>\n",
       "      <td>936.000000</td>\n",
       "      <td>3.000000</td>\n",
       "    </tr>\n",
       "    <tr>\n",
       "      <th>90%</th>\n",
       "      <td>7.000000</td>\n",
       "      <td>1380.000000</td>\n",
       "      <td>5.000000</td>\n",
       "    </tr>\n",
       "    <tr>\n",
       "      <th>95%</th>\n",
       "      <td>10.000000</td>\n",
       "      <td>1562.000000</td>\n",
       "      <td>6.000000</td>\n",
       "    </tr>\n",
       "    <tr>\n",
       "      <th>99%</th>\n",
       "      <td>17.000000</td>\n",
       "      <td>1840.610000</td>\n",
       "      <td>9.000000</td>\n",
       "    </tr>\n",
       "    <tr>\n",
       "      <th>max</th>\n",
       "      <td>251.000000</td>\n",
       "      <td>2272.000000</td>\n",
       "      <td>55.000000</td>\n",
       "    </tr>\n",
       "  </tbody>\n",
       "</table>\n",
       "</div>"
      ],
      "text/plain": [
       "       TotalVisits  Total Time Spent on Website  Page Views Per Visit\n",
       "count  9240.000000                  9240.000000           9240.000000\n",
       "mean      3.394156                   487.698268              2.327787\n",
       "std       4.836682                   548.021466              2.164258\n",
       "min       0.000000                     0.000000              0.000000\n",
       "25%       0.000000                    12.000000              0.000000\n",
       "50%       3.000000                   248.000000              2.000000\n",
       "75%       5.000000                   936.000000              3.000000\n",
       "90%       7.000000                  1380.000000              5.000000\n",
       "95%      10.000000                  1562.000000              6.000000\n",
       "99%      17.000000                  1840.610000              9.000000\n",
       "max     251.000000                  2272.000000             55.000000"
      ]
     },
     "execution_count": 185,
     "metadata": {},
     "output_type": "execute_result"
    }
   ],
   "source": [
    "# Checking outliers at 25%, 50%, 75%, 90%, 95% and 99%\n",
    "nld.describe(percentiles=[.25, .5, .75, .90, .95, .99])"
   ]
  },
  {
   "cell_type": "markdown",
   "id": "080339b7",
   "metadata": {},
   "source": [
    "From the distribution shown above, you can see that there no outliers in your data. The numbers are gradually increasing."
   ]
  },
  {
   "cell_type": "markdown",
   "id": "26354920",
   "metadata": {},
   "source": [
    "# Step 3: Train-Test Split & Logistic Regression Model Building"
   ]
  },
  {
   "cell_type": "code",
   "execution_count": 186,
   "id": "3c8a2cee",
   "metadata": {},
   "outputs": [],
   "source": [
    "from sklearn.model_selection import train_test_split\n",
    "\n",
    "# Putting response variable to y\n",
    "y = Ld['Converted']\n",
    "\n",
    "y.head()\n",
    "\n",
    "X=Ld.drop('Converted', axis=1)"
   ]
  },
  {
   "cell_type": "code",
   "execution_count": 187,
   "id": "4325dde6",
   "metadata": {},
   "outputs": [],
   "source": [
    "# Splitting the data into train and test\n",
    "X_train, X_test, y_train, y_test = train_test_split(X, y, train_size=0.7, test_size=0.3, random_state=100)"
   ]
  },
  {
   "cell_type": "code",
   "execution_count": 188,
   "id": "1432de78",
   "metadata": {},
   "outputs": [
    {
     "data": {
      "text/html": [
       "<div>\n",
       "<style scoped>\n",
       "    .dataframe tbody tr th:only-of-type {\n",
       "        vertical-align: middle;\n",
       "    }\n",
       "\n",
       "    .dataframe tbody tr th {\n",
       "        vertical-align: top;\n",
       "    }\n",
       "\n",
       "    .dataframe thead th {\n",
       "        text-align: right;\n",
       "    }\n",
       "</style>\n",
       "<table border=\"1\" class=\"dataframe\">\n",
       "  <thead>\n",
       "    <tr style=\"text-align: right;\">\n",
       "      <th></th>\n",
       "      <th>Do Not Email</th>\n",
       "      <th>Do Not Call</th>\n",
       "      <th>TotalVisits</th>\n",
       "      <th>Total Time Spent on Website</th>\n",
       "      <th>Page Views Per Visit</th>\n",
       "      <th>Search</th>\n",
       "      <th>Newspaper Article</th>\n",
       "      <th>X Education Forums</th>\n",
       "      <th>Newspaper</th>\n",
       "      <th>Digital Advertisement</th>\n",
       "      <th>...</th>\n",
       "      <th>Last Notable Activity_form submitted on website</th>\n",
       "      <th>Last Notable Activity_had a phone conversation</th>\n",
       "      <th>Last Notable Activity_modified</th>\n",
       "      <th>Last Notable Activity_olark chat conversation</th>\n",
       "      <th>Last Notable Activity_page visited on website</th>\n",
       "      <th>Last Notable Activity_resubscribed to emails</th>\n",
       "      <th>Last Notable Activity_sms sent</th>\n",
       "      <th>Last Notable Activity_unreachable</th>\n",
       "      <th>Last Notable Activity_unsubscribed</th>\n",
       "      <th>Last Notable Activity_view in browser link clicked</th>\n",
       "    </tr>\n",
       "  </thead>\n",
       "  <tbody>\n",
       "    <tr>\n",
       "      <th>1871</th>\n",
       "      <td>-0.291638</td>\n",
       "      <td>-0.017587</td>\n",
       "      <td>-0.645678</td>\n",
       "      <td>-0.885371</td>\n",
       "      <td>-1.062143</td>\n",
       "      <td>-0.041274</td>\n",
       "      <td>-0.017587</td>\n",
       "      <td>-0.012435</td>\n",
       "      <td>-0.012435</td>\n",
       "      <td>-0.021542</td>\n",
       "      <td>...</td>\n",
       "      <td>0</td>\n",
       "      <td>0</td>\n",
       "      <td>0</td>\n",
       "      <td>0</td>\n",
       "      <td>0</td>\n",
       "      <td>0</td>\n",
       "      <td>0</td>\n",
       "      <td>0</td>\n",
       "      <td>0</td>\n",
       "      <td>0</td>\n",
       "    </tr>\n",
       "    <tr>\n",
       "      <th>6795</th>\n",
       "      <td>-0.291638</td>\n",
       "      <td>-0.017587</td>\n",
       "      <td>0.109111</td>\n",
       "      <td>0.005716</td>\n",
       "      <td>-0.452487</td>\n",
       "      <td>-0.041274</td>\n",
       "      <td>-0.017587</td>\n",
       "      <td>-0.012435</td>\n",
       "      <td>-0.012435</td>\n",
       "      <td>-0.021542</td>\n",
       "      <td>...</td>\n",
       "      <td>0</td>\n",
       "      <td>0</td>\n",
       "      <td>0</td>\n",
       "      <td>0</td>\n",
       "      <td>0</td>\n",
       "      <td>0</td>\n",
       "      <td>0</td>\n",
       "      <td>0</td>\n",
       "      <td>0</td>\n",
       "      <td>0</td>\n",
       "    </tr>\n",
       "    <tr>\n",
       "      <th>3516</th>\n",
       "      <td>-0.291638</td>\n",
       "      <td>-0.017587</td>\n",
       "      <td>0.297808</td>\n",
       "      <td>-0.691418</td>\n",
       "      <td>0.083827</td>\n",
       "      <td>-0.041274</td>\n",
       "      <td>-0.017587</td>\n",
       "      <td>-0.012435</td>\n",
       "      <td>-0.012435</td>\n",
       "      <td>-0.021542</td>\n",
       "      <td>...</td>\n",
       "      <td>0</td>\n",
       "      <td>0</td>\n",
       "      <td>0</td>\n",
       "      <td>0</td>\n",
       "      <td>0</td>\n",
       "      <td>0</td>\n",
       "      <td>0</td>\n",
       "      <td>0</td>\n",
       "      <td>0</td>\n",
       "      <td>0</td>\n",
       "    </tr>\n",
       "    <tr>\n",
       "      <th>8105</th>\n",
       "      <td>-0.291638</td>\n",
       "      <td>-0.017587</td>\n",
       "      <td>0.297808</td>\n",
       "      <td>1.365219</td>\n",
       "      <td>1.229797</td>\n",
       "      <td>-0.041274</td>\n",
       "      <td>-0.017587</td>\n",
       "      <td>-0.012435</td>\n",
       "      <td>-0.012435</td>\n",
       "      <td>-0.021542</td>\n",
       "      <td>...</td>\n",
       "      <td>0</td>\n",
       "      <td>0</td>\n",
       "      <td>0</td>\n",
       "      <td>0</td>\n",
       "      <td>0</td>\n",
       "      <td>0</td>\n",
       "      <td>1</td>\n",
       "      <td>0</td>\n",
       "      <td>0</td>\n",
       "      <td>0</td>\n",
       "    </tr>\n",
       "    <tr>\n",
       "      <th>3934</th>\n",
       "      <td>-0.291638</td>\n",
       "      <td>-0.017587</td>\n",
       "      <td>-0.645678</td>\n",
       "      <td>-0.885371</td>\n",
       "      <td>-1.062143</td>\n",
       "      <td>-0.041274</td>\n",
       "      <td>-0.017587</td>\n",
       "      <td>-0.012435</td>\n",
       "      <td>-0.012435</td>\n",
       "      <td>-0.021542</td>\n",
       "      <td>...</td>\n",
       "      <td>0</td>\n",
       "      <td>0</td>\n",
       "      <td>1</td>\n",
       "      <td>0</td>\n",
       "      <td>0</td>\n",
       "      <td>0</td>\n",
       "      <td>0</td>\n",
       "      <td>0</td>\n",
       "      <td>0</td>\n",
       "      <td>0</td>\n",
       "    </tr>\n",
       "  </tbody>\n",
       "</table>\n",
       "<p>5 rows × 89 columns</p>\n",
       "</div>"
      ],
      "text/plain": [
       "      Do Not Email  Do Not Call  TotalVisits  Total Time Spent on Website  \\\n",
       "1871     -0.291638    -0.017587    -0.645678                    -0.885371   \n",
       "6795     -0.291638    -0.017587     0.109111                     0.005716   \n",
       "3516     -0.291638    -0.017587     0.297808                    -0.691418   \n",
       "8105     -0.291638    -0.017587     0.297808                     1.365219   \n",
       "3934     -0.291638    -0.017587    -0.645678                    -0.885371   \n",
       "\n",
       "      Page Views Per Visit    Search  Newspaper Article  X Education Forums  \\\n",
       "1871             -1.062143 -0.041274          -0.017587           -0.012435   \n",
       "6795             -0.452487 -0.041274          -0.017587           -0.012435   \n",
       "3516              0.083827 -0.041274          -0.017587           -0.012435   \n",
       "8105              1.229797 -0.041274          -0.017587           -0.012435   \n",
       "3934             -1.062143 -0.041274          -0.017587           -0.012435   \n",
       "\n",
       "      Newspaper  Digital Advertisement  ...  \\\n",
       "1871  -0.012435              -0.021542  ...   \n",
       "6795  -0.012435              -0.021542  ...   \n",
       "3516  -0.012435              -0.021542  ...   \n",
       "8105  -0.012435              -0.021542  ...   \n",
       "3934  -0.012435              -0.021542  ...   \n",
       "\n",
       "      Last Notable Activity_form submitted on website  \\\n",
       "1871                                                0   \n",
       "6795                                                0   \n",
       "3516                                                0   \n",
       "8105                                                0   \n",
       "3934                                                0   \n",
       "\n",
       "      Last Notable Activity_had a phone conversation  \\\n",
       "1871                                               0   \n",
       "6795                                               0   \n",
       "3516                                               0   \n",
       "8105                                               0   \n",
       "3934                                               0   \n",
       "\n",
       "      Last Notable Activity_modified  \\\n",
       "1871                               0   \n",
       "6795                               0   \n",
       "3516                               0   \n",
       "8105                               0   \n",
       "3934                               1   \n",
       "\n",
       "      Last Notable Activity_olark chat conversation  \\\n",
       "1871                                              0   \n",
       "6795                                              0   \n",
       "3516                                              0   \n",
       "8105                                              0   \n",
       "3934                                              0   \n",
       "\n",
       "      Last Notable Activity_page visited on website  \\\n",
       "1871                                              0   \n",
       "6795                                              0   \n",
       "3516                                              0   \n",
       "8105                                              0   \n",
       "3934                                              0   \n",
       "\n",
       "      Last Notable Activity_resubscribed to emails  \\\n",
       "1871                                             0   \n",
       "6795                                             0   \n",
       "3516                                             0   \n",
       "8105                                             0   \n",
       "3934                                             0   \n",
       "\n",
       "      Last Notable Activity_sms sent  Last Notable Activity_unreachable  \\\n",
       "1871                               0                                  0   \n",
       "6795                               0                                  0   \n",
       "3516                               0                                  0   \n",
       "8105                               1                                  0   \n",
       "3934                               0                                  0   \n",
       "\n",
       "      Last Notable Activity_unsubscribed  \\\n",
       "1871                                   0   \n",
       "6795                                   0   \n",
       "3516                                   0   \n",
       "8105                                   0   \n",
       "3934                                   0   \n",
       "\n",
       "      Last Notable Activity_view in browser link clicked  \n",
       "1871                                                  0   \n",
       "6795                                                  0   \n",
       "3516                                                  0   \n",
       "8105                                                  0   \n",
       "3934                                                  0   \n",
       "\n",
       "[5 rows x 89 columns]"
      ]
     },
     "execution_count": 188,
     "metadata": {},
     "output_type": "execute_result"
    }
   ],
   "source": [
    "\n",
    "from sklearn.preprocessing import StandardScaler\n",
    "\n",
    "scaler = StandardScaler()\n",
    "\n",
    "num_cols=X_train.select_dtypes(include=['float64', 'int64']).columns\n",
    "\n",
    "X_train[num_cols] = scaler.fit_transform(X_train[num_cols])\n",
    "\n",
    "\n",
    "X_train.head()"
   ]
  },
  {
   "cell_type": "markdown",
   "id": "55cdcb04",
   "metadata": {},
   "source": [
    "# Step 4:  Model Building using Stats Model & RFE"
   ]
  },
  {
   "cell_type": "code",
   "execution_count": 189,
   "id": "7714d11e",
   "metadata": {},
   "outputs": [],
   "source": [
    "import statsmodels.api as sm\n",
    "from sklearn.linear_model import LogisticRegression\n",
    "logreg = LogisticRegression()\n",
    "# Import RFE\n",
    "from sklearn.feature_selection import RFE\n",
    "# Running RFE with 15 variables as output\n",
    "rfe = RFE(logreg, n_features_to_select=15)\n",
    "rfe = rfe.fit(X_train, y_train)"
   ]
  },
  {
   "cell_type": "code",
   "execution_count": 190,
   "id": "bb4b0274",
   "metadata": {
    "scrolled": true
   },
   "outputs": [
    {
     "data": {
      "text/plain": [
       "array([False, False, False,  True, False, False, False, False, False,\n",
       "       False, False, False, False,  True, False, False, False, False,\n",
       "        True, False, False, False, False, False,  True, False, False,\n",
       "       False,  True, False, False, False, False,  True, False, False,\n",
       "        True, False, False, False, False, False,  True, False, False,\n",
       "       False,  True, False, False, False, False, False, False, False,\n",
       "       False, False, False, False, False, False, False, False, False,\n",
       "       False, False, False, False, False,  True,  True, False, False,\n",
       "       False,  True, False, False, False, False, False, False,  True,\n",
       "        True, False, False, False, False,  True, False, False])"
      ]
     },
     "execution_count": 190,
     "metadata": {},
     "output_type": "execute_result"
    }
   ],
   "source": [
    "rfe.support_"
   ]
  },
  {
   "cell_type": "code",
   "execution_count": 191,
   "id": "79f9bcb4",
   "metadata": {},
   "outputs": [
    {
     "data": {
      "text/plain": [
       "[('Do Not Email', False, 40),\n",
       " ('Do Not Call', False, 60),\n",
       " ('TotalVisits', False, 51),\n",
       " ('Total Time Spent on Website', True, 1),\n",
       " ('Page Views Per Visit', False, 55),\n",
       " ('Search', False, 72),\n",
       " ('Newspaper Article', False, 59),\n",
       " ('X Education Forums', False, 66),\n",
       " ('Newspaper', False, 61),\n",
       " ('Digital Advertisement', False, 52),\n",
       " ('Through Recommendations', False, 71),\n",
       " ('A free copy of Mastering The Interview', False, 67),\n",
       " ('Lead Origin_landing page submission', False, 21),\n",
       " ('Lead Origin_lead add form', True, 1),\n",
       " ('Lead Origin_lead import', False, 42),\n",
       " ('Lead Origin_quick add form', False, 44),\n",
       " ('Lead Source_blog', False, 48),\n",
       " ('Lead Source_click2call', False, 18),\n",
       " ('Lead Source_direct traffic', True, 1),\n",
       " ('Lead Source_facebook', False, 3),\n",
       " ('Lead Source_google', False, 2),\n",
       " ('Lead Source_live chat', False, 50),\n",
       " ('Lead Source_nc_edm', False, 11),\n",
       " ('Lead Source_olark chat', False, 9),\n",
       " ('Lead Source_organic search', True, 1),\n",
       " ('Lead Source_pay per click ads', False, 47),\n",
       " ('Lead Source_press_release', False, 57),\n",
       " ('Lead Source_reference', False, 45),\n",
       " ('Lead Source_referral sites', True, 1),\n",
       " ('Lead Source_social media', False, 30),\n",
       " ('Lead Source_testone', False, 74),\n",
       " ('Lead Source_welearn', False, 43),\n",
       " ('Lead Source_welearnblog_home', False, 53),\n",
       " ('Lead Source_welingak website', True, 1),\n",
       " ('Lead Source_youtubechannel', False, 62),\n",
       " ('Last Activity_converted to lead', False, 8),\n",
       " ('Last Activity_email bounced', True, 1),\n",
       " ('Last Activity_email link clicked', False, 31),\n",
       " ('Last Activity_email marked spam', False, 46),\n",
       " ('Last Activity_email opened', False, 64),\n",
       " ('Last Activity_email received', False, 63),\n",
       " ('Last Activity_form submitted on website', False, 32),\n",
       " ('Last Activity_had a phone conversation', True, 1),\n",
       " ('Last Activity_olark chat conversation', False, 4),\n",
       " ('Last Activity_page visited on website', False, 14),\n",
       " ('Last Activity_resubscribed to emails', False, 7),\n",
       " ('Last Activity_sms sent', True, 1),\n",
       " ('Last Activity_unreachable', False, 15),\n",
       " ('Last Activity_unsubscribed', False, 58),\n",
       " ('Last Activity_view in browser link clicked', False, 41),\n",
       " ('Last Activity_visited booth in tradeshow', False, 56),\n",
       " ('Specialization_business administration', False, 37),\n",
       " ('Specialization_e-business', False, 26),\n",
       " ('Specialization_e-commerce', False, 17),\n",
       " ('Specialization_finance management', False, 20),\n",
       " ('Specialization_healthcare management', False, 19),\n",
       " ('Specialization_hospitality management', False, 5),\n",
       " ('Specialization_human resource management', False, 28),\n",
       " ('Specialization_international business', False, 54),\n",
       " ('Specialization_it projects management', False, 22),\n",
       " ('Specialization_marketing management', False, 24),\n",
       " ('Specialization_media and advertising', False, 23),\n",
       " ('Specialization_operations management', False, 29),\n",
       " ('Specialization_retail management', False, 65),\n",
       " ('Specialization_rural and agribusiness', False, 10),\n",
       " ('Specialization_services excellence', False, 36),\n",
       " ('Specialization_supply chain management', False, 27),\n",
       " ('Specialization_travel and tourism', False, 25),\n",
       " ('What is your current occupation_housewife', True, 1),\n",
       " ('What is your current occupation_not provided', True, 1),\n",
       " ('What is your current occupation_other', False, 35),\n",
       " ('What is your current occupation_student', False, 34),\n",
       " ('What is your current occupation_unemployed', False, 33),\n",
       " ('What is your current occupation_working professional', True, 1),\n",
       " ('Last Notable Activity_email bounced', False, 39),\n",
       " ('Last Notable Activity_email link clicked', False, 12),\n",
       " ('Last Notable Activity_email marked spam', False, 49),\n",
       " ('Last Notable Activity_email opened', False, 16),\n",
       " ('Last Notable Activity_email received', False, 68),\n",
       " ('Last Notable Activity_form submitted on website', False, 69),\n",
       " ('Last Notable Activity_had a phone conversation', True, 1),\n",
       " ('Last Notable Activity_modified', True, 1),\n",
       " ('Last Notable Activity_olark chat conversation', False, 13),\n",
       " ('Last Notable Activity_page visited on website', False, 38),\n",
       " ('Last Notable Activity_resubscribed to emails', False, 6),\n",
       " ('Last Notable Activity_sms sent', False, 70),\n",
       " ('Last Notable Activity_unreachable', True, 1),\n",
       " ('Last Notable Activity_unsubscribed', False, 73),\n",
       " ('Last Notable Activity_view in browser link clicked', False, 75)]"
      ]
     },
     "execution_count": 191,
     "metadata": {},
     "output_type": "execute_result"
    }
   ],
   "source": [
    "list(zip(X_train.columns, rfe.support_, rfe.ranking_))"
   ]
  },
  {
   "cell_type": "code",
   "execution_count": 192,
   "id": "f76344cd",
   "metadata": {},
   "outputs": [
    {
     "data": {
      "text/plain": [
       "Index(['Total Time Spent on Website', 'Lead Origin_lead add form',\n",
       "       'Lead Source_direct traffic', 'Lead Source_organic search',\n",
       "       'Lead Source_referral sites', 'Lead Source_welingak website',\n",
       "       'Last Activity_email bounced', 'Last Activity_had a phone conversation',\n",
       "       'Last Activity_sms sent', 'What is your current occupation_housewife',\n",
       "       'What is your current occupation_not provided',\n",
       "       'What is your current occupation_working professional',\n",
       "       'Last Notable Activity_had a phone conversation',\n",
       "       'Last Notable Activity_modified', 'Last Notable Activity_unreachable'],\n",
       "      dtype='object')"
      ]
     },
     "execution_count": 192,
     "metadata": {},
     "output_type": "execute_result"
    }
   ],
   "source": [
    "#list of RFE supported columns\n",
    "col = X_train.columns[rfe.support_]\n",
    "col"
   ]
  },
  {
   "cell_type": "code",
   "execution_count": 193,
   "id": "d6fdc55a",
   "metadata": {},
   "outputs": [
    {
     "data": {
      "text/plain": [
       "Index(['Do Not Email', 'Do Not Call', 'TotalVisits', 'Page Views Per Visit',\n",
       "       'Search', 'Newspaper Article', 'X Education Forums', 'Newspaper',\n",
       "       'Digital Advertisement', 'Through Recommendations',\n",
       "       'A free copy of Mastering The Interview',\n",
       "       'Lead Origin_landing page submission', 'Lead Origin_lead import',\n",
       "       'Lead Origin_quick add form', 'Lead Source_blog',\n",
       "       'Lead Source_click2call', 'Lead Source_facebook', 'Lead Source_google',\n",
       "       'Lead Source_live chat', 'Lead Source_nc_edm', 'Lead Source_olark chat',\n",
       "       'Lead Source_pay per click ads', 'Lead Source_press_release',\n",
       "       'Lead Source_reference', 'Lead Source_social media',\n",
       "       'Lead Source_testone', 'Lead Source_welearn',\n",
       "       'Lead Source_welearnblog_home', 'Lead Source_youtubechannel',\n",
       "       'Last Activity_converted to lead', 'Last Activity_email link clicked',\n",
       "       'Last Activity_email marked spam', 'Last Activity_email opened',\n",
       "       'Last Activity_email received',\n",
       "       'Last Activity_form submitted on website',\n",
       "       'Last Activity_olark chat conversation',\n",
       "       'Last Activity_page visited on website',\n",
       "       'Last Activity_resubscribed to emails', 'Last Activity_unreachable',\n",
       "       'Last Activity_unsubscribed',\n",
       "       'Last Activity_view in browser link clicked',\n",
       "       'Last Activity_visited booth in tradeshow',\n",
       "       'Specialization_business administration', 'Specialization_e-business',\n",
       "       'Specialization_e-commerce', 'Specialization_finance management',\n",
       "       'Specialization_healthcare management',\n",
       "       'Specialization_hospitality management',\n",
       "       'Specialization_human resource management',\n",
       "       'Specialization_international business',\n",
       "       'Specialization_it projects management',\n",
       "       'Specialization_marketing management',\n",
       "       'Specialization_media and advertising',\n",
       "       'Specialization_operations management',\n",
       "       'Specialization_retail management',\n",
       "       'Specialization_rural and agribusiness',\n",
       "       'Specialization_services excellence',\n",
       "       'Specialization_supply chain management',\n",
       "       'Specialization_travel and tourism',\n",
       "       'What is your current occupation_other',\n",
       "       'What is your current occupation_student',\n",
       "       'What is your current occupation_unemployed',\n",
       "       'Last Notable Activity_email bounced',\n",
       "       'Last Notable Activity_email link clicked',\n",
       "       'Last Notable Activity_email marked spam',\n",
       "       'Last Notable Activity_email opened',\n",
       "       'Last Notable Activity_email received',\n",
       "       'Last Notable Activity_form submitted on website',\n",
       "       'Last Notable Activity_olark chat conversation',\n",
       "       'Last Notable Activity_page visited on website',\n",
       "       'Last Notable Activity_resubscribed to emails',\n",
       "       'Last Notable Activity_sms sent', 'Last Notable Activity_unsubscribed',\n",
       "       'Last Notable Activity_view in browser link clicked'],\n",
       "      dtype='object')"
      ]
     },
     "execution_count": 193,
     "metadata": {},
     "output_type": "execute_result"
    }
   ],
   "source": [
    "X_train.columns[~rfe.support_]"
   ]
  },
  {
   "cell_type": "code",
   "execution_count": 194,
   "id": "ca872456",
   "metadata": {},
   "outputs": [
    {
     "data": {
      "text/html": [
       "<table class=\"simpletable\">\n",
       "<caption>Generalized Linear Model Regression Results</caption>\n",
       "<tr>\n",
       "  <th>Dep. Variable:</th>       <td>Converted</td>    <th>  No. Observations:  </th>  <td>  6468</td> \n",
       "</tr>\n",
       "<tr>\n",
       "  <th>Model:</th>                  <td>GLM</td>       <th>  Df Residuals:      </th>  <td>  6452</td> \n",
       "</tr>\n",
       "<tr>\n",
       "  <th>Model Family:</th>        <td>Binomial</td>     <th>  Df Model:          </th>  <td>    15</td> \n",
       "</tr>\n",
       "<tr>\n",
       "  <th>Link Function:</th>         <td>Logit</td>      <th>  Scale:             </th> <td>  1.0000</td>\n",
       "</tr>\n",
       "<tr>\n",
       "  <th>Method:</th>                <td>IRLS</td>       <th>  Log-Likelihood:    </th> <td> -2670.1</td>\n",
       "</tr>\n",
       "<tr>\n",
       "  <th>Date:</th>            <td>Tue, 18 Oct 2022</td> <th>  Deviance:          </th> <td>  5340.3</td>\n",
       "</tr>\n",
       "<tr>\n",
       "  <th>Time:</th>                <td>20:50:32</td>     <th>  Pearson chi2:      </th> <td>6.64e+03</td>\n",
       "</tr>\n",
       "<tr>\n",
       "  <th>No. Iterations:</th>         <td>21</td>        <th>  Pseudo R-squ. (CS):</th>  <td>0.3957</td> \n",
       "</tr>\n",
       "<tr>\n",
       "  <th>Covariance Type:</th>     <td>nonrobust</td>    <th>                     </th>     <td> </td>   \n",
       "</tr>\n",
       "</table>\n",
       "<table class=\"simpletable\">\n",
       "<tr>\n",
       "                            <td></td>                              <th>coef</th>     <th>std err</th>      <th>z</th>      <th>P>|z|</th>  <th>[0.025</th>    <th>0.975]</th>  \n",
       "</tr>\n",
       "<tr>\n",
       "  <th>const</th>                                                <td>   -0.5066</td> <td>    0.063</td> <td>   -8.102</td> <td> 0.000</td> <td>   -0.629</td> <td>   -0.384</td>\n",
       "</tr>\n",
       "<tr>\n",
       "  <th>Total Time Spent on Website</th>                          <td>    0.9630</td> <td>    0.036</td> <td>   27.091</td> <td> 0.000</td> <td>    0.893</td> <td>    1.033</td>\n",
       "</tr>\n",
       "<tr>\n",
       "  <th>Lead Origin_lead add form</th>                            <td>    2.9067</td> <td>    0.188</td> <td>   15.498</td> <td> 0.000</td> <td>    2.539</td> <td>    3.274</td>\n",
       "</tr>\n",
       "<tr>\n",
       "  <th>Lead Source_direct traffic</th>                           <td>   -0.7191</td> <td>    0.082</td> <td>   -8.767</td> <td> 0.000</td> <td>   -0.880</td> <td>   -0.558</td>\n",
       "</tr>\n",
       "<tr>\n",
       "  <th>Lead Source_organic search</th>                           <td>   -0.4998</td> <td>    0.106</td> <td>   -4.709</td> <td> 0.000</td> <td>   -0.708</td> <td>   -0.292</td>\n",
       "</tr>\n",
       "<tr>\n",
       "  <th>Lead Source_referral sites</th>                           <td>   -0.4417</td> <td>    0.308</td> <td>   -1.435</td> <td> 0.151</td> <td>   -1.045</td> <td>    0.162</td>\n",
       "</tr>\n",
       "<tr>\n",
       "  <th>Lead Source_welingak website</th>                         <td>    1.8463</td> <td>    0.742</td> <td>    2.489</td> <td> 0.013</td> <td>    0.392</td> <td>    3.300</td>\n",
       "</tr>\n",
       "<tr>\n",
       "  <th>Last Activity_email bounced</th>                          <td>   -1.3673</td> <td>    0.295</td> <td>   -4.634</td> <td> 0.000</td> <td>   -1.946</td> <td>   -0.789</td>\n",
       "</tr>\n",
       "<tr>\n",
       "  <th>Last Activity_had a phone conversation</th>               <td>    1.1459</td> <td>    0.894</td> <td>    1.282</td> <td> 0.200</td> <td>   -0.606</td> <td>    2.898</td>\n",
       "</tr>\n",
       "<tr>\n",
       "  <th>Last Activity_sms sent</th>                               <td>    1.1777</td> <td>    0.073</td> <td>   16.094</td> <td> 0.000</td> <td>    1.034</td> <td>    1.321</td>\n",
       "</tr>\n",
       "<tr>\n",
       "  <th>What is your current occupation_housewife</th>            <td>   22.7598</td> <td>  1.4e+04</td> <td>    0.002</td> <td> 0.999</td> <td>-2.74e+04</td> <td> 2.74e+04</td>\n",
       "</tr>\n",
       "<tr>\n",
       "  <th>What is your current occupation_not provided</th>         <td>   -1.0493</td> <td>    0.086</td> <td>  -12.239</td> <td> 0.000</td> <td>   -1.217</td> <td>   -0.881</td>\n",
       "</tr>\n",
       "<tr>\n",
       "  <th>What is your current occupation_working professional</th> <td>    2.5448</td> <td>    0.187</td> <td>   13.630</td> <td> 0.000</td> <td>    2.179</td> <td>    2.911</td>\n",
       "</tr>\n",
       "<tr>\n",
       "  <th>Last Notable Activity_had a phone conversation</th>       <td>    1.9595</td> <td>    1.424</td> <td>    1.376</td> <td> 0.169</td> <td>   -0.832</td> <td>    4.751</td>\n",
       "</tr>\n",
       "<tr>\n",
       "  <th>Last Notable Activity_modified</th>                       <td>   -0.8995</td> <td>    0.079</td> <td>  -11.432</td> <td> 0.000</td> <td>   -1.054</td> <td>   -0.745</td>\n",
       "</tr>\n",
       "<tr>\n",
       "  <th>Last Notable Activity_unreachable</th>                    <td>    1.6895</td> <td>    0.532</td> <td>    3.173</td> <td> 0.002</td> <td>    0.646</td> <td>    2.733</td>\n",
       "</tr>\n",
       "</table>"
      ],
      "text/plain": [
       "<class 'statsmodels.iolib.summary.Summary'>\n",
       "\"\"\"\n",
       "                 Generalized Linear Model Regression Results                  \n",
       "==============================================================================\n",
       "Dep. Variable:              Converted   No. Observations:                 6468\n",
       "Model:                            GLM   Df Residuals:                     6452\n",
       "Model Family:                Binomial   Df Model:                           15\n",
       "Link Function:                  Logit   Scale:                          1.0000\n",
       "Method:                          IRLS   Log-Likelihood:                -2670.1\n",
       "Date:                Tue, 18 Oct 2022   Deviance:                       5340.3\n",
       "Time:                        20:50:32   Pearson chi2:                 6.64e+03\n",
       "No. Iterations:                    21   Pseudo R-squ. (CS):             0.3957\n",
       "Covariance Type:            nonrobust                                         \n",
       "========================================================================================================================\n",
       "                                                           coef    std err          z      P>|z|      [0.025      0.975]\n",
       "------------------------------------------------------------------------------------------------------------------------\n",
       "const                                                   -0.5066      0.063     -8.102      0.000      -0.629      -0.384\n",
       "Total Time Spent on Website                              0.9630      0.036     27.091      0.000       0.893       1.033\n",
       "Lead Origin_lead add form                                2.9067      0.188     15.498      0.000       2.539       3.274\n",
       "Lead Source_direct traffic                              -0.7191      0.082     -8.767      0.000      -0.880      -0.558\n",
       "Lead Source_organic search                              -0.4998      0.106     -4.709      0.000      -0.708      -0.292\n",
       "Lead Source_referral sites                              -0.4417      0.308     -1.435      0.151      -1.045       0.162\n",
       "Lead Source_welingak website                             1.8463      0.742      2.489      0.013       0.392       3.300\n",
       "Last Activity_email bounced                             -1.3673      0.295     -4.634      0.000      -1.946      -0.789\n",
       "Last Activity_had a phone conversation                   1.1459      0.894      1.282      0.200      -0.606       2.898\n",
       "Last Activity_sms sent                                   1.1777      0.073     16.094      0.000       1.034       1.321\n",
       "What is your current occupation_housewife               22.7598    1.4e+04      0.002      0.999   -2.74e+04    2.74e+04\n",
       "What is your current occupation_not provided            -1.0493      0.086    -12.239      0.000      -1.217      -0.881\n",
       "What is your current occupation_working professional     2.5448      0.187     13.630      0.000       2.179       2.911\n",
       "Last Notable Activity_had a phone conversation           1.9595      1.424      1.376      0.169      -0.832       4.751\n",
       "Last Notable Activity_modified                          -0.8995      0.079    -11.432      0.000      -1.054      -0.745\n",
       "Last Notable Activity_unreachable                        1.6895      0.532      3.173      0.002       0.646       2.733\n",
       "========================================================================================================================\n",
       "\"\"\""
      ]
     },
     "execution_count": 194,
     "metadata": {},
     "output_type": "execute_result"
    }
   ],
   "source": [
    "#BUILDING MODEL #1\n",
    "\n",
    "X_train_sm = sm.add_constant(X_train[col])\n",
    "logm1 = sm.GLM(y_train,X_train_sm, family = sm.families.Binomial())\n",
    "res = logm1.fit()\n",
    "res.summary()"
   ]
  },
  {
   "cell_type": "code",
   "execution_count": 195,
   "id": "4b2e711c",
   "metadata": {},
   "outputs": [
    {
     "data": {
      "text/html": [
       "<table class=\"simpletable\">\n",
       "<caption>Generalized Linear Model Regression Results</caption>\n",
       "<tr>\n",
       "  <th>Dep. Variable:</th>       <td>Converted</td>    <th>  No. Observations:  </th>  <td>  6468</td> \n",
       "</tr>\n",
       "<tr>\n",
       "  <th>Model:</th>                  <td>GLM</td>       <th>  Df Residuals:      </th>  <td>  6452</td> \n",
       "</tr>\n",
       "<tr>\n",
       "  <th>Model Family:</th>        <td>Binomial</td>     <th>  Df Model:          </th>  <td>    15</td> \n",
       "</tr>\n",
       "<tr>\n",
       "  <th>Link Function:</th>         <td>Logit</td>      <th>  Scale:             </th> <td>  1.0000</td>\n",
       "</tr>\n",
       "<tr>\n",
       "  <th>Method:</th>                <td>IRLS</td>       <th>  Log-Likelihood:    </th> <td> -2670.1</td>\n",
       "</tr>\n",
       "<tr>\n",
       "  <th>Date:</th>            <td>Tue, 18 Oct 2022</td> <th>  Deviance:          </th> <td>  5340.3</td>\n",
       "</tr>\n",
       "<tr>\n",
       "  <th>Time:</th>                <td>20:50:32</td>     <th>  Pearson chi2:      </th> <td>6.64e+03</td>\n",
       "</tr>\n",
       "<tr>\n",
       "  <th>No. Iterations:</th>         <td>21</td>        <th>  Pseudo R-squ. (CS):</th>  <td>0.3957</td> \n",
       "</tr>\n",
       "<tr>\n",
       "  <th>Covariance Type:</th>     <td>nonrobust</td>    <th>                     </th>     <td> </td>   \n",
       "</tr>\n",
       "</table>\n",
       "<table class=\"simpletable\">\n",
       "<tr>\n",
       "                            <td></td>                              <th>coef</th>     <th>std err</th>      <th>z</th>      <th>P>|z|</th>  <th>[0.025</th>    <th>0.975]</th>  \n",
       "</tr>\n",
       "<tr>\n",
       "  <th>const</th>                                                <td>   -0.5066</td> <td>    0.063</td> <td>   -8.102</td> <td> 0.000</td> <td>   -0.629</td> <td>   -0.384</td>\n",
       "</tr>\n",
       "<tr>\n",
       "  <th>Total Time Spent on Website</th>                          <td>    0.9630</td> <td>    0.036</td> <td>   27.091</td> <td> 0.000</td> <td>    0.893</td> <td>    1.033</td>\n",
       "</tr>\n",
       "<tr>\n",
       "  <th>Lead Origin_lead add form</th>                            <td>    2.9067</td> <td>    0.188</td> <td>   15.498</td> <td> 0.000</td> <td>    2.539</td> <td>    3.274</td>\n",
       "</tr>\n",
       "<tr>\n",
       "  <th>Lead Source_direct traffic</th>                           <td>   -0.7191</td> <td>    0.082</td> <td>   -8.767</td> <td> 0.000</td> <td>   -0.880</td> <td>   -0.558</td>\n",
       "</tr>\n",
       "<tr>\n",
       "  <th>Lead Source_organic search</th>                           <td>   -0.4998</td> <td>    0.106</td> <td>   -4.709</td> <td> 0.000</td> <td>   -0.708</td> <td>   -0.292</td>\n",
       "</tr>\n",
       "<tr>\n",
       "  <th>Lead Source_referral sites</th>                           <td>   -0.4417</td> <td>    0.308</td> <td>   -1.435</td> <td> 0.151</td> <td>   -1.045</td> <td>    0.162</td>\n",
       "</tr>\n",
       "<tr>\n",
       "  <th>Lead Source_welingak website</th>                         <td>    1.8463</td> <td>    0.742</td> <td>    2.489</td> <td> 0.013</td> <td>    0.392</td> <td>    3.300</td>\n",
       "</tr>\n",
       "<tr>\n",
       "  <th>Last Activity_email bounced</th>                          <td>   -1.3673</td> <td>    0.295</td> <td>   -4.634</td> <td> 0.000</td> <td>   -1.946</td> <td>   -0.789</td>\n",
       "</tr>\n",
       "<tr>\n",
       "  <th>Last Activity_had a phone conversation</th>               <td>    1.1459</td> <td>    0.894</td> <td>    1.282</td> <td> 0.200</td> <td>   -0.606</td> <td>    2.898</td>\n",
       "</tr>\n",
       "<tr>\n",
       "  <th>Last Activity_sms sent</th>                               <td>    1.1777</td> <td>    0.073</td> <td>   16.094</td> <td> 0.000</td> <td>    1.034</td> <td>    1.321</td>\n",
       "</tr>\n",
       "<tr>\n",
       "  <th>What is your current occupation_housewife</th>            <td>   22.7598</td> <td>  1.4e+04</td> <td>    0.002</td> <td> 0.999</td> <td>-2.74e+04</td> <td> 2.74e+04</td>\n",
       "</tr>\n",
       "<tr>\n",
       "  <th>What is your current occupation_not provided</th>         <td>   -1.0493</td> <td>    0.086</td> <td>  -12.239</td> <td> 0.000</td> <td>   -1.217</td> <td>   -0.881</td>\n",
       "</tr>\n",
       "<tr>\n",
       "  <th>What is your current occupation_working professional</th> <td>    2.5448</td> <td>    0.187</td> <td>   13.630</td> <td> 0.000</td> <td>    2.179</td> <td>    2.911</td>\n",
       "</tr>\n",
       "<tr>\n",
       "  <th>Last Notable Activity_had a phone conversation</th>       <td>    1.9595</td> <td>    1.424</td> <td>    1.376</td> <td> 0.169</td> <td>   -0.832</td> <td>    4.751</td>\n",
       "</tr>\n",
       "<tr>\n",
       "  <th>Last Notable Activity_modified</th>                       <td>   -0.8995</td> <td>    0.079</td> <td>  -11.432</td> <td> 0.000</td> <td>   -1.054</td> <td>   -0.745</td>\n",
       "</tr>\n",
       "<tr>\n",
       "  <th>Last Notable Activity_unreachable</th>                    <td>    1.6895</td> <td>    0.532</td> <td>    3.173</td> <td> 0.002</td> <td>    0.646</td> <td>    2.733</td>\n",
       "</tr>\n",
       "</table>"
      ],
      "text/plain": [
       "<class 'statsmodels.iolib.summary.Summary'>\n",
       "\"\"\"\n",
       "                 Generalized Linear Model Regression Results                  \n",
       "==============================================================================\n",
       "Dep. Variable:              Converted   No. Observations:                 6468\n",
       "Model:                            GLM   Df Residuals:                     6452\n",
       "Model Family:                Binomial   Df Model:                           15\n",
       "Link Function:                  Logit   Scale:                          1.0000\n",
       "Method:                          IRLS   Log-Likelihood:                -2670.1\n",
       "Date:                Tue, 18 Oct 2022   Deviance:                       5340.3\n",
       "Time:                        20:50:32   Pearson chi2:                 6.64e+03\n",
       "No. Iterations:                    21   Pseudo R-squ. (CS):             0.3957\n",
       "Covariance Type:            nonrobust                                         \n",
       "========================================================================================================================\n",
       "                                                           coef    std err          z      P>|z|      [0.025      0.975]\n",
       "------------------------------------------------------------------------------------------------------------------------\n",
       "const                                                   -0.5066      0.063     -8.102      0.000      -0.629      -0.384\n",
       "Total Time Spent on Website                              0.9630      0.036     27.091      0.000       0.893       1.033\n",
       "Lead Origin_lead add form                                2.9067      0.188     15.498      0.000       2.539       3.274\n",
       "Lead Source_direct traffic                              -0.7191      0.082     -8.767      0.000      -0.880      -0.558\n",
       "Lead Source_organic search                              -0.4998      0.106     -4.709      0.000      -0.708      -0.292\n",
       "Lead Source_referral sites                              -0.4417      0.308     -1.435      0.151      -1.045       0.162\n",
       "Lead Source_welingak website                             1.8463      0.742      2.489      0.013       0.392       3.300\n",
       "Last Activity_email bounced                             -1.3673      0.295     -4.634      0.000      -1.946      -0.789\n",
       "Last Activity_had a phone conversation                   1.1459      0.894      1.282      0.200      -0.606       2.898\n",
       "Last Activity_sms sent                                   1.1777      0.073     16.094      0.000       1.034       1.321\n",
       "What is your current occupation_housewife               22.7598    1.4e+04      0.002      0.999   -2.74e+04    2.74e+04\n",
       "What is your current occupation_not provided            -1.0493      0.086    -12.239      0.000      -1.217      -0.881\n",
       "What is your current occupation_working professional     2.5448      0.187     13.630      0.000       2.179       2.911\n",
       "Last Notable Activity_had a phone conversation           1.9595      1.424      1.376      0.169      -0.832       4.751\n",
       "Last Notable Activity_modified                          -0.8995      0.079    -11.432      0.000      -1.054      -0.745\n",
       "Last Notable Activity_unreachable                        1.6895      0.532      3.173      0.002       0.646       2.733\n",
       "========================================================================================================================\n",
       "\"\"\""
      ]
     },
     "execution_count": 195,
     "metadata": {},
     "output_type": "execute_result"
    }
   ],
   "source": [
    "#BUILDING MODEL #2\n",
    "\n",
    "X_train_sm = sm.add_constant(X_train[col])\n",
    "logm2 = sm.GLM(y_train,X_train_sm, family = sm.families.Binomial())\n",
    "res = logm2.fit()\n",
    "res.summary()"
   ]
  },
  {
   "cell_type": "code",
   "execution_count": 196,
   "id": "276d629b",
   "metadata": {},
   "outputs": [],
   "source": [
    "#dropping column with high p-value\n",
    "\n",
    "col = col.drop('Last Activity_had a phone conversation',1)\n"
   ]
  },
  {
   "cell_type": "code",
   "execution_count": 197,
   "id": "276cff7c",
   "metadata": {},
   "outputs": [],
   "source": [
    "\n",
    "col = col.drop('Last Notable Activity_had a phone conversation',1)\n"
   ]
  },
  {
   "cell_type": "code",
   "execution_count": 198,
   "id": "e4fc1a1e",
   "metadata": {},
   "outputs": [
    {
     "data": {
      "text/html": [
       "<table class=\"simpletable\">\n",
       "<caption>Generalized Linear Model Regression Results</caption>\n",
       "<tr>\n",
       "  <th>Dep. Variable:</th>       <td>Converted</td>    <th>  No. Observations:  </th>  <td>  6468</td> \n",
       "</tr>\n",
       "<tr>\n",
       "  <th>Model:</th>                  <td>GLM</td>       <th>  Df Residuals:      </th>  <td>  6454</td> \n",
       "</tr>\n",
       "<tr>\n",
       "  <th>Model Family:</th>        <td>Binomial</td>     <th>  Df Model:          </th>  <td>    13</td> \n",
       "</tr>\n",
       "<tr>\n",
       "  <th>Link Function:</th>         <td>Logit</td>      <th>  Scale:             </th> <td>  1.0000</td>\n",
       "</tr>\n",
       "<tr>\n",
       "  <th>Method:</th>                <td>IRLS</td>       <th>  Log-Likelihood:    </th> <td> -2677.1</td>\n",
       "</tr>\n",
       "<tr>\n",
       "  <th>Date:</th>            <td>Tue, 18 Oct 2022</td> <th>  Deviance:          </th> <td>  5354.3</td>\n",
       "</tr>\n",
       "<tr>\n",
       "  <th>Time:</th>                <td>20:50:32</td>     <th>  Pearson chi2:      </th> <td>6.47e+03</td>\n",
       "</tr>\n",
       "<tr>\n",
       "  <th>No. Iterations:</th>         <td>21</td>        <th>  Pseudo R-squ. (CS):</th>  <td>0.3944</td> \n",
       "</tr>\n",
       "<tr>\n",
       "  <th>Covariance Type:</th>     <td>nonrobust</td>    <th>                     </th>     <td> </td>   \n",
       "</tr>\n",
       "</table>\n",
       "<table class=\"simpletable\">\n",
       "<tr>\n",
       "                            <td></td>                              <th>coef</th>     <th>std err</th>      <th>z</th>      <th>P>|z|</th>  <th>[0.025</th>    <th>0.975]</th>  \n",
       "</tr>\n",
       "<tr>\n",
       "  <th>const</th>                                                <td>   -0.4943</td> <td>    0.062</td> <td>   -7.933</td> <td> 0.000</td> <td>   -0.616</td> <td>   -0.372</td>\n",
       "</tr>\n",
       "<tr>\n",
       "  <th>Total Time Spent on Website</th>                          <td>    0.9624</td> <td>    0.035</td> <td>   27.120</td> <td> 0.000</td> <td>    0.893</td> <td>    1.032</td>\n",
       "</tr>\n",
       "<tr>\n",
       "  <th>Lead Origin_lead add form</th>                            <td>    2.9063</td> <td>    0.188</td> <td>   15.499</td> <td> 0.000</td> <td>    2.539</td> <td>    3.274</td>\n",
       "</tr>\n",
       "<tr>\n",
       "  <th>Lead Source_direct traffic</th>                           <td>   -0.7217</td> <td>    0.082</td> <td>   -8.810</td> <td> 0.000</td> <td>   -0.882</td> <td>   -0.561</td>\n",
       "</tr>\n",
       "<tr>\n",
       "  <th>Lead Source_organic search</th>                           <td>   -0.4964</td> <td>    0.106</td> <td>   -4.686</td> <td> 0.000</td> <td>   -0.704</td> <td>   -0.289</td>\n",
       "</tr>\n",
       "<tr>\n",
       "  <th>Lead Source_referral sites</th>                           <td>   -0.4273</td> <td>    0.305</td> <td>   -1.400</td> <td> 0.162</td> <td>   -1.026</td> <td>    0.171</td>\n",
       "</tr>\n",
       "<tr>\n",
       "  <th>Lead Source_welingak website</th>                         <td>    1.8393</td> <td>    0.742</td> <td>    2.479</td> <td> 0.013</td> <td>    0.385</td> <td>    3.293</td>\n",
       "</tr>\n",
       "<tr>\n",
       "  <th>Last Activity_email bounced</th>                          <td>   -1.3774</td> <td>    0.295</td> <td>   -4.669</td> <td> 0.000</td> <td>   -1.956</td> <td>   -0.799</td>\n",
       "</tr>\n",
       "<tr>\n",
       "  <th>Last Activity_sms sent</th>                               <td>    1.1666</td> <td>    0.073</td> <td>   15.964</td> <td> 0.000</td> <td>    1.023</td> <td>    1.310</td>\n",
       "</tr>\n",
       "<tr>\n",
       "  <th>What is your current occupation_housewife</th>            <td>   22.7471</td> <td>  1.4e+04</td> <td>    0.002</td> <td> 0.999</td> <td>-2.74e+04</td> <td> 2.74e+04</td>\n",
       "</tr>\n",
       "<tr>\n",
       "  <th>What is your current occupation_not provided</th>         <td>   -1.0522</td> <td>    0.086</td> <td>  -12.290</td> <td> 0.000</td> <td>   -1.220</td> <td>   -0.884</td>\n",
       "</tr>\n",
       "<tr>\n",
       "  <th>What is your current occupation_working professional</th> <td>    2.5491</td> <td>    0.186</td> <td>   13.669</td> <td> 0.000</td> <td>    2.184</td> <td>    2.915</td>\n",
       "</tr>\n",
       "<tr>\n",
       "  <th>Last Notable Activity_modified</th>                       <td>   -0.9016</td> <td>    0.078</td> <td>  -11.498</td> <td> 0.000</td> <td>   -1.055</td> <td>   -0.748</td>\n",
       "</tr>\n",
       "<tr>\n",
       "  <th>Last Notable Activity_unreachable</th>                    <td>    1.6771</td> <td>    0.533</td> <td>    3.149</td> <td> 0.002</td> <td>    0.633</td> <td>    2.721</td>\n",
       "</tr>\n",
       "</table>"
      ],
      "text/plain": [
       "<class 'statsmodels.iolib.summary.Summary'>\n",
       "\"\"\"\n",
       "                 Generalized Linear Model Regression Results                  \n",
       "==============================================================================\n",
       "Dep. Variable:              Converted   No. Observations:                 6468\n",
       "Model:                            GLM   Df Residuals:                     6454\n",
       "Model Family:                Binomial   Df Model:                           13\n",
       "Link Function:                  Logit   Scale:                          1.0000\n",
       "Method:                          IRLS   Log-Likelihood:                -2677.1\n",
       "Date:                Tue, 18 Oct 2022   Deviance:                       5354.3\n",
       "Time:                        20:50:32   Pearson chi2:                 6.47e+03\n",
       "No. Iterations:                    21   Pseudo R-squ. (CS):             0.3944\n",
       "Covariance Type:            nonrobust                                         \n",
       "========================================================================================================================\n",
       "                                                           coef    std err          z      P>|z|      [0.025      0.975]\n",
       "------------------------------------------------------------------------------------------------------------------------\n",
       "const                                                   -0.4943      0.062     -7.933      0.000      -0.616      -0.372\n",
       "Total Time Spent on Website                              0.9624      0.035     27.120      0.000       0.893       1.032\n",
       "Lead Origin_lead add form                                2.9063      0.188     15.499      0.000       2.539       3.274\n",
       "Lead Source_direct traffic                              -0.7217      0.082     -8.810      0.000      -0.882      -0.561\n",
       "Lead Source_organic search                              -0.4964      0.106     -4.686      0.000      -0.704      -0.289\n",
       "Lead Source_referral sites                              -0.4273      0.305     -1.400      0.162      -1.026       0.171\n",
       "Lead Source_welingak website                             1.8393      0.742      2.479      0.013       0.385       3.293\n",
       "Last Activity_email bounced                             -1.3774      0.295     -4.669      0.000      -1.956      -0.799\n",
       "Last Activity_sms sent                                   1.1666      0.073     15.964      0.000       1.023       1.310\n",
       "What is your current occupation_housewife               22.7471    1.4e+04      0.002      0.999   -2.74e+04    2.74e+04\n",
       "What is your current occupation_not provided            -1.0522      0.086    -12.290      0.000      -1.220      -0.884\n",
       "What is your current occupation_working professional     2.5491      0.186     13.669      0.000       2.184       2.915\n",
       "Last Notable Activity_modified                          -0.9016      0.078    -11.498      0.000      -1.055      -0.748\n",
       "Last Notable Activity_unreachable                        1.6771      0.533      3.149      0.002       0.633       2.721\n",
       "========================================================================================================================\n",
       "\"\"\""
      ]
     },
     "execution_count": 198,
     "metadata": {},
     "output_type": "execute_result"
    }
   ],
   "source": [
    "#BUILDING MODEL #3\n",
    "\n",
    "X_train_sm = sm.add_constant(X_train[col])\n",
    "logm2 = sm.GLM(y_train,X_train_sm, family = sm.families.Binomial())\n",
    "res = logm2.fit()\n",
    "res.summary()"
   ]
  },
  {
   "cell_type": "markdown",
   "id": "836a81d5",
   "metadata": {},
   "source": [
    "Since 'All' the p: values are less we can check the Variance Inflation Factor to see if there is any correlation between the variables"
   ]
  },
  {
   "cell_type": "code",
   "execution_count": 199,
   "id": "812dee66",
   "metadata": {},
   "outputs": [],
   "source": [
    "# Check for the VIF values of the feature variables. \n",
    "from statsmodels.stats.outliers_influence import variance_inflation_factor"
   ]
  },
  {
   "cell_type": "code",
   "execution_count": 200,
   "id": "d625ef28",
   "metadata": {},
   "outputs": [
    {
     "data": {
      "text/html": [
       "<div>\n",
       "<style scoped>\n",
       "    .dataframe tbody tr th:only-of-type {\n",
       "        vertical-align: middle;\n",
       "    }\n",
       "\n",
       "    .dataframe tbody tr th {\n",
       "        vertical-align: top;\n",
       "    }\n",
       "\n",
       "    .dataframe thead th {\n",
       "        text-align: right;\n",
       "    }\n",
       "</style>\n",
       "<table border=\"1\" class=\"dataframe\">\n",
       "  <thead>\n",
       "    <tr style=\"text-align: right;\">\n",
       "      <th></th>\n",
       "      <th>Features</th>\n",
       "      <th>VIF</th>\n",
       "    </tr>\n",
       "  </thead>\n",
       "  <tbody>\n",
       "    <tr>\n",
       "      <th>1</th>\n",
       "      <td>Lead Origin_lead add form</td>\n",
       "      <td>1.45</td>\n",
       "    </tr>\n",
       "    <tr>\n",
       "      <th>11</th>\n",
       "      <td>Last Notable Activity_modified</td>\n",
       "      <td>1.44</td>\n",
       "    </tr>\n",
       "    <tr>\n",
       "      <th>9</th>\n",
       "      <td>What is your current occupation_not provided</td>\n",
       "      <td>1.34</td>\n",
       "    </tr>\n",
       "    <tr>\n",
       "      <th>7</th>\n",
       "      <td>Last Activity_sms sent</td>\n",
       "      <td>1.31</td>\n",
       "    </tr>\n",
       "    <tr>\n",
       "      <th>2</th>\n",
       "      <td>Lead Source_direct traffic</td>\n",
       "      <td>1.26</td>\n",
       "    </tr>\n",
       "    <tr>\n",
       "      <th>5</th>\n",
       "      <td>Lead Source_welingak website</td>\n",
       "      <td>1.24</td>\n",
       "    </tr>\n",
       "    <tr>\n",
       "      <th>10</th>\n",
       "      <td>What is your current occupation_working profes...</td>\n",
       "      <td>1.16</td>\n",
       "    </tr>\n",
       "    <tr>\n",
       "      <th>3</th>\n",
       "      <td>Lead Source_organic search</td>\n",
       "      <td>1.12</td>\n",
       "    </tr>\n",
       "    <tr>\n",
       "      <th>0</th>\n",
       "      <td>Total Time Spent on Website</td>\n",
       "      <td>1.10</td>\n",
       "    </tr>\n",
       "    <tr>\n",
       "      <th>6</th>\n",
       "      <td>Last Activity_email bounced</td>\n",
       "      <td>1.10</td>\n",
       "    </tr>\n",
       "    <tr>\n",
       "      <th>4</th>\n",
       "      <td>Lead Source_referral sites</td>\n",
       "      <td>1.02</td>\n",
       "    </tr>\n",
       "    <tr>\n",
       "      <th>8</th>\n",
       "      <td>What is your current occupation_housewife</td>\n",
       "      <td>1.01</td>\n",
       "    </tr>\n",
       "    <tr>\n",
       "      <th>12</th>\n",
       "      <td>Last Notable Activity_unreachable</td>\n",
       "      <td>1.00</td>\n",
       "    </tr>\n",
       "  </tbody>\n",
       "</table>\n",
       "</div>"
      ],
      "text/plain": [
       "                                             Features   VIF\n",
       "1                           Lead Origin_lead add form  1.45\n",
       "11                     Last Notable Activity_modified  1.44\n",
       "9        What is your current occupation_not provided  1.34\n",
       "7                              Last Activity_sms sent  1.31\n",
       "2                          Lead Source_direct traffic  1.26\n",
       "5                        Lead Source_welingak website  1.24\n",
       "10  What is your current occupation_working profes...  1.16\n",
       "3                          Lead Source_organic search  1.12\n",
       "0                         Total Time Spent on Website  1.10\n",
       "6                         Last Activity_email bounced  1.10\n",
       "4                          Lead Source_referral sites  1.02\n",
       "8           What is your current occupation_housewife  1.01\n",
       "12                  Last Notable Activity_unreachable  1.00"
      ]
     },
     "execution_count": 200,
     "metadata": {},
     "output_type": "execute_result"
    }
   ],
   "source": [
    "# Create a dataframe that will contain the names of all the feature variables and their respective VIFs\n",
    "vif = pd.DataFrame()\n",
    "vif['Features'] = X_train[col].columns\n",
    "vif['VIF'] = [variance_inflation_factor(X_train[col].values, i) for i in range(X_train[col].shape[1])]\n",
    "vif['VIF'] = round(vif['VIF'], 2)\n",
    "vif = vif.sort_values(by = \"VIF\", ascending = False)\n",
    "vif"
   ]
  },
  {
   "cell_type": "code",
   "execution_count": 201,
   "id": "52bae025",
   "metadata": {},
   "outputs": [
    {
     "data": {
      "text/html": [
       "<table class=\"simpletable\">\n",
       "<caption>Generalized Linear Model Regression Results</caption>\n",
       "<tr>\n",
       "  <th>Dep. Variable:</th>       <td>Converted</td>    <th>  No. Observations:  </th>  <td>  6468</td> \n",
       "</tr>\n",
       "<tr>\n",
       "  <th>Model:</th>                  <td>GLM</td>       <th>  Df Residuals:      </th>  <td>  6454</td> \n",
       "</tr>\n",
       "<tr>\n",
       "  <th>Model Family:</th>        <td>Binomial</td>     <th>  Df Model:          </th>  <td>    13</td> \n",
       "</tr>\n",
       "<tr>\n",
       "  <th>Link Function:</th>         <td>Logit</td>      <th>  Scale:             </th> <td>  1.0000</td>\n",
       "</tr>\n",
       "<tr>\n",
       "  <th>Method:</th>                <td>IRLS</td>       <th>  Log-Likelihood:    </th> <td> -2677.1</td>\n",
       "</tr>\n",
       "<tr>\n",
       "  <th>Date:</th>            <td>Tue, 18 Oct 2022</td> <th>  Deviance:          </th> <td>  5354.3</td>\n",
       "</tr>\n",
       "<tr>\n",
       "  <th>Time:</th>                <td>20:50:32</td>     <th>  Pearson chi2:      </th> <td>6.47e+03</td>\n",
       "</tr>\n",
       "<tr>\n",
       "  <th>No. Iterations:</th>         <td>21</td>        <th>  Pseudo R-squ. (CS):</th>  <td>0.3944</td> \n",
       "</tr>\n",
       "<tr>\n",
       "  <th>Covariance Type:</th>     <td>nonrobust</td>    <th>                     </th>     <td> </td>   \n",
       "</tr>\n",
       "</table>\n",
       "<table class=\"simpletable\">\n",
       "<tr>\n",
       "                            <td></td>                              <th>coef</th>     <th>std err</th>      <th>z</th>      <th>P>|z|</th>  <th>[0.025</th>    <th>0.975]</th>  \n",
       "</tr>\n",
       "<tr>\n",
       "  <th>const</th>                                                <td>   -0.4943</td> <td>    0.062</td> <td>   -7.933</td> <td> 0.000</td> <td>   -0.616</td> <td>   -0.372</td>\n",
       "</tr>\n",
       "<tr>\n",
       "  <th>Total Time Spent on Website</th>                          <td>    0.9624</td> <td>    0.035</td> <td>   27.120</td> <td> 0.000</td> <td>    0.893</td> <td>    1.032</td>\n",
       "</tr>\n",
       "<tr>\n",
       "  <th>Lead Origin_lead add form</th>                            <td>    2.9063</td> <td>    0.188</td> <td>   15.499</td> <td> 0.000</td> <td>    2.539</td> <td>    3.274</td>\n",
       "</tr>\n",
       "<tr>\n",
       "  <th>Lead Source_direct traffic</th>                           <td>   -0.7217</td> <td>    0.082</td> <td>   -8.810</td> <td> 0.000</td> <td>   -0.882</td> <td>   -0.561</td>\n",
       "</tr>\n",
       "<tr>\n",
       "  <th>Lead Source_organic search</th>                           <td>   -0.4964</td> <td>    0.106</td> <td>   -4.686</td> <td> 0.000</td> <td>   -0.704</td> <td>   -0.289</td>\n",
       "</tr>\n",
       "<tr>\n",
       "  <th>Lead Source_referral sites</th>                           <td>   -0.4273</td> <td>    0.305</td> <td>   -1.400</td> <td> 0.162</td> <td>   -1.026</td> <td>    0.171</td>\n",
       "</tr>\n",
       "<tr>\n",
       "  <th>Lead Source_welingak website</th>                         <td>    1.8393</td> <td>    0.742</td> <td>    2.479</td> <td> 0.013</td> <td>    0.385</td> <td>    3.293</td>\n",
       "</tr>\n",
       "<tr>\n",
       "  <th>Last Activity_email bounced</th>                          <td>   -1.3774</td> <td>    0.295</td> <td>   -4.669</td> <td> 0.000</td> <td>   -1.956</td> <td>   -0.799</td>\n",
       "</tr>\n",
       "<tr>\n",
       "  <th>Last Activity_sms sent</th>                               <td>    1.1666</td> <td>    0.073</td> <td>   15.964</td> <td> 0.000</td> <td>    1.023</td> <td>    1.310</td>\n",
       "</tr>\n",
       "<tr>\n",
       "  <th>What is your current occupation_housewife</th>            <td>   22.7471</td> <td>  1.4e+04</td> <td>    0.002</td> <td> 0.999</td> <td>-2.74e+04</td> <td> 2.74e+04</td>\n",
       "</tr>\n",
       "<tr>\n",
       "  <th>What is your current occupation_not provided</th>         <td>   -1.0522</td> <td>    0.086</td> <td>  -12.290</td> <td> 0.000</td> <td>   -1.220</td> <td>   -0.884</td>\n",
       "</tr>\n",
       "<tr>\n",
       "  <th>What is your current occupation_working professional</th> <td>    2.5491</td> <td>    0.186</td> <td>   13.669</td> <td> 0.000</td> <td>    2.184</td> <td>    2.915</td>\n",
       "</tr>\n",
       "<tr>\n",
       "  <th>Last Notable Activity_modified</th>                       <td>   -0.9016</td> <td>    0.078</td> <td>  -11.498</td> <td> 0.000</td> <td>   -1.055</td> <td>   -0.748</td>\n",
       "</tr>\n",
       "<tr>\n",
       "  <th>Last Notable Activity_unreachable</th>                    <td>    1.6771</td> <td>    0.533</td> <td>    3.149</td> <td> 0.002</td> <td>    0.633</td> <td>    2.721</td>\n",
       "</tr>\n",
       "</table>"
      ],
      "text/plain": [
       "<class 'statsmodels.iolib.summary.Summary'>\n",
       "\"\"\"\n",
       "                 Generalized Linear Model Regression Results                  \n",
       "==============================================================================\n",
       "Dep. Variable:              Converted   No. Observations:                 6468\n",
       "Model:                            GLM   Df Residuals:                     6454\n",
       "Model Family:                Binomial   Df Model:                           13\n",
       "Link Function:                  Logit   Scale:                          1.0000\n",
       "Method:                          IRLS   Log-Likelihood:                -2677.1\n",
       "Date:                Tue, 18 Oct 2022   Deviance:                       5354.3\n",
       "Time:                        20:50:32   Pearson chi2:                 6.47e+03\n",
       "No. Iterations:                    21   Pseudo R-squ. (CS):             0.3944\n",
       "Covariance Type:            nonrobust                                         \n",
       "========================================================================================================================\n",
       "                                                           coef    std err          z      P>|z|      [0.025      0.975]\n",
       "------------------------------------------------------------------------------------------------------------------------\n",
       "const                                                   -0.4943      0.062     -7.933      0.000      -0.616      -0.372\n",
       "Total Time Spent on Website                              0.9624      0.035     27.120      0.000       0.893       1.032\n",
       "Lead Origin_lead add form                                2.9063      0.188     15.499      0.000       2.539       3.274\n",
       "Lead Source_direct traffic                              -0.7217      0.082     -8.810      0.000      -0.882      -0.561\n",
       "Lead Source_organic search                              -0.4964      0.106     -4.686      0.000      -0.704      -0.289\n",
       "Lead Source_referral sites                              -0.4273      0.305     -1.400      0.162      -1.026       0.171\n",
       "Lead Source_welingak website                             1.8393      0.742      2.479      0.013       0.385       3.293\n",
       "Last Activity_email bounced                             -1.3774      0.295     -4.669      0.000      -1.956      -0.799\n",
       "Last Activity_sms sent                                   1.1666      0.073     15.964      0.000       1.023       1.310\n",
       "What is your current occupation_housewife               22.7471    1.4e+04      0.002      0.999   -2.74e+04    2.74e+04\n",
       "What is your current occupation_not provided            -1.0522      0.086    -12.290      0.000      -1.220      -0.884\n",
       "What is your current occupation_working professional     2.5491      0.186     13.669      0.000       2.184       2.915\n",
       "Last Notable Activity_modified                          -0.9016      0.078    -11.498      0.000      -1.055      -0.748\n",
       "Last Notable Activity_unreachable                        1.6771      0.533      3.149      0.002       0.633       2.721\n",
       "========================================================================================================================\n",
       "\"\"\""
      ]
     },
     "execution_count": 201,
     "metadata": {},
     "output_type": "execute_result"
    }
   ],
   "source": [
    "#BUILDING MODEL #4\n",
    "X_train_sm = sm.add_constant(X_train[col])\n",
    "logm4 = sm.GLM(y_train,X_train_sm, family = sm.families.Binomial())\n",
    "res = logm4.fit()\n",
    "res.summary()"
   ]
  },
  {
   "cell_type": "code",
   "execution_count": 202,
   "id": "015395f3",
   "metadata": {},
   "outputs": [
    {
     "data": {
      "text/html": [
       "<div>\n",
       "<style scoped>\n",
       "    .dataframe tbody tr th:only-of-type {\n",
       "        vertical-align: middle;\n",
       "    }\n",
       "\n",
       "    .dataframe tbody tr th {\n",
       "        vertical-align: top;\n",
       "    }\n",
       "\n",
       "    .dataframe thead th {\n",
       "        text-align: right;\n",
       "    }\n",
       "</style>\n",
       "<table border=\"1\" class=\"dataframe\">\n",
       "  <thead>\n",
       "    <tr style=\"text-align: right;\">\n",
       "      <th></th>\n",
       "      <th>Features</th>\n",
       "      <th>VIF</th>\n",
       "    </tr>\n",
       "  </thead>\n",
       "  <tbody>\n",
       "    <tr>\n",
       "      <th>1</th>\n",
       "      <td>Lead Origin_lead add form</td>\n",
       "      <td>1.45</td>\n",
       "    </tr>\n",
       "    <tr>\n",
       "      <th>11</th>\n",
       "      <td>Last Notable Activity_modified</td>\n",
       "      <td>1.44</td>\n",
       "    </tr>\n",
       "    <tr>\n",
       "      <th>9</th>\n",
       "      <td>What is your current occupation_not provided</td>\n",
       "      <td>1.34</td>\n",
       "    </tr>\n",
       "    <tr>\n",
       "      <th>7</th>\n",
       "      <td>Last Activity_sms sent</td>\n",
       "      <td>1.31</td>\n",
       "    </tr>\n",
       "    <tr>\n",
       "      <th>2</th>\n",
       "      <td>Lead Source_direct traffic</td>\n",
       "      <td>1.26</td>\n",
       "    </tr>\n",
       "    <tr>\n",
       "      <th>5</th>\n",
       "      <td>Lead Source_welingak website</td>\n",
       "      <td>1.24</td>\n",
       "    </tr>\n",
       "    <tr>\n",
       "      <th>10</th>\n",
       "      <td>What is your current occupation_working profes...</td>\n",
       "      <td>1.16</td>\n",
       "    </tr>\n",
       "    <tr>\n",
       "      <th>3</th>\n",
       "      <td>Lead Source_organic search</td>\n",
       "      <td>1.12</td>\n",
       "    </tr>\n",
       "    <tr>\n",
       "      <th>0</th>\n",
       "      <td>Total Time Spent on Website</td>\n",
       "      <td>1.10</td>\n",
       "    </tr>\n",
       "    <tr>\n",
       "      <th>6</th>\n",
       "      <td>Last Activity_email bounced</td>\n",
       "      <td>1.10</td>\n",
       "    </tr>\n",
       "    <tr>\n",
       "      <th>4</th>\n",
       "      <td>Lead Source_referral sites</td>\n",
       "      <td>1.02</td>\n",
       "    </tr>\n",
       "    <tr>\n",
       "      <th>8</th>\n",
       "      <td>What is your current occupation_housewife</td>\n",
       "      <td>1.01</td>\n",
       "    </tr>\n",
       "    <tr>\n",
       "      <th>12</th>\n",
       "      <td>Last Notable Activity_unreachable</td>\n",
       "      <td>1.00</td>\n",
       "    </tr>\n",
       "  </tbody>\n",
       "</table>\n",
       "</div>"
      ],
      "text/plain": [
       "                                             Features   VIF\n",
       "1                           Lead Origin_lead add form  1.45\n",
       "11                     Last Notable Activity_modified  1.44\n",
       "9        What is your current occupation_not provided  1.34\n",
       "7                              Last Activity_sms sent  1.31\n",
       "2                          Lead Source_direct traffic  1.26\n",
       "5                        Lead Source_welingak website  1.24\n",
       "10  What is your current occupation_working profes...  1.16\n",
       "3                          Lead Source_organic search  1.12\n",
       "0                         Total Time Spent on Website  1.10\n",
       "6                         Last Activity_email bounced  1.10\n",
       "4                          Lead Source_referral sites  1.02\n",
       "8           What is your current occupation_housewife  1.01\n",
       "12                  Last Notable Activity_unreachable  1.00"
      ]
     },
     "execution_count": 202,
     "metadata": {},
     "output_type": "execute_result"
    }
   ],
   "source": [
    "# Create a dataframe that will contain the names of all the feature variables and their respective VIFs\n",
    "vif = pd.DataFrame()\n",
    "vif['Features'] = X_train[col].columns\n",
    "vif['VIF'] = [variance_inflation_factor(X_train[col].values, i) for i in range(X_train[col].shape[1])]\n",
    "vif['VIF'] = round(vif['VIF'], 2)\n",
    "vif = vif.sort_values(by = \"VIF\", ascending = False)\n",
    "vif"
   ]
  },
  {
   "cell_type": "markdown",
   "id": "cc956dec",
   "metadata": {},
   "source": [
    "So the Values all seem to be in order so now, Moving on to derive the Probabilities, Lead Score, Predictions on Train Data"
   ]
  },
  {
   "cell_type": "code",
   "execution_count": 203,
   "id": "62ff5556",
   "metadata": {},
   "outputs": [
    {
     "data": {
      "text/plain": [
       "1871    0.206475\n",
       "6795    0.229623\n",
       "3516    0.238730\n",
       "8105    0.879345\n",
       "3934    0.095527\n",
       "4844    0.986515\n",
       "3297    0.155375\n",
       "8071    0.978287\n",
       "987     0.091759\n",
       "7423    0.929079\n",
       "dtype: float64"
      ]
     },
     "execution_count": 203,
     "metadata": {},
     "output_type": "execute_result"
    }
   ],
   "source": [
    "# Getting the Predicted values on the train set\n",
    "y_train_pred = res.predict(X_train_sm)\n",
    "y_train_pred[:10]"
   ]
  },
  {
   "cell_type": "code",
   "execution_count": 204,
   "id": "89bec48a",
   "metadata": {},
   "outputs": [
    {
     "data": {
      "text/plain": [
       "array([0.20647455, 0.22962261, 0.23873035, 0.87934544, 0.09552689,\n",
       "       0.98651459, 0.15537511, 0.9782866 , 0.09175886, 0.92907894])"
      ]
     },
     "execution_count": 204,
     "metadata": {},
     "output_type": "execute_result"
    }
   ],
   "source": [
    "y_train_pred = y_train_pred.values.reshape(-1)\n",
    "y_train_pred[:10]"
   ]
  },
  {
   "cell_type": "code",
   "execution_count": 205,
   "id": "7866518c",
   "metadata": {},
   "outputs": [
    {
     "data": {
      "text/html": [
       "<div>\n",
       "<style scoped>\n",
       "    .dataframe tbody tr th:only-of-type {\n",
       "        vertical-align: middle;\n",
       "    }\n",
       "\n",
       "    .dataframe tbody tr th {\n",
       "        vertical-align: top;\n",
       "    }\n",
       "\n",
       "    .dataframe thead th {\n",
       "        text-align: right;\n",
       "    }\n",
       "</style>\n",
       "<table border=\"1\" class=\"dataframe\">\n",
       "  <thead>\n",
       "    <tr style=\"text-align: right;\">\n",
       "      <th></th>\n",
       "      <th>Converted</th>\n",
       "      <th>Converted_prob</th>\n",
       "      <th>Prospect ID</th>\n",
       "    </tr>\n",
       "  </thead>\n",
       "  <tbody>\n",
       "    <tr>\n",
       "      <th>0</th>\n",
       "      <td>0</td>\n",
       "      <td>0.206475</td>\n",
       "      <td>1871</td>\n",
       "    </tr>\n",
       "    <tr>\n",
       "      <th>1</th>\n",
       "      <td>0</td>\n",
       "      <td>0.229623</td>\n",
       "      <td>6795</td>\n",
       "    </tr>\n",
       "    <tr>\n",
       "      <th>2</th>\n",
       "      <td>0</td>\n",
       "      <td>0.238730</td>\n",
       "      <td>3516</td>\n",
       "    </tr>\n",
       "    <tr>\n",
       "      <th>3</th>\n",
       "      <td>0</td>\n",
       "      <td>0.879345</td>\n",
       "      <td>8105</td>\n",
       "    </tr>\n",
       "    <tr>\n",
       "      <th>4</th>\n",
       "      <td>0</td>\n",
       "      <td>0.095527</td>\n",
       "      <td>3934</td>\n",
       "    </tr>\n",
       "  </tbody>\n",
       "</table>\n",
       "</div>"
      ],
      "text/plain": [
       "   Converted  Converted_prob  Prospect ID\n",
       "0          0        0.206475         1871\n",
       "1          0        0.229623         6795\n",
       "2          0        0.238730         3516\n",
       "3          0        0.879345         8105\n",
       "4          0        0.095527         3934"
      ]
     },
     "execution_count": 205,
     "metadata": {},
     "output_type": "execute_result"
    }
   ],
   "source": [
    "y_train_pred_final = pd.DataFrame({'Converted':y_train.values, 'Converted_prob':y_train_pred})\n",
    "y_train_pred_final['Prospect ID'] = y_train.index\n",
    "y_train_pred_final.head()"
   ]
  },
  {
   "cell_type": "code",
   "execution_count": 206,
   "id": "4b687b52",
   "metadata": {},
   "outputs": [
    {
     "data": {
      "text/html": [
       "<div>\n",
       "<style scoped>\n",
       "    .dataframe tbody tr th:only-of-type {\n",
       "        vertical-align: middle;\n",
       "    }\n",
       "\n",
       "    .dataframe tbody tr th {\n",
       "        vertical-align: top;\n",
       "    }\n",
       "\n",
       "    .dataframe thead th {\n",
       "        text-align: right;\n",
       "    }\n",
       "</style>\n",
       "<table border=\"1\" class=\"dataframe\">\n",
       "  <thead>\n",
       "    <tr style=\"text-align: right;\">\n",
       "      <th></th>\n",
       "      <th>Converted</th>\n",
       "      <th>Converted_prob</th>\n",
       "      <th>Prospect ID</th>\n",
       "      <th>Predicted</th>\n",
       "    </tr>\n",
       "  </thead>\n",
       "  <tbody>\n",
       "    <tr>\n",
       "      <th>0</th>\n",
       "      <td>0</td>\n",
       "      <td>0.206475</td>\n",
       "      <td>1871</td>\n",
       "      <td>0</td>\n",
       "    </tr>\n",
       "    <tr>\n",
       "      <th>1</th>\n",
       "      <td>0</td>\n",
       "      <td>0.229623</td>\n",
       "      <td>6795</td>\n",
       "      <td>0</td>\n",
       "    </tr>\n",
       "    <tr>\n",
       "      <th>2</th>\n",
       "      <td>0</td>\n",
       "      <td>0.238730</td>\n",
       "      <td>3516</td>\n",
       "      <td>0</td>\n",
       "    </tr>\n",
       "    <tr>\n",
       "      <th>3</th>\n",
       "      <td>0</td>\n",
       "      <td>0.879345</td>\n",
       "      <td>8105</td>\n",
       "      <td>1</td>\n",
       "    </tr>\n",
       "    <tr>\n",
       "      <th>4</th>\n",
       "      <td>0</td>\n",
       "      <td>0.095527</td>\n",
       "      <td>3934</td>\n",
       "      <td>0</td>\n",
       "    </tr>\n",
       "  </tbody>\n",
       "</table>\n",
       "</div>"
      ],
      "text/plain": [
       "   Converted  Converted_prob  Prospect ID  Predicted\n",
       "0          0        0.206475         1871          0\n",
       "1          0        0.229623         6795          0\n",
       "2          0        0.238730         3516          0\n",
       "3          0        0.879345         8105          1\n",
       "4          0        0.095527         3934          0"
      ]
     },
     "execution_count": 206,
     "metadata": {},
     "output_type": "execute_result"
    }
   ],
   "source": [
    "y_train_pred_final['Predicted'] = y_train_pred_final.Converted_prob.map(lambda x: 1 if x > 0.5 else 0)\n",
    "\n",
    "# Let's see the head\n",
    "y_train_pred_final.head()"
   ]
  },
  {
   "cell_type": "code",
   "execution_count": 207,
   "id": "8426e6d8",
   "metadata": {},
   "outputs": [
    {
     "name": "stdout",
     "output_type": "stream",
     "text": [
      "[[3555  447]\n",
      " [ 807 1659]]\n"
     ]
    }
   ],
   "source": [
    "from sklearn import metrics\n",
    "\n",
    "# Confusion matrix \n",
    "confusion = metrics.confusion_matrix(y_train_pred_final.Converted, y_train_pred_final.Predicted )\n",
    "print(confusion)"
   ]
  },
  {
   "cell_type": "code",
   "execution_count": 208,
   "id": "866fb693",
   "metadata": {},
   "outputs": [
    {
     "name": "stdout",
     "output_type": "stream",
     "text": [
      "0.8061224489795918\n"
     ]
    }
   ],
   "source": [
    "# Let's check the overall accuracy.\n",
    "print(metrics.accuracy_score(y_train_pred_final.Converted, y_train_pred_final.Predicted))"
   ]
  },
  {
   "cell_type": "code",
   "execution_count": 209,
   "id": "11f5edaf",
   "metadata": {},
   "outputs": [],
   "source": [
    "TP = confusion[1,1] # true positive \n",
    "TN = confusion[0,0] # true negatives\n",
    "FP = confusion[0,1] # false positives\n",
    "FN = confusion[1,0] # false negatives"
   ]
  },
  {
   "cell_type": "code",
   "execution_count": 210,
   "id": "bf63123f",
   "metadata": {},
   "outputs": [
    {
     "data": {
      "text/plain": [
       "0.6727493917274939"
      ]
     },
     "execution_count": 210,
     "metadata": {},
     "output_type": "execute_result"
    }
   ],
   "source": [
    "# Let's see the sensitivity of our logistic regression model\n",
    "TP / float(TP+FN)"
   ]
  },
  {
   "cell_type": "code",
   "execution_count": 211,
   "id": "f6c51434",
   "metadata": {},
   "outputs": [
    {
     "data": {
      "text/plain": [
       "0.8883058470764618"
      ]
     },
     "execution_count": 211,
     "metadata": {},
     "output_type": "execute_result"
    }
   ],
   "source": [
    "# Let us calculate specificity\n",
    "TN / float(TN+FP)"
   ]
  },
  {
   "cell_type": "code",
   "execution_count": 212,
   "id": "24b42d70",
   "metadata": {},
   "outputs": [
    {
     "name": "stdout",
     "output_type": "stream",
     "text": [
      "0.11169415292353824\n"
     ]
    }
   ],
   "source": [
    "# Calculate False Postive Rate - predicting conversion when customer does not have convert\n",
    "print(FP/ float(TN+FP))"
   ]
  },
  {
   "cell_type": "code",
   "execution_count": 213,
   "id": "79f8d100",
   "metadata": {},
   "outputs": [
    {
     "name": "stdout",
     "output_type": "stream",
     "text": [
      "0.7877492877492878\n"
     ]
    }
   ],
   "source": [
    "# positive predictive value \n",
    "print (TP / float(TP+FP))"
   ]
  },
  {
   "cell_type": "code",
   "execution_count": 214,
   "id": "3d1858b9",
   "metadata": {},
   "outputs": [
    {
     "name": "stdout",
     "output_type": "stream",
     "text": [
      "0.8149931224209078\n"
     ]
    }
   ],
   "source": [
    "# Negative predictive value\n",
    "print (TN / float(TN+ FN))"
   ]
  },
  {
   "cell_type": "markdown",
   "id": "e80c1ca8",
   "metadata": {},
   "source": [
    "#  PLOTTING ROC CURVE\n"
   ]
  },
  {
   "cell_type": "code",
   "execution_count": 215,
   "id": "f27e26f2",
   "metadata": {},
   "outputs": [],
   "source": [
    "def draw_roc( actual, probs ):\n",
    "    fpr, tpr, thresholds = metrics.roc_curve( actual, probs,\n",
    "                                              drop_intermediate = False )\n",
    "    auc_score = metrics.roc_auc_score( actual, probs )\n",
    "    plt.figure(figsize=(5, 5))\n",
    "    plt.plot( fpr, tpr, label='ROC curve (area = %0.2f)' % auc_score )\n",
    "    plt.plot([0, 1], [0, 1], 'k--')\n",
    "    plt.xlim([0.0, 1.0])\n",
    "    plt.ylim([0.0, 1.05])\n",
    "    plt.xlabel('False Positive Rate or [1 - True Negative Rate]')\n",
    "    plt.ylabel('True Positive Rate')\n",
    "    plt.title('Receiver operating characteristic example')\n",
    "    plt.legend(loc=\"lower right\")\n",
    "    plt.show()\n",
    "\n",
    "    return None"
   ]
  },
  {
   "cell_type": "code",
   "execution_count": 216,
   "id": "82d49397",
   "metadata": {},
   "outputs": [],
   "source": [
    "fpr, tpr, thresholds = metrics.roc_curve( y_train_pred_final.Converted, y_train_pred_final.Converted_prob, drop_intermediate = False )"
   ]
  },
  {
   "cell_type": "code",
   "execution_count": 217,
   "id": "ed7b1b3b",
   "metadata": {},
   "outputs": [
    {
     "data": {
      "image/png": "[encoded data removed]",
      "text/plain": [
       "<Figure size 360x360 with 1 Axes>"
      ]
     },
     "metadata": {
      "needs_background": "light"
     },
     "output_type": "display_data"
    }
   ],
   "source": [
    "draw_roc(y_train_pred_final.Converted, y_train_pred_final.Converted_prob)"
   ]
  },
  {
   "cell_type": "markdown",
   "id": "aca0a313",
   "metadata": {},
   "source": [
    "# Finding Optimal Cutoff Point"
   ]
  },
  {
   "cell_type": "code",
   "execution_count": 218,
   "id": "0ffda655",
   "metadata": {},
   "outputs": [
    {
     "data": {
      "text/html": [
       "<div>\n",
       "<style scoped>\n",
       "    .dataframe tbody tr th:only-of-type {\n",
       "        vertical-align: middle;\n",
       "    }\n",
       "\n",
       "    .dataframe tbody tr th {\n",
       "        vertical-align: top;\n",
       "    }\n",
       "\n",
       "    .dataframe thead th {\n",
       "        text-align: right;\n",
       "    }\n",
       "</style>\n",
       "<table border=\"1\" class=\"dataframe\">\n",
       "  <thead>\n",
       "    <tr style=\"text-align: right;\">\n",
       "      <th></th>\n",
       "      <th>Converted</th>\n",
       "      <th>Converted_prob</th>\n",
       "      <th>Prospect ID</th>\n",
       "      <th>Predicted</th>\n",
       "      <th>0.0</th>\n",
       "      <th>0.1</th>\n",
       "      <th>0.2</th>\n",
       "      <th>0.3</th>\n",
       "      <th>0.4</th>\n",
       "      <th>0.5</th>\n",
       "      <th>0.6</th>\n",
       "      <th>0.7</th>\n",
       "      <th>0.8</th>\n",
       "      <th>0.9</th>\n",
       "    </tr>\n",
       "  </thead>\n",
       "  <tbody>\n",
       "    <tr>\n",
       "      <th>0</th>\n",
       "      <td>0</td>\n",
       "      <td>0.206475</td>\n",
       "      <td>1871</td>\n",
       "      <td>0</td>\n",
       "      <td>1</td>\n",
       "      <td>1</td>\n",
       "      <td>1</td>\n",
       "      <td>0</td>\n",
       "      <td>0</td>\n",
       "      <td>0</td>\n",
       "      <td>0</td>\n",
       "      <td>0</td>\n",
       "      <td>0</td>\n",
       "      <td>0</td>\n",
       "    </tr>\n",
       "    <tr>\n",
       "      <th>1</th>\n",
       "      <td>0</td>\n",
       "      <td>0.229623</td>\n",
       "      <td>6795</td>\n",
       "      <td>0</td>\n",
       "      <td>1</td>\n",
       "      <td>1</td>\n",
       "      <td>1</td>\n",
       "      <td>0</td>\n",
       "      <td>0</td>\n",
       "      <td>0</td>\n",
       "      <td>0</td>\n",
       "      <td>0</td>\n",
       "      <td>0</td>\n",
       "      <td>0</td>\n",
       "    </tr>\n",
       "    <tr>\n",
       "      <th>2</th>\n",
       "      <td>0</td>\n",
       "      <td>0.238730</td>\n",
       "      <td>3516</td>\n",
       "      <td>0</td>\n",
       "      <td>1</td>\n",
       "      <td>1</td>\n",
       "      <td>1</td>\n",
       "      <td>0</td>\n",
       "      <td>0</td>\n",
       "      <td>0</td>\n",
       "      <td>0</td>\n",
       "      <td>0</td>\n",
       "      <td>0</td>\n",
       "      <td>0</td>\n",
       "    </tr>\n",
       "    <tr>\n",
       "      <th>3</th>\n",
       "      <td>0</td>\n",
       "      <td>0.879345</td>\n",
       "      <td>8105</td>\n",
       "      <td>1</td>\n",
       "      <td>1</td>\n",
       "      <td>1</td>\n",
       "      <td>1</td>\n",
       "      <td>1</td>\n",
       "      <td>1</td>\n",
       "      <td>1</td>\n",
       "      <td>1</td>\n",
       "      <td>1</td>\n",
       "      <td>1</td>\n",
       "      <td>0</td>\n",
       "    </tr>\n",
       "    <tr>\n",
       "      <th>4</th>\n",
       "      <td>0</td>\n",
       "      <td>0.095527</td>\n",
       "      <td>3934</td>\n",
       "      <td>0</td>\n",
       "      <td>1</td>\n",
       "      <td>0</td>\n",
       "      <td>0</td>\n",
       "      <td>0</td>\n",
       "      <td>0</td>\n",
       "      <td>0</td>\n",
       "      <td>0</td>\n",
       "      <td>0</td>\n",
       "      <td>0</td>\n",
       "      <td>0</td>\n",
       "    </tr>\n",
       "  </tbody>\n",
       "</table>\n",
       "</div>"
      ],
      "text/plain": [
       "   Converted  Converted_prob  Prospect ID  Predicted  0.0  0.1  0.2  0.3  0.4  \\\n",
       "0          0        0.206475         1871          0    1    1    1    0    0   \n",
       "1          0        0.229623         6795          0    1    1    1    0    0   \n",
       "2          0        0.238730         3516          0    1    1    1    0    0   \n",
       "3          0        0.879345         8105          1    1    1    1    1    1   \n",
       "4          0        0.095527         3934          0    1    0    0    0    0   \n",
       "\n",
       "   0.5  0.6  0.7  0.8  0.9  \n",
       "0    0    0    0    0    0  \n",
       "1    0    0    0    0    0  \n",
       "2    0    0    0    0    0  \n",
       "3    1    1    1    1    0  \n",
       "4    0    0    0    0    0  "
      ]
     },
     "execution_count": 218,
     "metadata": {},
     "output_type": "execute_result"
    }
   ],
   "source": [
    "# Let's create columns with different probability cutoffs \n",
    "numbers = [float(x)/10 for x in range(10)]\n",
    "for i in numbers:\n",
    "    y_train_pred_final[i]= y_train_pred_final.Converted_prob.map(lambda x: 1 if x > i else 0)\n",
    "y_train_pred_final.head()"
   ]
  },
  {
   "cell_type": "code",
   "execution_count": 219,
   "id": "26915db5",
   "metadata": {},
   "outputs": [
    {
     "name": "stdout",
     "output_type": "stream",
     "text": [
      "     prob  accuracy     sensi     speci\n",
      "0.0   0.0  0.381262  1.000000  0.000000\n",
      "0.1   0.1  0.620439  0.966342  0.407296\n",
      "0.2   0.2  0.742115  0.926602  0.628436\n",
      "0.3   0.3  0.792672  0.834955  0.766617\n",
      "0.4   0.4  0.809988  0.772506  0.833083\n",
      "0.5   0.5  0.806122  0.672749  0.888306\n",
      "0.6   0.6  0.803185  0.607867  0.923538\n",
      "0.7   0.7  0.787570  0.522303  0.951024\n",
      "0.8   0.8  0.761905  0.423358  0.970515\n",
      "0.9   0.9  0.720161  0.283861  0.989005\n"
     ]
    }
   ],
   "source": [
    "# Now let's calculate accuracy sensitivity and specificity for various probability cutoffs.\n",
    "cutoff_df = pd.DataFrame( columns = ['prob','accuracy','sensi','speci'])\n",
    "from sklearn.metrics import confusion_matrix\n",
    "\n",
    "# TP = confusion[1,1] # true positive \n",
    "# TN = confusion[0,0] # true negatives\n",
    "# FP = confusion[0,1] # false positives\n",
    "# FN = confusion[1,0] # false negatives\n",
    "\n",
    "num = [0.0,0.1,0.2,0.3,0.4,0.5,0.6,0.7,0.8,0.9]\n",
    "for i in num:\n",
    "    cm1 = metrics.confusion_matrix(y_train_pred_final.Converted, y_train_pred_final[i] )\n",
    "    total1=sum(sum(cm1))\n",
    "    accuracy = (cm1[0,0]+cm1[1,1])/total1\n",
    "    \n",
    "    speci = cm1[0,0]/(cm1[0,0]+cm1[0,1])\n",
    "    sensi = cm1[1,1]/(cm1[1,0]+cm1[1,1])\n",
    "    cutoff_df.loc[i] =[ i ,accuracy,sensi,speci]\n",
    "print(cutoff_df)"
   ]
  },
  {
   "cell_type": "code",
   "execution_count": 220,
   "id": "7a8dc456",
   "metadata": {},
   "outputs": [
    {
     "data": {
      "image/png": "[encoded data removed]",
      "text/plain": [
       "<Figure size 432x288 with 1 Axes>"
      ]
     },
     "metadata": {
      "needs_background": "light"
     },
     "output_type": "display_data"
    }
   ],
   "source": [
    "# Let's plot accuracy sensitivity and specificity for various probabilities.\n",
    "cutoff_df.plot.line(x='prob', y=['accuracy','sensi','speci'])\n",
    "plt.show()"
   ]
  },
  {
   "cell_type": "code",
   "execution_count": 221,
   "id": "d1a8a783",
   "metadata": {},
   "outputs": [
    {
     "data": {
      "text/html": [
       "<div>\n",
       "<style scoped>\n",
       "    .dataframe tbody tr th:only-of-type {\n",
       "        vertical-align: middle;\n",
       "    }\n",
       "\n",
       "    .dataframe tbody tr th {\n",
       "        vertical-align: top;\n",
       "    }\n",
       "\n",
       "    .dataframe thead th {\n",
       "        text-align: right;\n",
       "    }\n",
       "</style>\n",
       "<table border=\"1\" class=\"dataframe\">\n",
       "  <thead>\n",
       "    <tr style=\"text-align: right;\">\n",
       "      <th></th>\n",
       "      <th>Converted</th>\n",
       "      <th>Converted_prob</th>\n",
       "      <th>Prospect ID</th>\n",
       "      <th>Predicted</th>\n",
       "      <th>0.0</th>\n",
       "      <th>0.1</th>\n",
       "      <th>0.2</th>\n",
       "      <th>0.3</th>\n",
       "      <th>0.4</th>\n",
       "      <th>0.5</th>\n",
       "      <th>0.6</th>\n",
       "      <th>0.7</th>\n",
       "      <th>0.8</th>\n",
       "      <th>0.9</th>\n",
       "      <th>final_Predicted</th>\n",
       "    </tr>\n",
       "  </thead>\n",
       "  <tbody>\n",
       "    <tr>\n",
       "      <th>0</th>\n",
       "      <td>0</td>\n",
       "      <td>0.206475</td>\n",
       "      <td>1871</td>\n",
       "      <td>0</td>\n",
       "      <td>1</td>\n",
       "      <td>1</td>\n",
       "      <td>1</td>\n",
       "      <td>0</td>\n",
       "      <td>0</td>\n",
       "      <td>0</td>\n",
       "      <td>0</td>\n",
       "      <td>0</td>\n",
       "      <td>0</td>\n",
       "      <td>0</td>\n",
       "      <td>0</td>\n",
       "    </tr>\n",
       "    <tr>\n",
       "      <th>1</th>\n",
       "      <td>0</td>\n",
       "      <td>0.229623</td>\n",
       "      <td>6795</td>\n",
       "      <td>0</td>\n",
       "      <td>1</td>\n",
       "      <td>1</td>\n",
       "      <td>1</td>\n",
       "      <td>0</td>\n",
       "      <td>0</td>\n",
       "      <td>0</td>\n",
       "      <td>0</td>\n",
       "      <td>0</td>\n",
       "      <td>0</td>\n",
       "      <td>0</td>\n",
       "      <td>0</td>\n",
       "    </tr>\n",
       "    <tr>\n",
       "      <th>2</th>\n",
       "      <td>0</td>\n",
       "      <td>0.238730</td>\n",
       "      <td>3516</td>\n",
       "      <td>0</td>\n",
       "      <td>1</td>\n",
       "      <td>1</td>\n",
       "      <td>1</td>\n",
       "      <td>0</td>\n",
       "      <td>0</td>\n",
       "      <td>0</td>\n",
       "      <td>0</td>\n",
       "      <td>0</td>\n",
       "      <td>0</td>\n",
       "      <td>0</td>\n",
       "      <td>0</td>\n",
       "    </tr>\n",
       "    <tr>\n",
       "      <th>3</th>\n",
       "      <td>0</td>\n",
       "      <td>0.879345</td>\n",
       "      <td>8105</td>\n",
       "      <td>1</td>\n",
       "      <td>1</td>\n",
       "      <td>1</td>\n",
       "      <td>1</td>\n",
       "      <td>1</td>\n",
       "      <td>1</td>\n",
       "      <td>1</td>\n",
       "      <td>1</td>\n",
       "      <td>1</td>\n",
       "      <td>1</td>\n",
       "      <td>0</td>\n",
       "      <td>1</td>\n",
       "    </tr>\n",
       "    <tr>\n",
       "      <th>4</th>\n",
       "      <td>0</td>\n",
       "      <td>0.095527</td>\n",
       "      <td>3934</td>\n",
       "      <td>0</td>\n",
       "      <td>1</td>\n",
       "      <td>0</td>\n",
       "      <td>0</td>\n",
       "      <td>0</td>\n",
       "      <td>0</td>\n",
       "      <td>0</td>\n",
       "      <td>0</td>\n",
       "      <td>0</td>\n",
       "      <td>0</td>\n",
       "      <td>0</td>\n",
       "      <td>0</td>\n",
       "    </tr>\n",
       "  </tbody>\n",
       "</table>\n",
       "</div>"
      ],
      "text/plain": [
       "   Converted  Converted_prob  Prospect ID  Predicted  0.0  0.1  0.2  0.3  0.4  \\\n",
       "0          0        0.206475         1871          0    1    1    1    0    0   \n",
       "1          0        0.229623         6795          0    1    1    1    0    0   \n",
       "2          0        0.238730         3516          0    1    1    1    0    0   \n",
       "3          0        0.879345         8105          1    1    1    1    1    1   \n",
       "4          0        0.095527         3934          0    1    0    0    0    0   \n",
       "\n",
       "   0.5  0.6  0.7  0.8  0.9  final_Predicted  \n",
       "0    0    0    0    0    0                0  \n",
       "1    0    0    0    0    0                0  \n",
       "2    0    0    0    0    0                0  \n",
       "3    1    1    1    1    0                1  \n",
       "4    0    0    0    0    0                0  "
      ]
     },
     "execution_count": 221,
     "metadata": {},
     "output_type": "execute_result"
    }
   ],
   "source": [
    "#### From the curve above, 0.3 is the optimum point to take it as a cutoff probability.\n",
    "\n",
    "y_train_pred_final['final_Predicted'] = y_train_pred_final.Converted_prob.map( lambda x: 1 if x > 0.3 else 0)\n",
    "\n",
    "y_train_pred_final.head()"
   ]
  },
  {
   "cell_type": "code",
   "execution_count": 222,
   "id": "1702f32f",
   "metadata": {},
   "outputs": [
    {
     "data": {
      "text/html": [
       "<div>\n",
       "<style scoped>\n",
       "    .dataframe tbody tr th:only-of-type {\n",
       "        vertical-align: middle;\n",
       "    }\n",
       "\n",
       "    .dataframe tbody tr th {\n",
       "        vertical-align: top;\n",
       "    }\n",
       "\n",
       "    .dataframe thead th {\n",
       "        text-align: right;\n",
       "    }\n",
       "</style>\n",
       "<table border=\"1\" class=\"dataframe\">\n",
       "  <thead>\n",
       "    <tr style=\"text-align: right;\">\n",
       "      <th></th>\n",
       "      <th>Converted</th>\n",
       "      <th>Converted_prob</th>\n",
       "      <th>Prospect ID</th>\n",
       "      <th>final_Predicted</th>\n",
       "      <th>Lead_Score</th>\n",
       "    </tr>\n",
       "  </thead>\n",
       "  <tbody>\n",
       "    <tr>\n",
       "      <th>0</th>\n",
       "      <td>0</td>\n",
       "      <td>0.206475</td>\n",
       "      <td>1871</td>\n",
       "      <td>0</td>\n",
       "      <td>21</td>\n",
       "    </tr>\n",
       "    <tr>\n",
       "      <th>1</th>\n",
       "      <td>0</td>\n",
       "      <td>0.229623</td>\n",
       "      <td>6795</td>\n",
       "      <td>0</td>\n",
       "      <td>23</td>\n",
       "    </tr>\n",
       "    <tr>\n",
       "      <th>2</th>\n",
       "      <td>0</td>\n",
       "      <td>0.238730</td>\n",
       "      <td>3516</td>\n",
       "      <td>0</td>\n",
       "      <td>24</td>\n",
       "    </tr>\n",
       "    <tr>\n",
       "      <th>3</th>\n",
       "      <td>0</td>\n",
       "      <td>0.879345</td>\n",
       "      <td>8105</td>\n",
       "      <td>1</td>\n",
       "      <td>88</td>\n",
       "    </tr>\n",
       "    <tr>\n",
       "      <th>4</th>\n",
       "      <td>0</td>\n",
       "      <td>0.095527</td>\n",
       "      <td>3934</td>\n",
       "      <td>0</td>\n",
       "      <td>10</td>\n",
       "    </tr>\n",
       "  </tbody>\n",
       "</table>\n",
       "</div>"
      ],
      "text/plain": [
       "   Converted  Converted_prob  Prospect ID  final_Predicted  Lead_Score\n",
       "0          0        0.206475         1871                0          21\n",
       "1          0        0.229623         6795                0          23\n",
       "2          0        0.238730         3516                0          24\n",
       "3          0        0.879345         8105                1          88\n",
       "4          0        0.095527         3934                0          10"
      ]
     },
     "execution_count": 222,
     "metadata": {},
     "output_type": "execute_result"
    }
   ],
   "source": [
    "y_train_pred_final['Lead_Score'] = y_train_pred_final.Converted_prob.map(lambda x: round(x*100))\n",
    "\n",
    "y_train_pred_final[['Converted','Converted_prob','Prospect ID','final_Predicted','Lead_Score']].head()"
   ]
  },
  {
   "cell_type": "code",
   "execution_count": 223,
   "id": "2603c52a",
   "metadata": {},
   "outputs": [
    {
     "data": {
      "text/plain": [
       "0.7926716141001855"
      ]
     },
     "execution_count": 223,
     "metadata": {},
     "output_type": "execute_result"
    }
   ],
   "source": [
    "# Let's check the overall accuracy.\n",
    "metrics.accuracy_score(y_train_pred_final.Converted, y_train_pred_final.final_Predicted)"
   ]
  },
  {
   "cell_type": "code",
   "execution_count": 224,
   "id": "f71a070e",
   "metadata": {},
   "outputs": [
    {
     "data": {
      "text/plain": [
       "array([[3068,  934],\n",
       "       [ 407, 2059]], dtype=int64)"
      ]
     },
     "execution_count": 224,
     "metadata": {},
     "output_type": "execute_result"
    }
   ],
   "source": [
    "confusion2 = metrics.confusion_matrix(y_train_pred_final.Converted, y_train_pred_final.final_Predicted )\n",
    "confusion2"
   ]
  },
  {
   "cell_type": "code",
   "execution_count": 225,
   "id": "9abae729",
   "metadata": {},
   "outputs": [],
   "source": [
    "TP = confusion2[1,1] # true positive \n",
    "TN = confusion2[0,0] # true negatives\n",
    "FP = confusion2[0,1] # false positives\n",
    "FN = confusion2[1,0] # false negatives"
   ]
  },
  {
   "cell_type": "code",
   "execution_count": 226,
   "id": "dc91c4cc",
   "metadata": {},
   "outputs": [
    {
     "data": {
      "text/plain": [
       "0.8349553933495539"
      ]
     },
     "execution_count": 226,
     "metadata": {},
     "output_type": "execute_result"
    }
   ],
   "source": [
    "# Let's see the sensitivity of our logistic regression model\n",
    "TP / float(TP+FN)"
   ]
  },
  {
   "cell_type": "code",
   "execution_count": 227,
   "id": "ed2a8ff2",
   "metadata": {},
   "outputs": [
    {
     "data": {
      "text/plain": [
       "0.7666166916541729"
      ]
     },
     "execution_count": 227,
     "metadata": {},
     "output_type": "execute_result"
    }
   ],
   "source": [
    "# Let us calculate specificity\n",
    "TN / float(TN+FP)"
   ]
  },
  {
   "cell_type": "markdown",
   "id": "3a2eef2a",
   "metadata": {},
   "source": [
    "INSIGHTS: \n",
    "The ROC curve has a value of 0.88.Accuracy : 79% Sensitivity : 83% Specificity : 77% "
   ]
  },
  {
   "cell_type": "code",
   "execution_count": 228,
   "id": "6af75583",
   "metadata": {},
   "outputs": [
    {
     "name": "stdout",
     "output_type": "stream",
     "text": [
      "0.23338330834582707\n"
     ]
    }
   ],
   "source": [
    "# Calculate False Postive Rate - predicting conversion when customer does not have convert\n",
    "print(FP/ float(TN+FP))"
   ]
  },
  {
   "cell_type": "code",
   "execution_count": 229,
   "id": "3ef8e12c",
   "metadata": {},
   "outputs": [
    {
     "name": "stdout",
     "output_type": "stream",
     "text": [
      "0.6879385232208487\n"
     ]
    }
   ],
   "source": [
    "# Positive predictive value \n",
    "print (TP / float(TP+FP))"
   ]
  },
  {
   "cell_type": "code",
   "execution_count": 230,
   "id": "4d5c3e23",
   "metadata": {},
   "outputs": [
    {
     "name": "stdout",
     "output_type": "stream",
     "text": [
      "0.8828776978417266\n"
     ]
    }
   ],
   "source": [
    "# Negative predictive value\n",
    "print (TN / float(TN+ FN))"
   ]
  },
  {
   "cell_type": "code",
   "execution_count": 231,
   "id": "b7cdee7d",
   "metadata": {},
   "outputs": [
    {
     "data": {
      "text/plain": [
       "array([[3068,  934],\n",
       "       [ 407, 2059]], dtype=int64)"
      ]
     },
     "execution_count": 231,
     "metadata": {},
     "output_type": "execute_result"
    }
   ],
   "source": [
    "#Looking at the confusion matrix again\n",
    "\n",
    "confusion = metrics.confusion_matrix(y_train_pred_final.Converted, y_train_pred_final.final_Predicted )\n",
    "confusion"
   ]
  },
  {
   "cell_type": "code",
   "execution_count": 232,
   "id": "e49dea3d",
   "metadata": {},
   "outputs": [
    {
     "data": {
      "text/plain": [
       "0.6879385232208487"
      ]
     },
     "execution_count": 232,
     "metadata": {},
     "output_type": "execute_result"
    }
   ],
   "source": [
    "##### Precision\n",
    "TP / TP + FP\n",
    "\n",
    "confusion[1,1]/(confusion[0,1]+confusion[1,1])"
   ]
  },
  {
   "cell_type": "code",
   "execution_count": 233,
   "id": "96efb4ae",
   "metadata": {},
   "outputs": [
    {
     "data": {
      "text/plain": [
       "0.8349553933495539"
      ]
     },
     "execution_count": 233,
     "metadata": {},
     "output_type": "execute_result"
    }
   ],
   "source": [
    "##### Recall\n",
    "TP / TP + FN\n",
    "\n",
    "confusion[1,1]/(confusion[1,0]+confusion[1,1])"
   ]
  },
  {
   "cell_type": "code",
   "execution_count": 234,
   "id": "24ae6b1f",
   "metadata": {},
   "outputs": [],
   "source": [
    "from sklearn.metrics import precision_score, recall_score"
   ]
  },
  {
   "cell_type": "code",
   "execution_count": 235,
   "id": "e6e92c24",
   "metadata": {},
   "outputs": [
    {
     "data": {
      "text/plain": [
       "0.6879385232208487"
      ]
     },
     "execution_count": 235,
     "metadata": {},
     "output_type": "execute_result"
    }
   ],
   "source": [
    "precision_score(y_train_pred_final.Converted , y_train_pred_final.final_Predicted)"
   ]
  },
  {
   "cell_type": "code",
   "execution_count": 236,
   "id": "c1600c82",
   "metadata": {},
   "outputs": [
    {
     "data": {
      "text/plain": [
       "0.8349553933495539"
      ]
     },
     "execution_count": 236,
     "metadata": {},
     "output_type": "execute_result"
    }
   ],
   "source": [
    "recall_score(y_train_pred_final.Converted, y_train_pred_final.final_Predicted)"
   ]
  },
  {
   "cell_type": "code",
   "execution_count": 237,
   "id": "bf6af13a",
   "metadata": {},
   "outputs": [],
   "source": [
    "from sklearn.metrics import precision_recall_curve"
   ]
  },
  {
   "cell_type": "code",
   "execution_count": 238,
   "id": "37ca5f67",
   "metadata": {},
   "outputs": [],
   "source": [
    "y_train_pred_final.Converted, y_train_pred_final.final_Predicted\n",
    "p, r, thresholds = precision_recall_curve(y_train_pred_final.Converted, y_train_pred_final.Converted_prob)"
   ]
  },
  {
   "cell_type": "code",
   "execution_count": 239,
   "id": "225cae5e",
   "metadata": {},
   "outputs": [
    {
     "data": {
      "image/png": "[encoded data removed]",
      "text/plain": [
       "<Figure size 432x288 with 1 Axes>"
      ]
     },
     "metadata": {
      "needs_background": "light"
     },
     "output_type": "display_data"
    }
   ],
   "source": [
    "plt.plot(thresholds, p[:-1], \"g-\")\n",
    "plt.plot(thresholds, r[:-1], \"r-\")\n",
    "plt.show()"
   ]
  },
  {
   "cell_type": "code",
   "execution_count": 240,
   "id": "c3a03dad",
   "metadata": {},
   "outputs": [
    {
     "data": {
      "text/html": [
       "<div>\n",
       "<style scoped>\n",
       "    .dataframe tbody tr th:only-of-type {\n",
       "        vertical-align: middle;\n",
       "    }\n",
       "\n",
       "    .dataframe tbody tr th {\n",
       "        vertical-align: top;\n",
       "    }\n",
       "\n",
       "    .dataframe thead th {\n",
       "        text-align: right;\n",
       "    }\n",
       "</style>\n",
       "<table border=\"1\" class=\"dataframe\">\n",
       "  <thead>\n",
       "    <tr style=\"text-align: right;\">\n",
       "      <th></th>\n",
       "      <th>Do Not Email</th>\n",
       "      <th>Do Not Call</th>\n",
       "      <th>TotalVisits</th>\n",
       "      <th>Total Time Spent on Website</th>\n",
       "      <th>Page Views Per Visit</th>\n",
       "      <th>Search</th>\n",
       "      <th>Newspaper Article</th>\n",
       "      <th>X Education Forums</th>\n",
       "      <th>Newspaper</th>\n",
       "      <th>Digital Advertisement</th>\n",
       "      <th>...</th>\n",
       "      <th>Last Notable Activity_form submitted on website</th>\n",
       "      <th>Last Notable Activity_had a phone conversation</th>\n",
       "      <th>Last Notable Activity_modified</th>\n",
       "      <th>Last Notable Activity_olark chat conversation</th>\n",
       "      <th>Last Notable Activity_page visited on website</th>\n",
       "      <th>Last Notable Activity_resubscribed to emails</th>\n",
       "      <th>Last Notable Activity_sms sent</th>\n",
       "      <th>Last Notable Activity_unreachable</th>\n",
       "      <th>Last Notable Activity_unsubscribed</th>\n",
       "      <th>Last Notable Activity_view in browser link clicked</th>\n",
       "    </tr>\n",
       "  </thead>\n",
       "  <tbody>\n",
       "    <tr>\n",
       "      <th>4269</th>\n",
       "      <td>-0.298654</td>\n",
       "      <td>0.0</td>\n",
       "      <td>1.324501</td>\n",
       "      <td>0.933036</td>\n",
       "      <td>2.660405</td>\n",
       "      <td>-0.032915</td>\n",
       "      <td>0.0</td>\n",
       "      <td>0.0</td>\n",
       "      <td>0.0</td>\n",
       "      <td>-0.018997</td>\n",
       "      <td>...</td>\n",
       "      <td>0</td>\n",
       "      <td>0</td>\n",
       "      <td>0</td>\n",
       "      <td>0</td>\n",
       "      <td>0</td>\n",
       "      <td>0</td>\n",
       "      <td>1</td>\n",
       "      <td>0</td>\n",
       "      <td>0</td>\n",
       "      <td>0</td>\n",
       "    </tr>\n",
       "    <tr>\n",
       "      <th>2376</th>\n",
       "      <td>-0.298654</td>\n",
       "      <td>0.0</td>\n",
       "      <td>-0.944318</td>\n",
       "      <td>-0.900812</td>\n",
       "      <td>-1.108316</td>\n",
       "      <td>-0.032915</td>\n",
       "      <td>0.0</td>\n",
       "      <td>0.0</td>\n",
       "      <td>0.0</td>\n",
       "      <td>-0.018997</td>\n",
       "      <td>...</td>\n",
       "      <td>0</td>\n",
       "      <td>0</td>\n",
       "      <td>0</td>\n",
       "      <td>0</td>\n",
       "      <td>0</td>\n",
       "      <td>0</td>\n",
       "      <td>1</td>\n",
       "      <td>0</td>\n",
       "      <td>0</td>\n",
       "      <td>0</td>\n",
       "    </tr>\n",
       "    <tr>\n",
       "      <th>7766</th>\n",
       "      <td>-0.298654</td>\n",
       "      <td>0.0</td>\n",
       "      <td>0.473694</td>\n",
       "      <td>-0.793792</td>\n",
       "      <td>1.247135</td>\n",
       "      <td>-0.032915</td>\n",
       "      <td>0.0</td>\n",
       "      <td>0.0</td>\n",
       "      <td>0.0</td>\n",
       "      <td>-0.018997</td>\n",
       "      <td>...</td>\n",
       "      <td>0</td>\n",
       "      <td>0</td>\n",
       "      <td>0</td>\n",
       "      <td>0</td>\n",
       "      <td>0</td>\n",
       "      <td>0</td>\n",
       "      <td>0</td>\n",
       "      <td>1</td>\n",
       "      <td>0</td>\n",
       "      <td>0</td>\n",
       "    </tr>\n",
       "    <tr>\n",
       "      <th>9199</th>\n",
       "      <td>-0.298654</td>\n",
       "      <td>0.0</td>\n",
       "      <td>-0.944318</td>\n",
       "      <td>-0.900812</td>\n",
       "      <td>-1.108316</td>\n",
       "      <td>-0.032915</td>\n",
       "      <td>0.0</td>\n",
       "      <td>0.0</td>\n",
       "      <td>0.0</td>\n",
       "      <td>-0.018997</td>\n",
       "      <td>...</td>\n",
       "      <td>0</td>\n",
       "      <td>0</td>\n",
       "      <td>1</td>\n",
       "      <td>0</td>\n",
       "      <td>0</td>\n",
       "      <td>0</td>\n",
       "      <td>0</td>\n",
       "      <td>0</td>\n",
       "      <td>0</td>\n",
       "      <td>0</td>\n",
       "    </tr>\n",
       "    <tr>\n",
       "      <th>4359</th>\n",
       "      <td>-0.298654</td>\n",
       "      <td>0.0</td>\n",
       "      <td>-0.944318</td>\n",
       "      <td>-0.900812</td>\n",
       "      <td>-1.108316</td>\n",
       "      <td>-0.032915</td>\n",
       "      <td>0.0</td>\n",
       "      <td>0.0</td>\n",
       "      <td>0.0</td>\n",
       "      <td>-0.018997</td>\n",
       "      <td>...</td>\n",
       "      <td>0</td>\n",
       "      <td>0</td>\n",
       "      <td>0</td>\n",
       "      <td>0</td>\n",
       "      <td>0</td>\n",
       "      <td>0</td>\n",
       "      <td>0</td>\n",
       "      <td>0</td>\n",
       "      <td>0</td>\n",
       "      <td>0</td>\n",
       "    </tr>\n",
       "  </tbody>\n",
       "</table>\n",
       "<p>5 rows × 89 columns</p>\n",
       "</div>"
      ],
      "text/plain": [
       "      Do Not Email  Do Not Call  TotalVisits  Total Time Spent on Website  \\\n",
       "4269     -0.298654          0.0     1.324501                     0.933036   \n",
       "2376     -0.298654          0.0    -0.944318                    -0.900812   \n",
       "7766     -0.298654          0.0     0.473694                    -0.793792   \n",
       "9199     -0.298654          0.0    -0.944318                    -0.900812   \n",
       "4359     -0.298654          0.0    -0.944318                    -0.900812   \n",
       "\n",
       "      Page Views Per Visit    Search  Newspaper Article  X Education Forums  \\\n",
       "4269              2.660405 -0.032915                0.0                 0.0   \n",
       "2376             -1.108316 -0.032915                0.0                 0.0   \n",
       "7766              1.247135 -0.032915                0.0                 0.0   \n",
       "9199             -1.108316 -0.032915                0.0                 0.0   \n",
       "4359             -1.108316 -0.032915                0.0                 0.0   \n",
       "\n",
       "      Newspaper  Digital Advertisement  ...  \\\n",
       "4269        0.0              -0.018997  ...   \n",
       "2376        0.0              -0.018997  ...   \n",
       "7766        0.0              -0.018997  ...   \n",
       "9199        0.0              -0.018997  ...   \n",
       "4359        0.0              -0.018997  ...   \n",
       "\n",
       "      Last Notable Activity_form submitted on website  \\\n",
       "4269                                                0   \n",
       "2376                                                0   \n",
       "7766                                                0   \n",
       "9199                                                0   \n",
       "4359                                                0   \n",
       "\n",
       "      Last Notable Activity_had a phone conversation  \\\n",
       "4269                                               0   \n",
       "2376                                               0   \n",
       "7766                                               0   \n",
       "9199                                               0   \n",
       "4359                                               0   \n",
       "\n",
       "      Last Notable Activity_modified  \\\n",
       "4269                               0   \n",
       "2376                               0   \n",
       "7766                               0   \n",
       "9199                               1   \n",
       "4359                               0   \n",
       "\n",
       "      Last Notable Activity_olark chat conversation  \\\n",
       "4269                                              0   \n",
       "2376                                              0   \n",
       "7766                                              0   \n",
       "9199                                              0   \n",
       "4359                                              0   \n",
       "\n",
       "      Last Notable Activity_page visited on website  \\\n",
       "4269                                              0   \n",
       "2376                                              0   \n",
       "7766                                              0   \n",
       "9199                                              0   \n",
       "4359                                              0   \n",
       "\n",
       "      Last Notable Activity_resubscribed to emails  \\\n",
       "4269                                             0   \n",
       "2376                                             0   \n",
       "7766                                             0   \n",
       "9199                                             0   \n",
       "4359                                             0   \n",
       "\n",
       "      Last Notable Activity_sms sent  Last Notable Activity_unreachable  \\\n",
       "4269                               1                                  0   \n",
       "2376                               1                                  0   \n",
       "7766                               0                                  1   \n",
       "9199                               0                                  0   \n",
       "4359                               0                                  0   \n",
       "\n",
       "      Last Notable Activity_unsubscribed  \\\n",
       "4269                                   0   \n",
       "2376                                   0   \n",
       "7766                                   0   \n",
       "9199                                   0   \n",
       "4359                                   0   \n",
       "\n",
       "      Last Notable Activity_view in browser link clicked  \n",
       "4269                                                  0   \n",
       "2376                                                  0   \n",
       "7766                                                  0   \n",
       "9199                                                  0   \n",
       "4359                                                  0   \n",
       "\n",
       "[5 rows x 89 columns]"
      ]
     },
     "execution_count": 240,
     "metadata": {},
     "output_type": "execute_result"
    }
   ],
   "source": [
    "#scaling test set\n",
    "\n",
    "num_cols=X_test.select_dtypes(include=['float64', 'int64']).columns\n",
    "\n",
    "X_test[num_cols] = scaler.fit_transform(X_test[num_cols])\n",
    "\n",
    "X_test.head()"
   ]
  },
  {
   "cell_type": "code",
   "execution_count": 241,
   "id": "0ad7ec39",
   "metadata": {},
   "outputs": [
    {
     "data": {
      "text/html": [
       "<div>\n",
       "<style scoped>\n",
       "    .dataframe tbody tr th:only-of-type {\n",
       "        vertical-align: middle;\n",
       "    }\n",
       "\n",
       "    .dataframe tbody tr th {\n",
       "        vertical-align: top;\n",
       "    }\n",
       "\n",
       "    .dataframe thead th {\n",
       "        text-align: right;\n",
       "    }\n",
       "</style>\n",
       "<table border=\"1\" class=\"dataframe\">\n",
       "  <thead>\n",
       "    <tr style=\"text-align: right;\">\n",
       "      <th></th>\n",
       "      <th>Total Time Spent on Website</th>\n",
       "      <th>Lead Origin_lead add form</th>\n",
       "      <th>Lead Source_direct traffic</th>\n",
       "      <th>Lead Source_organic search</th>\n",
       "      <th>Lead Source_referral sites</th>\n",
       "      <th>Lead Source_welingak website</th>\n",
       "      <th>Last Activity_email bounced</th>\n",
       "      <th>Last Activity_sms sent</th>\n",
       "      <th>What is your current occupation_housewife</th>\n",
       "      <th>What is your current occupation_not provided</th>\n",
       "      <th>What is your current occupation_working professional</th>\n",
       "      <th>Last Notable Activity_modified</th>\n",
       "      <th>Last Notable Activity_unreachable</th>\n",
       "    </tr>\n",
       "  </thead>\n",
       "  <tbody>\n",
       "    <tr>\n",
       "      <th>4269</th>\n",
       "      <td>0.933036</td>\n",
       "      <td>0</td>\n",
       "      <td>1</td>\n",
       "      <td>0</td>\n",
       "      <td>0</td>\n",
       "      <td>0</td>\n",
       "      <td>0</td>\n",
       "      <td>1</td>\n",
       "      <td>0</td>\n",
       "      <td>1</td>\n",
       "      <td>0</td>\n",
       "      <td>0</td>\n",
       "      <td>0</td>\n",
       "    </tr>\n",
       "    <tr>\n",
       "      <th>2376</th>\n",
       "      <td>-0.900812</td>\n",
       "      <td>1</td>\n",
       "      <td>0</td>\n",
       "      <td>0</td>\n",
       "      <td>0</td>\n",
       "      <td>0</td>\n",
       "      <td>0</td>\n",
       "      <td>1</td>\n",
       "      <td>0</td>\n",
       "      <td>0</td>\n",
       "      <td>0</td>\n",
       "      <td>0</td>\n",
       "      <td>0</td>\n",
       "    </tr>\n",
       "    <tr>\n",
       "      <th>7766</th>\n",
       "      <td>-0.793792</td>\n",
       "      <td>0</td>\n",
       "      <td>0</td>\n",
       "      <td>0</td>\n",
       "      <td>0</td>\n",
       "      <td>0</td>\n",
       "      <td>0</td>\n",
       "      <td>0</td>\n",
       "      <td>0</td>\n",
       "      <td>0</td>\n",
       "      <td>1</td>\n",
       "      <td>0</td>\n",
       "      <td>1</td>\n",
       "    </tr>\n",
       "    <tr>\n",
       "      <th>9199</th>\n",
       "      <td>-0.900812</td>\n",
       "      <td>0</td>\n",
       "      <td>0</td>\n",
       "      <td>0</td>\n",
       "      <td>0</td>\n",
       "      <td>0</td>\n",
       "      <td>0</td>\n",
       "      <td>0</td>\n",
       "      <td>0</td>\n",
       "      <td>0</td>\n",
       "      <td>0</td>\n",
       "      <td>1</td>\n",
       "      <td>0</td>\n",
       "    </tr>\n",
       "    <tr>\n",
       "      <th>4359</th>\n",
       "      <td>-0.900812</td>\n",
       "      <td>1</td>\n",
       "      <td>0</td>\n",
       "      <td>0</td>\n",
       "      <td>0</td>\n",
       "      <td>0</td>\n",
       "      <td>0</td>\n",
       "      <td>0</td>\n",
       "      <td>0</td>\n",
       "      <td>0</td>\n",
       "      <td>0</td>\n",
       "      <td>0</td>\n",
       "      <td>0</td>\n",
       "    </tr>\n",
       "  </tbody>\n",
       "</table>\n",
       "</div>"
      ],
      "text/plain": [
       "      Total Time Spent on Website  Lead Origin_lead add form  \\\n",
       "4269                     0.933036                          0   \n",
       "2376                    -0.900812                          1   \n",
       "7766                    -0.793792                          0   \n",
       "9199                    -0.900812                          0   \n",
       "4359                    -0.900812                          1   \n",
       "\n",
       "      Lead Source_direct traffic  Lead Source_organic search  \\\n",
       "4269                           1                           0   \n",
       "2376                           0                           0   \n",
       "7766                           0                           0   \n",
       "9199                           0                           0   \n",
       "4359                           0                           0   \n",
       "\n",
       "      Lead Source_referral sites  Lead Source_welingak website  \\\n",
       "4269                           0                             0   \n",
       "2376                           0                             0   \n",
       "7766                           0                             0   \n",
       "9199                           0                             0   \n",
       "4359                           0                             0   \n",
       "\n",
       "      Last Activity_email bounced  Last Activity_sms sent  \\\n",
       "4269                            0                       1   \n",
       "2376                            0                       1   \n",
       "7766                            0                       0   \n",
       "9199                            0                       0   \n",
       "4359                            0                       0   \n",
       "\n",
       "      What is your current occupation_housewife  \\\n",
       "4269                                          0   \n",
       "2376                                          0   \n",
       "7766                                          0   \n",
       "9199                                          0   \n",
       "4359                                          0   \n",
       "\n",
       "      What is your current occupation_not provided  \\\n",
       "4269                                             1   \n",
       "2376                                             0   \n",
       "7766                                             0   \n",
       "9199                                             0   \n",
       "4359                                             0   \n",
       "\n",
       "      What is your current occupation_working professional  \\\n",
       "4269                                                  0      \n",
       "2376                                                  0      \n",
       "7766                                                  1      \n",
       "9199                                                  0      \n",
       "4359                                                  0      \n",
       "\n",
       "      Last Notable Activity_modified  Last Notable Activity_unreachable  \n",
       "4269                               0                                  0  \n",
       "2376                               0                                  0  \n",
       "7766                               0                                  1  \n",
       "9199                               1                                  0  \n",
       "4359                               0                                  0  "
      ]
     },
     "execution_count": 241,
     "metadata": {},
     "output_type": "execute_result"
    }
   ],
   "source": [
    "X_test = X_test[col]\n",
    "X_test.head()"
   ]
  },
  {
   "cell_type": "code",
   "execution_count": 242,
   "id": "05f87787",
   "metadata": {},
   "outputs": [],
   "source": [
    "X_test_sm = sm.add_constant(X_test)"
   ]
  },
  {
   "cell_type": "markdown",
   "id": "92161af5",
   "metadata": {},
   "source": [
    "# PREDICTIONS ON TEST SET"
   ]
  },
  {
   "cell_type": "code",
   "execution_count": 243,
   "id": "1a411198",
   "metadata": {},
   "outputs": [],
   "source": [
    "y_test_pred = res.predict(X_test_sm)"
   ]
  },
  {
   "cell_type": "code",
   "execution_count": 244,
   "id": "a435ff41",
   "metadata": {},
   "outputs": [
    {
     "data": {
      "text/plain": [
       "4269    0.449279\n",
       "2376    0.937718\n",
       "7766    0.951107\n",
       "9199    0.094251\n",
       "4359    0.824209\n",
       "9186    0.705538\n",
       "1631    0.600409\n",
       "8963    0.290422\n",
       "8007    0.062122\n",
       "5324    0.521183\n",
       "dtype: float64"
      ]
     },
     "execution_count": 244,
     "metadata": {},
     "output_type": "execute_result"
    }
   ],
   "source": [
    "y_test_pred[:10]"
   ]
  },
  {
   "cell_type": "code",
   "execution_count": 245,
   "id": "c3cd1c8a",
   "metadata": {},
   "outputs": [],
   "source": [
    "# Converting y_pred to a dataframe which is an array\n",
    "y_pred_1 = pd.DataFrame(y_test_pred)"
   ]
  },
  {
   "cell_type": "code",
   "execution_count": 246,
   "id": "7f4f28ad",
   "metadata": {},
   "outputs": [],
   "source": [
    "# Converting y_test to dataframe\n",
    "y_test_df = pd.DataFrame(y_test)"
   ]
  },
  {
   "cell_type": "code",
   "execution_count": 247,
   "id": "9dceb7f7",
   "metadata": {},
   "outputs": [],
   "source": [
    "# Putting CustID to index\n",
    "y_test_df['Prospect ID'] = y_test_df.index"
   ]
  },
  {
   "cell_type": "code",
   "execution_count": 248,
   "id": "10519b2b",
   "metadata": {},
   "outputs": [],
   "source": [
    "# Removing index for both dataframes to append them side by side \n",
    "y_pred_1.reset_index(drop=True, inplace=True)\n",
    "y_test_df.reset_index(drop=True, inplace=True)"
   ]
  },
  {
   "cell_type": "code",
   "execution_count": 249,
   "id": "e2a5bfec",
   "metadata": {},
   "outputs": [],
   "source": [
    "# Appending y_test_df and y_pred_1\n",
    "y_pred_final = pd.concat([y_test_df, y_pred_1],axis=1)"
   ]
  },
  {
   "cell_type": "code",
   "execution_count": 250,
   "id": "a97ed3b1",
   "metadata": {},
   "outputs": [
    {
     "data": {
      "text/html": [
       "<div>\n",
       "<style scoped>\n",
       "    .dataframe tbody tr th:only-of-type {\n",
       "        vertical-align: middle;\n",
       "    }\n",
       "\n",
       "    .dataframe tbody tr th {\n",
       "        vertical-align: top;\n",
       "    }\n",
       "\n",
       "    .dataframe thead th {\n",
       "        text-align: right;\n",
       "    }\n",
       "</style>\n",
       "<table border=\"1\" class=\"dataframe\">\n",
       "  <thead>\n",
       "    <tr style=\"text-align: right;\">\n",
       "      <th></th>\n",
       "      <th>Converted</th>\n",
       "      <th>Prospect ID</th>\n",
       "      <th>0</th>\n",
       "    </tr>\n",
       "  </thead>\n",
       "  <tbody>\n",
       "    <tr>\n",
       "      <th>0</th>\n",
       "      <td>1</td>\n",
       "      <td>4269</td>\n",
       "      <td>0.449279</td>\n",
       "    </tr>\n",
       "    <tr>\n",
       "      <th>1</th>\n",
       "      <td>1</td>\n",
       "      <td>2376</td>\n",
       "      <td>0.937718</td>\n",
       "    </tr>\n",
       "    <tr>\n",
       "      <th>2</th>\n",
       "      <td>1</td>\n",
       "      <td>7766</td>\n",
       "      <td>0.951107</td>\n",
       "    </tr>\n",
       "    <tr>\n",
       "      <th>3</th>\n",
       "      <td>0</td>\n",
       "      <td>9199</td>\n",
       "      <td>0.094251</td>\n",
       "    </tr>\n",
       "    <tr>\n",
       "      <th>4</th>\n",
       "      <td>1</td>\n",
       "      <td>4359</td>\n",
       "      <td>0.824209</td>\n",
       "    </tr>\n",
       "  </tbody>\n",
       "</table>\n",
       "</div>"
      ],
      "text/plain": [
       "   Converted  Prospect ID         0\n",
       "0          1         4269  0.449279\n",
       "1          1         2376  0.937718\n",
       "2          1         7766  0.951107\n",
       "3          0         9199  0.094251\n",
       "4          1         4359  0.824209"
      ]
     },
     "execution_count": 250,
     "metadata": {},
     "output_type": "execute_result"
    }
   ],
   "source": [
    "y_pred_final.head()\n"
   ]
  },
  {
   "cell_type": "code",
   "execution_count": 251,
   "id": "75eaa1e1",
   "metadata": {},
   "outputs": [],
   "source": [
    "# Renaming the column \n",
    "y_pred_final= y_pred_final.rename(columns={ 0 : 'Converted_prob'})"
   ]
  },
  {
   "cell_type": "code",
   "execution_count": 252,
   "id": "1f1a48da",
   "metadata": {},
   "outputs": [],
   "source": [
    "# Rearranging the columns\n",
    "y_pred_final = y_pred_final[['Prospect ID','Converted','Converted_prob']]\n",
    "y_pred_final['Lead_Score'] = y_pred_final.Converted_prob.map( lambda x: round(x*100))"
   ]
  },
  {
   "cell_type": "code",
   "execution_count": 253,
   "id": "a527c4af",
   "metadata": {},
   "outputs": [
    {
     "data": {
      "text/html": [
       "<div>\n",
       "<style scoped>\n",
       "    .dataframe tbody tr th:only-of-type {\n",
       "        vertical-align: middle;\n",
       "    }\n",
       "\n",
       "    .dataframe tbody tr th {\n",
       "        vertical-align: top;\n",
       "    }\n",
       "\n",
       "    .dataframe thead th {\n",
       "        text-align: right;\n",
       "    }\n",
       "</style>\n",
       "<table border=\"1\" class=\"dataframe\">\n",
       "  <thead>\n",
       "    <tr style=\"text-align: right;\">\n",
       "      <th></th>\n",
       "      <th>Prospect ID</th>\n",
       "      <th>Converted</th>\n",
       "      <th>Converted_prob</th>\n",
       "      <th>Lead_Score</th>\n",
       "    </tr>\n",
       "  </thead>\n",
       "  <tbody>\n",
       "    <tr>\n",
       "      <th>0</th>\n",
       "      <td>4269</td>\n",
       "      <td>1</td>\n",
       "      <td>0.449279</td>\n",
       "      <td>45</td>\n",
       "    </tr>\n",
       "    <tr>\n",
       "      <th>1</th>\n",
       "      <td>2376</td>\n",
       "      <td>1</td>\n",
       "      <td>0.937718</td>\n",
       "      <td>94</td>\n",
       "    </tr>\n",
       "    <tr>\n",
       "      <th>2</th>\n",
       "      <td>7766</td>\n",
       "      <td>1</td>\n",
       "      <td>0.951107</td>\n",
       "      <td>95</td>\n",
       "    </tr>\n",
       "    <tr>\n",
       "      <th>3</th>\n",
       "      <td>9199</td>\n",
       "      <td>0</td>\n",
       "      <td>0.094251</td>\n",
       "      <td>9</td>\n",
       "    </tr>\n",
       "    <tr>\n",
       "      <th>4</th>\n",
       "      <td>4359</td>\n",
       "      <td>1</td>\n",
       "      <td>0.824209</td>\n",
       "      <td>82</td>\n",
       "    </tr>\n",
       "  </tbody>\n",
       "</table>\n",
       "</div>"
      ],
      "text/plain": [
       "   Prospect ID  Converted  Converted_prob  Lead_Score\n",
       "0         4269          1        0.449279          45\n",
       "1         2376          1        0.937718          94\n",
       "2         7766          1        0.951107          95\n",
       "3         9199          0        0.094251           9\n",
       "4         4359          1        0.824209          82"
      ]
     },
     "execution_count": 253,
     "metadata": {},
     "output_type": "execute_result"
    }
   ],
   "source": [
    "y_pred_final.head()"
   ]
  },
  {
   "cell_type": "code",
   "execution_count": 254,
   "id": "9df9f939",
   "metadata": {},
   "outputs": [],
   "source": [
    "y_pred_final['final_Predicted'] = y_pred_final.Converted_prob.map(lambda x: 1 if x > 0.3 else 0)"
   ]
  },
  {
   "cell_type": "code",
   "execution_count": 255,
   "id": "b2dca640",
   "metadata": {},
   "outputs": [
    {
     "data": {
      "text/html": [
       "<div>\n",
       "<style scoped>\n",
       "    .dataframe tbody tr th:only-of-type {\n",
       "        vertical-align: middle;\n",
       "    }\n",
       "\n",
       "    .dataframe tbody tr th {\n",
       "        vertical-align: top;\n",
       "    }\n",
       "\n",
       "    .dataframe thead th {\n",
       "        text-align: right;\n",
       "    }\n",
       "</style>\n",
       "<table border=\"1\" class=\"dataframe\">\n",
       "  <thead>\n",
       "    <tr style=\"text-align: right;\">\n",
       "      <th></th>\n",
       "      <th>Prospect ID</th>\n",
       "      <th>Converted</th>\n",
       "      <th>Converted_prob</th>\n",
       "      <th>Lead_Score</th>\n",
       "      <th>final_Predicted</th>\n",
       "    </tr>\n",
       "  </thead>\n",
       "  <tbody>\n",
       "    <tr>\n",
       "      <th>0</th>\n",
       "      <td>4269</td>\n",
       "      <td>1</td>\n",
       "      <td>0.449279</td>\n",
       "      <td>45</td>\n",
       "      <td>1</td>\n",
       "    </tr>\n",
       "    <tr>\n",
       "      <th>1</th>\n",
       "      <td>2376</td>\n",
       "      <td>1</td>\n",
       "      <td>0.937718</td>\n",
       "      <td>94</td>\n",
       "      <td>1</td>\n",
       "    </tr>\n",
       "    <tr>\n",
       "      <th>2</th>\n",
       "      <td>7766</td>\n",
       "      <td>1</td>\n",
       "      <td>0.951107</td>\n",
       "      <td>95</td>\n",
       "      <td>1</td>\n",
       "    </tr>\n",
       "    <tr>\n",
       "      <th>3</th>\n",
       "      <td>9199</td>\n",
       "      <td>0</td>\n",
       "      <td>0.094251</td>\n",
       "      <td>9</td>\n",
       "      <td>0</td>\n",
       "    </tr>\n",
       "    <tr>\n",
       "      <th>4</th>\n",
       "      <td>4359</td>\n",
       "      <td>1</td>\n",
       "      <td>0.824209</td>\n",
       "      <td>82</td>\n",
       "      <td>1</td>\n",
       "    </tr>\n",
       "  </tbody>\n",
       "</table>\n",
       "</div>"
      ],
      "text/plain": [
       "   Prospect ID  Converted  Converted_prob  Lead_Score  final_Predicted\n",
       "0         4269          1        0.449279          45                1\n",
       "1         2376          1        0.937718          94                1\n",
       "2         7766          1        0.951107          95                1\n",
       "3         9199          0        0.094251           9                0\n",
       "4         4359          1        0.824209          82                1"
      ]
     },
     "execution_count": 255,
     "metadata": {},
     "output_type": "execute_result"
    }
   ],
   "source": [
    "y_pred_final.head()"
   ]
  },
  {
   "cell_type": "code",
   "execution_count": 256,
   "id": "6329bc00",
   "metadata": {},
   "outputs": [
    {
     "data": {
      "text/plain": [
       "0.7954545454545454"
      ]
     },
     "execution_count": 256,
     "metadata": {},
     "output_type": "execute_result"
    }
   ],
   "source": [
    "# Let's check the overall accuracy.\n",
    "metrics.accuracy_score(y_pred_final.Converted, y_pred_final.final_Predicted)"
   ]
  },
  {
   "cell_type": "code",
   "execution_count": 257,
   "id": "174c3811",
   "metadata": {},
   "outputs": [
    {
     "data": {
      "text/plain": [
       "array([[1292,  385],\n",
       "       [ 182,  913]], dtype=int64)"
      ]
     },
     "execution_count": 257,
     "metadata": {},
     "output_type": "execute_result"
    }
   ],
   "source": [
    "confusion2 = metrics.confusion_matrix(y_pred_final.Converted, y_pred_final.final_Predicted )\n",
    "confusion2"
   ]
  },
  {
   "cell_type": "code",
   "execution_count": 258,
   "id": "3e2306d9",
   "metadata": {},
   "outputs": [],
   "source": [
    "TP = confusion2[1,1] # true positive \n",
    "TN = confusion2[0,0] # true negatives\n",
    "FP = confusion2[0,1] # false positives\n",
    "FN = confusion2[1,0] # false negatives"
   ]
  },
  {
   "cell_type": "code",
   "execution_count": 259,
   "id": "a6fd402d",
   "metadata": {},
   "outputs": [
    {
     "data": {
      "text/plain": [
       "0.8337899543378996"
      ]
     },
     "execution_count": 259,
     "metadata": {},
     "output_type": "execute_result"
    }
   ],
   "source": [
    "# Let's see the sensitivity of our logistic regression model\n",
    "TP / float(TP+FN)"
   ]
  },
  {
   "cell_type": "code",
   "execution_count": 260,
   "id": "705bae21",
   "metadata": {},
   "outputs": [
    {
     "data": {
      "text/plain": [
       "0.7704233750745378"
      ]
     },
     "execution_count": 260,
     "metadata": {},
     "output_type": "execute_result"
    }
   ],
   "source": [
    "# Let us calculate specificity\n",
    "TN / float(TN+FP)"
   ]
  },
  {
   "cell_type": "code",
   "execution_count": 261,
   "id": "695aff59",
   "metadata": {},
   "outputs": [
    {
     "data": {
      "text/plain": [
       "0.7033898305084746"
      ]
     },
     "execution_count": 261,
     "metadata": {},
     "output_type": "execute_result"
    }
   ],
   "source": [
    "precision_score(y_pred_final.Converted , y_pred_final.final_Predicted)"
   ]
  },
  {
   "cell_type": "code",
   "execution_count": 262,
   "id": "6de1d1bb",
   "metadata": {},
   "outputs": [
    {
     "data": {
      "text/plain": [
       "0.8337899543378996"
      ]
     },
     "execution_count": 262,
     "metadata": {},
     "output_type": "execute_result"
    }
   ],
   "source": [
    "recall_score(y_pred_final.Converted, y_pred_final.final_Predicted)"
   ]
  },
  {
   "cell_type": "markdown",
   "id": "8a4624e2",
   "metadata": {},
   "source": [
    "Insights:\n",
    "After running the model on the Test Data these are the figures we obtain:\n",
    "\n",
    "Accuracy : 79%\n",
    "Sensitivity : 83%\n",
    "Specificity : 77%"
   ]
  },
  {
   "cell_type": "code",
   "execution_count": null,
   "id": "75e996f2",
   "metadata": {},
   "outputs": [],
   "source": [
    "#Final Observation: \n",
    "#Let us compare the values obtained for Train & Test:\n",
    "Train Data: Accuracy : 79% Sensitivity : 83% Specificity : 77%\n",
    "Test Data: Accuracy : 79% Sensitivity : 83% Specificity : 77%"
   ]
  },
  {
   "cell_type": "code",
   "execution_count": null,
   "id": "dd100e08",
   "metadata": {},
   "outputs": [],
   "source": []
  }
 ],
 "metadata": {
  "kernelspec": {
   "display_name": "Python 3 (ipykernel)",
   "language": "python",
   "name": "python3"
  },
  "language_info": {
   "codemirror_mode": {
    "name": "ipython",
    "version": 3
   },
   "file_extension": ".py",
   "mimetype": "text/x-python",
   "name": "python",
   "nbconvert_exporter": "python",
   "pygments_lexer": "ipython3",
   "version": "3.9.12"
  }
 },
 "nbformat": 4,
 "nbformat_minor": 5
}
